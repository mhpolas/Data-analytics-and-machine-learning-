{
  "nbformat": 4,
  "nbformat_minor": 0,
  "metadata": {
    "colab": {
      "provenance": [],
      "collapsed_sections": [],
      "authorship_tag": "ABX9TyMW/BXLXo6G2WtF964hK1F5",
      "include_colab_link": true
    },
    "kernelspec": {
      "name": "python3",
      "display_name": "Python 3"
    },
    "language_info": {
      "name": "python"
    }
  },
  "cells": [
    {
      "cell_type": "markdown",
      "metadata": {
        "id": "view-in-github",
        "colab_type": "text"
      },
      "source": [
        "<a href=\"https://colab.research.google.com/github/mhpolas/Data-science/blob/main/Google_Data_Analytics_Capstone_Case_Study_1.ipynb\" target=\"_parent\"><img src=\"https://colab.research.google.com/assets/colab-badge.svg\" alt=\"Open In Colab\"/></a>"
      ]
    },
    {
      "cell_type": "markdown",
      "source": [
        "# Introduction\n",
        "This is Case Study 1 of google data analytics Capstone course.\n",
        "\n",
        "It will follow the steps of the data analysis process: Ask, prepare, process, analyze, share, and act.\n",
        "Each step will follow its own roadmap with:\n",
        "\n",
        "*   Code, if needed on the step.\n",
        "*   Guiding questions, with answers.\n",
        "*   Key tasks, as a checklist.\n",
        "*   Deliverable, as a checklist.\n",
        "\n",
        "*Exception: Here i will use Python code instead of R language*\n",
        "\n",
        "\n",
        "\n"
      ],
      "metadata": {
        "id": "8tn89fx3A1NR"
      }
    },
    {
      "cell_type": "markdown",
      "source": [
        "# Scenario\n",
        "`***You are a junior data analyst working in the marketing analyst team at Cyclistic, a bike-share company in Chicago. The director of marketing believes the company’s future success depends on maximizing the number of annual memberships. Therefore, your team wants to understand how casual riders and annual members use Cyclistic bikes differently. From these insights, your team will design a new marketing strategy to convert casual riders into annual members. But first, Cyclistic executives must approve your recommendations, so they must be backed up with compelling data insights and professional data visualizations.***`"
      ],
      "metadata": {
        "id": "L7ur2JtJRtwi"
      }
    },
    {
      "cell_type": "markdown",
      "source": [
        "# Ask\n",
        "**Guiding questions:**\n",
        " \n",
        "What is the problem you are trying to solve?\n",
        "\n",
        "* The main goal is to find the best stratige to convert casual riders to  annual members.\n",
        "\n",
        "How can your insights drive business decisions?\n",
        "\n",
        "* The marketing team will use the findings to increase annual members.\n",
        "\n",
        "\n",
        "**Key tasks:** \n",
        "* Identify the business task\n",
        "* Consider key stakeholders\n",
        "\n",
        "**Deliverable**\n",
        "\n",
        "*   A clear statement of the business task\n",
        "\n",
        "\n"
      ],
      "metadata": {
        "id": "ngj4bqZZCia-"
      }
    },
    {
      "cell_type": "markdown",
      "source": [
        "# Prepare\n",
        "In this project i will data from google provided [link](https://divvy-tripdata.s3.amazonaws.com/index.html). The data has been made available by Motivate International Inc. \n",
        "\n",
        "**Guiding questions:**\n",
        "\n",
        "Where is your data located?\n",
        "*   I used data from Motivate International Inc. For this project i have stored data on my pc.\n",
        "\n",
        "How is the data organized?\n",
        " \n",
        "*   The datasets are divided into distinct csv files for each month.\n",
        "\n",
        "Are there issues with bias or credibility in this data? Does your data ROCCC?\n",
        "\n",
        "* As this information is obtained directly by the bike-share company and the population is made up of all of its clients, there are no issues with bias or credibility. the data is accurate, well-organized, complete, up-to-date, and cited.\n",
        "\n",
        "How are you addressing licensing, privacy, security, and accessibility?\n",
        "* The dataset is under the company's own license. The dataset does not contain any more details regarding the cyclists' personal information.\n",
        "\n",
        "How did you verify the data’s integrity?\n",
        "* Each column has the proper data type and all of the files have consistently lebeled columns.\n",
        "\n",
        "How does it help you answer your question?\n",
        "* This will help in answering my question because it can provide insightful perception on the rider's pattern of activity.\n",
        " \n",
        "Are there any problems with the data?\n",
        "\n",
        "* There are some cells that have blank or empty values.\n",
        "\n",
        "**Key tasks**\n",
        "* Download data and store it appropriately.\n",
        "\n",
        "* Identify how it’s organized.\n",
        "\n",
        "* Sort and filter the data.\n",
        "\n",
        "* Determine the credibility of the data\n",
        "\n",
        "**Deliverable** \n",
        "\n",
        "A description of all data sources used\n",
        "* The main data source is 12 months (Between June 2021 and july 2022 ) of riding data provided by the Cicylistic company."
      ],
      "metadata": {
        "id": "ZOGBcq_baxA8"
      }
    },
    {
      "cell_type": "markdown",
      "source": [
        "# Process\n"
      ],
      "metadata": {
        "id": "jCqfgENzY2b3"
      }
    },
    {
      "cell_type": "markdown",
      "source": [
        "Merge 12 months tripdata csv files to one csv file.And save it as tripdata.csv file."
      ],
      "metadata": {
        "id": "Vs2_t5Ulko3F"
      }
    },
    {
      "cell_type": "code",
      "source": [
        "import pandas as pd\n",
        "import numpy as np\n",
        "import math\n",
        "import matplotlib.pyplot as plt\n",
        "import matplotlib as mpl\n",
        "import seaborn as sns\n",
        "import plotly.express as px\n",
        "from datetime import datetime\n",
        "\n"
      ],
      "metadata": {
        "id": "_t7W5PDZoUXT"
      },
      "execution_count": 1,
      "outputs": []
    },
    {
      "cell_type": "code",
      "source": [
        "df=pd.concat(map(pd.read_csv,['202107-divvy-tripdata.csv','202108-divvy-tripdata.csv','202109-divvy-tripdata.csv','202110-divvy-tripdata.csv','202111-divvy-tripdata.csv','202112-divvy-tripdata.csv','202201-divvy-tripdata.csv','202202-divvy-tripdata.csv','202203-divvy-tripdata.csv','202204-divvy-tripdata.csv','202205-divvy-tripdata.csv','202206-divvy-tripdata.csv']), ignore_index=True)\n"
      ],
      "metadata": {
        "id": "-UjKAEpEU2ax"
      },
      "execution_count": null,
      "outputs": []
    },
    {
      "cell_type": "code",
      "source": [
        "df.to_csv('tripdata.csv',index=False)"
      ],
      "metadata": {
        "id": "PK_MKmPpOth_"
      },
      "execution_count": null,
      "outputs": []
    },
    {
      "cell_type": "markdown",
      "source": [
        "\n",
        "## Data cleaning\n",
        "\n",
        "\n"
      ],
      "metadata": {
        "id": "RRxunU0vlCNz"
      }
    },
    {
      "cell_type": "markdown",
      "source": [
        "Removed unnamed colum"
      ],
      "metadata": {
        "id": "XCpDHqH4l8p8"
      }
    },
    {
      "cell_type": "code",
      "source": [
        "df=pd.read_csv('tripdata.csv')\n",
        "df.info()\n",
        "\n"
      ],
      "metadata": {
        "id": "fiQ4g-nndK99"
      },
      "execution_count": null,
      "outputs": []
    },
    {
      "cell_type": "code",
      "source": [
        "df.drop('Unnamed: 0',axis=\"columns\",inplace = True)"
      ],
      "metadata": {
        "id": "C_-C_12HSDZb"
      },
      "execution_count": null,
      "outputs": []
    },
    {
      "cell_type": "code",
      "source": [
        "df.head(5)"
      ],
      "metadata": {
        "id": "3OfaDImZigRZ"
      },
      "execution_count": null,
      "outputs": []
    },
    {
      "cell_type": "markdown",
      "source": [
        "Removed duplicates cell"
      ],
      "metadata": {
        "id": "2C2kEcOOmCFX"
      }
    },
    {
      "cell_type": "code",
      "source": [
        "df.drop_duplicates(inplace = True)\n",
        "df.duplicated(keep=False).sum()"
      ],
      "metadata": {
        "id": "hzUzZaPumK1W"
      },
      "execution_count": null,
      "outputs": []
    },
    {
      "cell_type": "markdown",
      "source": [
        "Remove empty cells"
      ],
      "metadata": {
        "id": "DckMLt-sRJ6x"
      }
    },
    {
      "cell_type": "code",
      "source": [
        "df.dropna(inplace = True)"
      ],
      "metadata": {
        "id": "dXlu1mm-RS4q"
      },
      "execution_count": null,
      "outputs": []
    },
    {
      "cell_type": "markdown",
      "source": [
        "Parsing datetimes columns"
      ],
      "metadata": {
        "id": "VksN8vFasSRR"
      }
    },
    {
      "cell_type": "code",
      "source": [
        "df['started_at']=pd.to_datetime(df['started_at'],format=\"%Y-%m-%d %H:%M:%S\")\n",
        "df['ended_at']=pd.to_datetime(df['ended_at'],format=\"%Y-%m-%d %H:%M:%S\")"
      ],
      "metadata": {
        "id": "rK-cRxJnsfOe"
      },
      "execution_count": null,
      "outputs": []
    },
    {
      "cell_type": "markdown",
      "source": [
        "Total ride time in Minutes"
      ],
      "metadata": {
        "id": "UGh968xUxH92"
      }
    },
    {
      "cell_type": "code",
      "source": [
        "df['total_time_m']=(df['ended_at']-df['started_at'])/np.timedelta64(1, 'm')"
      ],
      "metadata": {
        "id": "Kgw34NNv0ejX"
      },
      "execution_count": null,
      "outputs": []
    },
    {
      "cell_type": "markdown",
      "source": [
        "Separate the year and the month into one column"
      ],
      "metadata": {
        "id": "3fILMpbIK2DT"
      }
    },
    {
      "cell_type": "code",
      "source": [
        "\n",
        "df['year_month']=df['started_at'].dt.strftime('%Y-%m(%b)')\n"
      ],
      "metadata": {
        "id": "7R4u3Wxn-YEV"
      },
      "execution_count": null,
      "outputs": []
    },
    {
      "cell_type": "markdown",
      "source": [
        "Separate the weekday column"
      ],
      "metadata": {
        "id": "2r9m8X8PLN0O"
      }
    },
    {
      "cell_type": "code",
      "source": [
        "df['weekday']=df['ended_at'].dt.strftime('%u-%a')"
      ],
      "metadata": {
        "id": "krNPrztvLLtn"
      },
      "execution_count": null,
      "outputs": []
    },
    {
      "cell_type": "markdown",
      "source": [
        "Separate the start hour column\n"
      ],
      "metadata": {
        "id": "4reWyaOpM6NX"
      }
    },
    {
      "cell_type": "code",
      "source": [
        "df['starthour']=df['ended_at'].dt.strftime('%H')"
      ],
      "metadata": {
        "id": "UT8oq01cNOI5"
      },
      "execution_count": null,
      "outputs": []
    },
    {
      "cell_type": "code",
      "source": [
        "df.head()"
      ],
      "metadata": {
        "id": "YFBsmh-4IubZ"
      },
      "execution_count": null,
      "outputs": []
    },
    {
      "cell_type": "code",
      "source": [
        "\n",
        "df.info()"
      ],
      "metadata": {
        "id": "BGmZN-LDFmg0"
      },
      "execution_count": null,
      "outputs": []
    },
    {
      "cell_type": "markdown",
      "source": [
        "**Saving the result in csv**"
      ],
      "metadata": {
        "id": "opYmJIO9EIRV"
      }
    },
    {
      "cell_type": "code",
      "source": [
        "df.to_csv('tripdata.csv',index=False)"
      ],
      "metadata": {
        "id": "QCvL7DBNKswn"
      },
      "execution_count": null,
      "outputs": []
    },
    {
      "cell_type": "markdown",
      "source": [
        "## Guiding questions\n",
        "\n",
        "**What tools are you choosing and why?**\n",
        "* I'm using python for this project, for two main reasons: Because of the large dataset and to gather experience with the language\n",
        "\n",
        "**Have you ensured your data’s integrity?**\n",
        "\n",
        "* Yes, the data is consistent throughout the columns.\n",
        "\n",
        "**What steps have you taken to ensure that your data is clean?**\n",
        "\n",
        "* First the duplicated values where removed, then the columns where formatted to their correct format.\n",
        "\n",
        "**How can you verify that your data is clean and ready to analyze?**\n",
        "\n",
        "* It can be verified by this notebook.\n",
        "\n",
        "**Have you documented your cleaning process so you can review and share those results?**\n",
        "\n",
        "* Yes, it's all documented in this colab notebook\n",
        "\n",
        "\n",
        "\n",
        "\n"
      ],
      "metadata": {
        "id": "FQXZPvXgESWn"
      }
    },
    {
      "cell_type": "markdown",
      "source": [
        "## Key tasks\n",
        "\n",
        "* Choose your tools.\n",
        "* Transform the data so you can work with it eectively\n",
        "* Document the cleaning process."
      ],
      "metadata": {
        "id": "GIvojYYyF0WG"
      }
    },
    {
      "cell_type": "markdown",
      "source": [
        "## Deliverable\n",
        " Documentation of any cleaning or manipulation of data"
      ],
      "metadata": {
        "id": "fEySCwVHGAYp"
      }
    },
    {
      "cell_type": "markdown",
      "source": [
        "# Analysis"
      ],
      "metadata": {
        "id": "nf9y_eQWLRc2"
      }
    },
    {
      "cell_type": "markdown",
      "source": [
        "Here at first i uploaded Clean dataset to google drive then dircectly load dataset from drive."
      ],
      "metadata": {
        "id": "Lc2G9x42PGxt"
      }
    },
    {
      "cell_type": "code",
      "source": [
        "from google.colab import drive\n",
        "drive.mount('/content/drive')"
      ],
      "metadata": {
        "id": "yejxRjyALWh5",
        "colab": {
          "base_uri": "https://localhost:8080/"
        },
        "outputId": "b70e82c3-5f61-45a8-a126-c88794fb6637"
      },
      "execution_count": 2,
      "outputs": [
        {
          "output_type": "stream",
          "name": "stdout",
          "text": [
            "Mounted at /content/drive\n"
          ]
        }
      ]
    },
    {
      "cell_type": "code",
      "source": [
        "df_cleaned=pd.read_csv('/content/drive/MyDrive/Colab Notebooks/tripdata.csv')\n",
        "\n",
        "df_cleaned.head()"
      ],
      "metadata": {
        "id": "Rg-M8KWRL7SD",
        "colab": {
          "base_uri": "https://localhost:8080/",
          "height": 444
        },
        "outputId": "6eb8285a-a460-4c38-ce1f-0bdd28f230ef"
      },
      "execution_count": 3,
      "outputs": [
        {
          "output_type": "execute_result",
          "data": {
            "text/plain": [
              "            ride_id  rideable_type           started_at             ended_at  \\\n",
              "0  0A1B623926EF4E16    docked_bike  2021-07-02 14:44:36  2021-07-02 15:19:58   \n",
              "1  B2D5583A5A5E76EE   classic_bike  2021-07-07 16:57:42  2021-07-07 17:16:09   \n",
              "2  6F264597DDBF427A   classic_bike  2021-07-25 11:30:55  2021-07-25 11:48:45   \n",
              "3  379B58EAB20E8AA5   classic_bike  2021-07-08 22:08:30  2021-07-08 22:23:32   \n",
              "4  6615C1E4EB08E8FB  electric_bike  2021-07-28 16:08:06  2021-07-28 16:27:09   \n",
              "\n",
              "             start_station_name start_station_id  \\\n",
              "0  Michigan Ave & Washington St            13001   \n",
              "1    California Ave & Cortez St            17660   \n",
              "2          Wabash Ave & 16th St           SL-012   \n",
              "3    California Ave & Cortez St            17660   \n",
              "4    California Ave & Cortez St            17660   \n",
              "\n",
              "                 end_station_name end_station_id  start_lat  start_lng  \\\n",
              "0    Halsted St & North Branch St   KA1504000117  41.883984 -87.624684   \n",
              "1            Wood St & Hubbard St          13432  41.900363 -87.696704   \n",
              "2            Rush St & Hubbard St   KA1503000044  41.860384 -87.625813   \n",
              "3         Carpenter St & Huron St          13196  41.900363 -87.696704   \n",
              "4  Elizabeth (May) St & Fulton St          13197  41.900350 -87.696682   \n",
              "\n",
              "     end_lat    end_lng member_casual weekday  total_time_m    year_month  \\\n",
              "0  41.899368 -87.648480        casual   5-Fri     35.366667  2021-07(Jul)   \n",
              "1  41.889899 -87.671473        casual   3-Wed     18.450000  2021-07(Jul)   \n",
              "2  41.890173 -87.626185        member   7-Sun     17.833333  2021-07(Jul)   \n",
              "3  41.894556 -87.653449        member   4-Thu     15.033333  2021-07(Jul)   \n",
              "4  41.886593 -87.658387        casual   3-Wed     19.050000  2021-07(Jul)   \n",
              "\n",
              "   starthour  \n",
              "0         15  \n",
              "1         17  \n",
              "2         11  \n",
              "3         22  \n",
              "4         16  "
            ],
            "text/html": [
              "\n",
              "  <div id=\"df-93f46a32-e7e6-4708-9115-ce5f335d82d3\">\n",
              "    <div class=\"colab-df-container\">\n",
              "      <div>\n",
              "<style scoped>\n",
              "    .dataframe tbody tr th:only-of-type {\n",
              "        vertical-align: middle;\n",
              "    }\n",
              "\n",
              "    .dataframe tbody tr th {\n",
              "        vertical-align: top;\n",
              "    }\n",
              "\n",
              "    .dataframe thead th {\n",
              "        text-align: right;\n",
              "    }\n",
              "</style>\n",
              "<table border=\"1\" class=\"dataframe\">\n",
              "  <thead>\n",
              "    <tr style=\"text-align: right;\">\n",
              "      <th></th>\n",
              "      <th>ride_id</th>\n",
              "      <th>rideable_type</th>\n",
              "      <th>started_at</th>\n",
              "      <th>ended_at</th>\n",
              "      <th>start_station_name</th>\n",
              "      <th>start_station_id</th>\n",
              "      <th>end_station_name</th>\n",
              "      <th>end_station_id</th>\n",
              "      <th>start_lat</th>\n",
              "      <th>start_lng</th>\n",
              "      <th>end_lat</th>\n",
              "      <th>end_lng</th>\n",
              "      <th>member_casual</th>\n",
              "      <th>weekday</th>\n",
              "      <th>total_time_m</th>\n",
              "      <th>year_month</th>\n",
              "      <th>starthour</th>\n",
              "    </tr>\n",
              "  </thead>\n",
              "  <tbody>\n",
              "    <tr>\n",
              "      <th>0</th>\n",
              "      <td>0A1B623926EF4E16</td>\n",
              "      <td>docked_bike</td>\n",
              "      <td>2021-07-02 14:44:36</td>\n",
              "      <td>2021-07-02 15:19:58</td>\n",
              "      <td>Michigan Ave &amp; Washington St</td>\n",
              "      <td>13001</td>\n",
              "      <td>Halsted St &amp; North Branch St</td>\n",
              "      <td>KA1504000117</td>\n",
              "      <td>41.883984</td>\n",
              "      <td>-87.624684</td>\n",
              "      <td>41.899368</td>\n",
              "      <td>-87.648480</td>\n",
              "      <td>casual</td>\n",
              "      <td>5-Fri</td>\n",
              "      <td>35.366667</td>\n",
              "      <td>2021-07(Jul)</td>\n",
              "      <td>15</td>\n",
              "    </tr>\n",
              "    <tr>\n",
              "      <th>1</th>\n",
              "      <td>B2D5583A5A5E76EE</td>\n",
              "      <td>classic_bike</td>\n",
              "      <td>2021-07-07 16:57:42</td>\n",
              "      <td>2021-07-07 17:16:09</td>\n",
              "      <td>California Ave &amp; Cortez St</td>\n",
              "      <td>17660</td>\n",
              "      <td>Wood St &amp; Hubbard St</td>\n",
              "      <td>13432</td>\n",
              "      <td>41.900363</td>\n",
              "      <td>-87.696704</td>\n",
              "      <td>41.889899</td>\n",
              "      <td>-87.671473</td>\n",
              "      <td>casual</td>\n",
              "      <td>3-Wed</td>\n",
              "      <td>18.450000</td>\n",
              "      <td>2021-07(Jul)</td>\n",
              "      <td>17</td>\n",
              "    </tr>\n",
              "    <tr>\n",
              "      <th>2</th>\n",
              "      <td>6F264597DDBF427A</td>\n",
              "      <td>classic_bike</td>\n",
              "      <td>2021-07-25 11:30:55</td>\n",
              "      <td>2021-07-25 11:48:45</td>\n",
              "      <td>Wabash Ave &amp; 16th St</td>\n",
              "      <td>SL-012</td>\n",
              "      <td>Rush St &amp; Hubbard St</td>\n",
              "      <td>KA1503000044</td>\n",
              "      <td>41.860384</td>\n",
              "      <td>-87.625813</td>\n",
              "      <td>41.890173</td>\n",
              "      <td>-87.626185</td>\n",
              "      <td>member</td>\n",
              "      <td>7-Sun</td>\n",
              "      <td>17.833333</td>\n",
              "      <td>2021-07(Jul)</td>\n",
              "      <td>11</td>\n",
              "    </tr>\n",
              "    <tr>\n",
              "      <th>3</th>\n",
              "      <td>379B58EAB20E8AA5</td>\n",
              "      <td>classic_bike</td>\n",
              "      <td>2021-07-08 22:08:30</td>\n",
              "      <td>2021-07-08 22:23:32</td>\n",
              "      <td>California Ave &amp; Cortez St</td>\n",
              "      <td>17660</td>\n",
              "      <td>Carpenter St &amp; Huron St</td>\n",
              "      <td>13196</td>\n",
              "      <td>41.900363</td>\n",
              "      <td>-87.696704</td>\n",
              "      <td>41.894556</td>\n",
              "      <td>-87.653449</td>\n",
              "      <td>member</td>\n",
              "      <td>4-Thu</td>\n",
              "      <td>15.033333</td>\n",
              "      <td>2021-07(Jul)</td>\n",
              "      <td>22</td>\n",
              "    </tr>\n",
              "    <tr>\n",
              "      <th>4</th>\n",
              "      <td>6615C1E4EB08E8FB</td>\n",
              "      <td>electric_bike</td>\n",
              "      <td>2021-07-28 16:08:06</td>\n",
              "      <td>2021-07-28 16:27:09</td>\n",
              "      <td>California Ave &amp; Cortez St</td>\n",
              "      <td>17660</td>\n",
              "      <td>Elizabeth (May) St &amp; Fulton St</td>\n",
              "      <td>13197</td>\n",
              "      <td>41.900350</td>\n",
              "      <td>-87.696682</td>\n",
              "      <td>41.886593</td>\n",
              "      <td>-87.658387</td>\n",
              "      <td>casual</td>\n",
              "      <td>3-Wed</td>\n",
              "      <td>19.050000</td>\n",
              "      <td>2021-07(Jul)</td>\n",
              "      <td>16</td>\n",
              "    </tr>\n",
              "  </tbody>\n",
              "</table>\n",
              "</div>\n",
              "      <button class=\"colab-df-convert\" onclick=\"convertToInteractive('df-93f46a32-e7e6-4708-9115-ce5f335d82d3')\"\n",
              "              title=\"Convert this dataframe to an interactive table.\"\n",
              "              style=\"display:none;\">\n",
              "        \n",
              "  <svg xmlns=\"http://www.w3.org/2000/svg\" height=\"24px\"viewBox=\"0 0 24 24\"\n",
              "       width=\"24px\">\n",
              "    <path d=\"M0 0h24v24H0V0z\" fill=\"none\"/>\n",
              "    <path d=\"M18.56 5.44l.94 2.06.94-2.06 2.06-.94-2.06-.94-.94-2.06-.94 2.06-2.06.94zm-11 1L8.5 8.5l.94-2.06 2.06-.94-2.06-.94L8.5 2.5l-.94 2.06-2.06.94zm10 10l.94 2.06.94-2.06 2.06-.94-2.06-.94-.94-2.06-.94 2.06-2.06.94z\"/><path d=\"M17.41 7.96l-1.37-1.37c-.4-.4-.92-.59-1.43-.59-.52 0-1.04.2-1.43.59L10.3 9.45l-7.72 7.72c-.78.78-.78 2.05 0 2.83L4 21.41c.39.39.9.59 1.41.59.51 0 1.02-.2 1.41-.59l7.78-7.78 2.81-2.81c.8-.78.8-2.07 0-2.86zM5.41 20L4 18.59l7.72-7.72 1.47 1.35L5.41 20z\"/>\n",
              "  </svg>\n",
              "      </button>\n",
              "      \n",
              "  <style>\n",
              "    .colab-df-container {\n",
              "      display:flex;\n",
              "      flex-wrap:wrap;\n",
              "      gap: 12px;\n",
              "    }\n",
              "\n",
              "    .colab-df-convert {\n",
              "      background-color: #E8F0FE;\n",
              "      border: none;\n",
              "      border-radius: 50%;\n",
              "      cursor: pointer;\n",
              "      display: none;\n",
              "      fill: #1967D2;\n",
              "      height: 32px;\n",
              "      padding: 0 0 0 0;\n",
              "      width: 32px;\n",
              "    }\n",
              "\n",
              "    .colab-df-convert:hover {\n",
              "      background-color: #E2EBFA;\n",
              "      box-shadow: 0px 1px 2px rgba(60, 64, 67, 0.3), 0px 1px 3px 1px rgba(60, 64, 67, 0.15);\n",
              "      fill: #174EA6;\n",
              "    }\n",
              "\n",
              "    [theme=dark] .colab-df-convert {\n",
              "      background-color: #3B4455;\n",
              "      fill: #D2E3FC;\n",
              "    }\n",
              "\n",
              "    [theme=dark] .colab-df-convert:hover {\n",
              "      background-color: #434B5C;\n",
              "      box-shadow: 0px 1px 3px 1px rgba(0, 0, 0, 0.15);\n",
              "      filter: drop-shadow(0px 1px 2px rgba(0, 0, 0, 0.3));\n",
              "      fill: #FFFFFF;\n",
              "    }\n",
              "  </style>\n",
              "\n",
              "      <script>\n",
              "        const buttonEl =\n",
              "          document.querySelector('#df-93f46a32-e7e6-4708-9115-ce5f335d82d3 button.colab-df-convert');\n",
              "        buttonEl.style.display =\n",
              "          google.colab.kernel.accessAllowed ? 'block' : 'none';\n",
              "\n",
              "        async function convertToInteractive(key) {\n",
              "          const element = document.querySelector('#df-93f46a32-e7e6-4708-9115-ce5f335d82d3');\n",
              "          const dataTable =\n",
              "            await google.colab.kernel.invokeFunction('convertToInteractive',\n",
              "                                                     [key], {});\n",
              "          if (!dataTable) return;\n",
              "\n",
              "          const docLinkHtml = 'Like what you see? Visit the ' +\n",
              "            '<a target=\"_blank\" href=https://colab.research.google.com/notebooks/data_table.ipynb>data table notebook</a>'\n",
              "            + ' to learn more about interactive tables.';\n",
              "          element.innerHTML = '';\n",
              "          dataTable['output_type'] = 'display_data';\n",
              "          await google.colab.output.renderOutput(dataTable, element);\n",
              "          const docLink = document.createElement('div');\n",
              "          docLink.innerHTML = docLinkHtml;\n",
              "          element.appendChild(docLink);\n",
              "        }\n",
              "      </script>\n",
              "    </div>\n",
              "  </div>\n",
              "  "
            ]
          },
          "metadata": {},
          "execution_count": 3
        }
      ]
    },
    {
      "cell_type": "markdown",
      "source": [
        "For quick starting let' generate summery Dataset\n"
      ],
      "metadata": {
        "id": "1YzHYRfcnVI_"
      }
    },
    {
      "cell_type": "code",
      "source": [
        "df_cleaned.info()\n",
        "\n"
      ],
      "metadata": {
        "colab": {
          "base_uri": "https://localhost:8080/"
        },
        "id": "RoeRiR5PnJcn",
        "outputId": "a8b535b2-dfa8-484d-a8b1-cf7fefda980c"
      },
      "execution_count": null,
      "outputs": [
        {
          "output_type": "stream",
          "name": "stdout",
          "text": [
            "<class 'pandas.core.frame.DataFrame'>\n",
            "RangeIndex: 5900385 entries, 0 to 5900384\n",
            "Data columns (total 17 columns):\n",
            " #   Column              Dtype  \n",
            "---  ------              -----  \n",
            " 0   ride_id             object \n",
            " 1   rideable_type       object \n",
            " 2   started_at          object \n",
            " 3   ended_at            object \n",
            " 4   start_station_name  object \n",
            " 5   start_station_id    object \n",
            " 6   end_station_name    object \n",
            " 7   end_station_id      object \n",
            " 8   start_lat           float64\n",
            " 9   start_lng           float64\n",
            " 10  end_lat             float64\n",
            " 11  end_lng             float64\n",
            " 12  member_casual       object \n",
            " 13  weekday             object \n",
            " 14  total_time_m        float64\n",
            " 15  year_month          object \n",
            " 16  starthour           int64  \n",
            "dtypes: float64(5), int64(1), object(11)\n",
            "memory usage: 765.3+ MB\n"
          ]
        }
      ]
    },
    {
      "cell_type": "code",
      "source": [
        "df_cleaned.describe()"
      ],
      "metadata": {
        "colab": {
          "base_uri": "https://localhost:8080/",
          "height": 300
        },
        "id": "gkDGwaoU-1bo",
        "outputId": "0acc6820-8fa1-4e38-c667-a88b1f747002"
      },
      "execution_count": null,
      "outputs": [
        {
          "output_type": "execute_result",
          "data": {
            "text/plain": [
              "          start_lat     start_lng       end_lat       end_lng  total_time_m  \\\n",
              "count  5.900385e+06  5.900385e+06  5.895011e+06  5.895011e+06  5.900385e+06   \n",
              "mean   4.190058e+01 -8.764718e+01  4.190083e+01 -8.764736e+01  2.028238e+01   \n",
              "std    4.718767e-02  3.075476e-02  4.727213e-02  3.038059e-02  1.552224e+02   \n",
              "min    4.164000e+01 -8.784000e+01  4.139000e+01 -8.897000e+01 -1.374167e+02   \n",
              "25%    4.188103e+01 -8.766150e+01  4.188103e+01 -8.766154e+01  6.283333e+00   \n",
              "50%    4.189897e+01 -8.764321e+01  4.189993e+01 -8.764335e+01  1.116667e+01   \n",
              "75%    4.192953e+01 -8.762815e+01  4.192955e+01 -8.762858e+01  2.020000e+01   \n",
              "max    4.563503e+01 -7.379648e+01  4.216812e+01 -8.749000e+01  4.910715e+04   \n",
              "\n",
              "          starthour  \n",
              "count  5.900385e+06  \n",
              "mean   1.435618e+01  \n",
              "std    5.132696e+00  \n",
              "min    0.000000e+00  \n",
              "25%    1.100000e+01  \n",
              "50%    1.500000e+01  \n",
              "75%    1.800000e+01  \n",
              "max    2.300000e+01  "
            ],
            "text/html": [
              "\n",
              "  <div id=\"df-c7ab92c7-619e-4423-a2e6-999020de4148\">\n",
              "    <div class=\"colab-df-container\">\n",
              "      <div>\n",
              "<style scoped>\n",
              "    .dataframe tbody tr th:only-of-type {\n",
              "        vertical-align: middle;\n",
              "    }\n",
              "\n",
              "    .dataframe tbody tr th {\n",
              "        vertical-align: top;\n",
              "    }\n",
              "\n",
              "    .dataframe thead th {\n",
              "        text-align: right;\n",
              "    }\n",
              "</style>\n",
              "<table border=\"1\" class=\"dataframe\">\n",
              "  <thead>\n",
              "    <tr style=\"text-align: right;\">\n",
              "      <th></th>\n",
              "      <th>start_lat</th>\n",
              "      <th>start_lng</th>\n",
              "      <th>end_lat</th>\n",
              "      <th>end_lng</th>\n",
              "      <th>total_time_m</th>\n",
              "      <th>starthour</th>\n",
              "    </tr>\n",
              "  </thead>\n",
              "  <tbody>\n",
              "    <tr>\n",
              "      <th>count</th>\n",
              "      <td>5.900385e+06</td>\n",
              "      <td>5.900385e+06</td>\n",
              "      <td>5.895011e+06</td>\n",
              "      <td>5.895011e+06</td>\n",
              "      <td>5.900385e+06</td>\n",
              "      <td>5.900385e+06</td>\n",
              "    </tr>\n",
              "    <tr>\n",
              "      <th>mean</th>\n",
              "      <td>4.190058e+01</td>\n",
              "      <td>-8.764718e+01</td>\n",
              "      <td>4.190083e+01</td>\n",
              "      <td>-8.764736e+01</td>\n",
              "      <td>2.028238e+01</td>\n",
              "      <td>1.435618e+01</td>\n",
              "    </tr>\n",
              "    <tr>\n",
              "      <th>std</th>\n",
              "      <td>4.718767e-02</td>\n",
              "      <td>3.075476e-02</td>\n",
              "      <td>4.727213e-02</td>\n",
              "      <td>3.038059e-02</td>\n",
              "      <td>1.552224e+02</td>\n",
              "      <td>5.132696e+00</td>\n",
              "    </tr>\n",
              "    <tr>\n",
              "      <th>min</th>\n",
              "      <td>4.164000e+01</td>\n",
              "      <td>-8.784000e+01</td>\n",
              "      <td>4.139000e+01</td>\n",
              "      <td>-8.897000e+01</td>\n",
              "      <td>-1.374167e+02</td>\n",
              "      <td>0.000000e+00</td>\n",
              "    </tr>\n",
              "    <tr>\n",
              "      <th>25%</th>\n",
              "      <td>4.188103e+01</td>\n",
              "      <td>-8.766150e+01</td>\n",
              "      <td>4.188103e+01</td>\n",
              "      <td>-8.766154e+01</td>\n",
              "      <td>6.283333e+00</td>\n",
              "      <td>1.100000e+01</td>\n",
              "    </tr>\n",
              "    <tr>\n",
              "      <th>50%</th>\n",
              "      <td>4.189897e+01</td>\n",
              "      <td>-8.764321e+01</td>\n",
              "      <td>4.189993e+01</td>\n",
              "      <td>-8.764335e+01</td>\n",
              "      <td>1.116667e+01</td>\n",
              "      <td>1.500000e+01</td>\n",
              "    </tr>\n",
              "    <tr>\n",
              "      <th>75%</th>\n",
              "      <td>4.192953e+01</td>\n",
              "      <td>-8.762815e+01</td>\n",
              "      <td>4.192955e+01</td>\n",
              "      <td>-8.762858e+01</td>\n",
              "      <td>2.020000e+01</td>\n",
              "      <td>1.800000e+01</td>\n",
              "    </tr>\n",
              "    <tr>\n",
              "      <th>max</th>\n",
              "      <td>4.563503e+01</td>\n",
              "      <td>-7.379648e+01</td>\n",
              "      <td>4.216812e+01</td>\n",
              "      <td>-8.749000e+01</td>\n",
              "      <td>4.910715e+04</td>\n",
              "      <td>2.300000e+01</td>\n",
              "    </tr>\n",
              "  </tbody>\n",
              "</table>\n",
              "</div>\n",
              "      <button class=\"colab-df-convert\" onclick=\"convertToInteractive('df-c7ab92c7-619e-4423-a2e6-999020de4148')\"\n",
              "              title=\"Convert this dataframe to an interactive table.\"\n",
              "              style=\"display:none;\">\n",
              "        \n",
              "  <svg xmlns=\"http://www.w3.org/2000/svg\" height=\"24px\"viewBox=\"0 0 24 24\"\n",
              "       width=\"24px\">\n",
              "    <path d=\"M0 0h24v24H0V0z\" fill=\"none\"/>\n",
              "    <path d=\"M18.56 5.44l.94 2.06.94-2.06 2.06-.94-2.06-.94-.94-2.06-.94 2.06-2.06.94zm-11 1L8.5 8.5l.94-2.06 2.06-.94-2.06-.94L8.5 2.5l-.94 2.06-2.06.94zm10 10l.94 2.06.94-2.06 2.06-.94-2.06-.94-.94-2.06-.94 2.06-2.06.94z\"/><path d=\"M17.41 7.96l-1.37-1.37c-.4-.4-.92-.59-1.43-.59-.52 0-1.04.2-1.43.59L10.3 9.45l-7.72 7.72c-.78.78-.78 2.05 0 2.83L4 21.41c.39.39.9.59 1.41.59.51 0 1.02-.2 1.41-.59l7.78-7.78 2.81-2.81c.8-.78.8-2.07 0-2.86zM5.41 20L4 18.59l7.72-7.72 1.47 1.35L5.41 20z\"/>\n",
              "  </svg>\n",
              "      </button>\n",
              "      \n",
              "  <style>\n",
              "    .colab-df-container {\n",
              "      display:flex;\n",
              "      flex-wrap:wrap;\n",
              "      gap: 12px;\n",
              "    }\n",
              "\n",
              "    .colab-df-convert {\n",
              "      background-color: #E8F0FE;\n",
              "      border: none;\n",
              "      border-radius: 50%;\n",
              "      cursor: pointer;\n",
              "      display: none;\n",
              "      fill: #1967D2;\n",
              "      height: 32px;\n",
              "      padding: 0 0 0 0;\n",
              "      width: 32px;\n",
              "    }\n",
              "\n",
              "    .colab-df-convert:hover {\n",
              "      background-color: #E2EBFA;\n",
              "      box-shadow: 0px 1px 2px rgba(60, 64, 67, 0.3), 0px 1px 3px 1px rgba(60, 64, 67, 0.15);\n",
              "      fill: #174EA6;\n",
              "    }\n",
              "\n",
              "    [theme=dark] .colab-df-convert {\n",
              "      background-color: #3B4455;\n",
              "      fill: #D2E3FC;\n",
              "    }\n",
              "\n",
              "    [theme=dark] .colab-df-convert:hover {\n",
              "      background-color: #434B5C;\n",
              "      box-shadow: 0px 1px 3px 1px rgba(0, 0, 0, 0.15);\n",
              "      filter: drop-shadow(0px 1px 2px rgba(0, 0, 0, 0.3));\n",
              "      fill: #FFFFFF;\n",
              "    }\n",
              "  </style>\n",
              "\n",
              "      <script>\n",
              "        const buttonEl =\n",
              "          document.querySelector('#df-c7ab92c7-619e-4423-a2e6-999020de4148 button.colab-df-convert');\n",
              "        buttonEl.style.display =\n",
              "          google.colab.kernel.accessAllowed ? 'block' : 'none';\n",
              "\n",
              "        async function convertToInteractive(key) {\n",
              "          const element = document.querySelector('#df-c7ab92c7-619e-4423-a2e6-999020de4148');\n",
              "          const dataTable =\n",
              "            await google.colab.kernel.invokeFunction('convertToInteractive',\n",
              "                                                     [key], {});\n",
              "          if (!dataTable) return;\n",
              "\n",
              "          const docLinkHtml = 'Like what you see? Visit the ' +\n",
              "            '<a target=\"_blank\" href=https://colab.research.google.com/notebooks/data_table.ipynb>data table notebook</a>'\n",
              "            + ' to learn more about interactive tables.';\n",
              "          element.innerHTML = '';\n",
              "          dataTable['output_type'] = 'display_data';\n",
              "          await google.colab.output.renderOutput(dataTable, element);\n",
              "          const docLink = document.createElement('div');\n",
              "          docLink.innerHTML = docLinkHtml;\n",
              "          element.appendChild(docLink);\n",
              "        }\n",
              "      </script>\n",
              "    </div>\n",
              "  </div>\n",
              "  "
            ]
          },
          "metadata": {},
          "execution_count": 8
        }
      ]
    },
    {
      "cell_type": "markdown",
      "source": [
        "## Data distribution\n",
        "Here we want to try to answer the most basic questions about how the data is distributed."
      ],
      "metadata": {
        "id": "sHDDBVC7vSSV"
      }
    },
    {
      "cell_type": "markdown",
      "source": [
        "## Casuals vs members\n",
        "How much of the data is about members and how much is about casuals?"
      ],
      "metadata": {
        "id": "CQDofGApvZ_y"
      }
    },
    {
      "cell_type": "code",
      "source": [
        "\n",
        "percentage = round(df_cleaned[\"member_casual\"].value_counts(normalize = True) * 100, 1)\n",
        "percentage\n"
      ],
      "metadata": {
        "id": "FrEChuWVjmby",
        "colab": {
          "base_uri": "https://localhost:8080/"
        },
        "outputId": "97e43aca-9312-40a6-b2c1-5caa5b200ce3"
      },
      "execution_count": null,
      "outputs": [
        {
          "output_type": "execute_result",
          "data": {
            "text/plain": [
              "member    56.6\n",
              "casual    43.4\n",
              "Name: member_casual, dtype: float64"
            ]
          },
          "metadata": {},
          "execution_count": 11
        }
      ]
    },
    {
      "cell_type": "code",
      "source": [
        "total_count=df_cleaned[\"member_casual\"].value_counts()\n",
        "total_count"
      ],
      "metadata": {
        "colab": {
          "base_uri": "https://localhost:8080/"
        },
        "id": "500tExuxkvwX",
        "outputId": "fb99c04e-bf5e-4e05-d16a-99bada5e2731"
      },
      "execution_count": null,
      "outputs": [
        {
          "output_type": "execute_result",
          "data": {
            "text/plain": [
              "member    3342158\n",
              "casual    2558227\n",
              "Name: member_casual, dtype: int64"
            ]
          },
          "metadata": {},
          "execution_count": 16
        }
      ]
    },
    {
      "cell_type": "code",
      "source": [
        "total_time=round(df_cleaned.groupby([\"member_casual\"])['total_time_m'].sum())\n",
        "total_time"
      ],
      "metadata": {
        "colab": {
          "base_uri": "https://localhost:8080/"
        },
        "id": "0w0NJpHjzYW0",
        "outputId": "e335f5de-d47f-4a0e-e5aa-753022333e41"
      },
      "execution_count": null,
      "outputs": [
        {
          "output_type": "execute_result",
          "data": {
            "text/plain": [
              "member_casual\n",
              "casual    76283968.0\n",
              "member    43389886.0\n",
              "Name: total_time_m, dtype: float64"
            ]
          },
          "metadata": {},
          "execution_count": 10
        }
      ]
    },
    {
      "cell_type": "markdown",
      "source": [
        "Lets check the average ride duration by each day for members vs casual rider\n",
        "\n"
      ],
      "metadata": {
        "id": "mQtBPg1M1f4g"
      }
    },
    {
      "cell_type": "code",
      "source": [
        "ride_duration_weekday=df_cleaned.groupby(['member_casual','weekday'],as_index=False)['total_time_m'].mean() \n",
        "ride_duration_weekday      "
      ],
      "metadata": {
        "colab": {
          "base_uri": "https://localhost:8080/",
          "height": 488
        },
        "id": "rBhIMCLI1pxS",
        "outputId": "474fbf8a-6461-4da9-e123-da2fd4026fb4"
      },
      "execution_count": null,
      "outputs": [
        {
          "output_type": "execute_result",
          "data": {
            "text/plain": [
              "   member_casual weekday  total_time_m\n",
              "0         casual   1-Mon     33.419890\n",
              "1         casual   2-Tue     28.647378\n",
              "2         casual   3-Wed     28.636697\n",
              "3         casual   4-Thu     27.094875\n",
              "4         casual   5-Fri     27.529124\n",
              "5         casual   6-Sat     29.445028\n",
              "6         casual   7-Sun     32.944605\n",
              "7         member   1-Mon     12.600851\n",
              "8         member   2-Tue     12.142471\n",
              "9         member   3-Wed     12.312633\n",
              "10        member   4-Thu     12.369537\n",
              "11        member   5-Fri     12.768575\n",
              "12        member   6-Sat     14.450246\n",
              "13        member   7-Sun     14.809176"
            ],
            "text/html": [
              "\n",
              "  <div id=\"df-f0f89c0c-7241-4aaa-87b7-1c0ee725f4dd\">\n",
              "    <div class=\"colab-df-container\">\n",
              "      <div>\n",
              "<style scoped>\n",
              "    .dataframe tbody tr th:only-of-type {\n",
              "        vertical-align: middle;\n",
              "    }\n",
              "\n",
              "    .dataframe tbody tr th {\n",
              "        vertical-align: top;\n",
              "    }\n",
              "\n",
              "    .dataframe thead th {\n",
              "        text-align: right;\n",
              "    }\n",
              "</style>\n",
              "<table border=\"1\" class=\"dataframe\">\n",
              "  <thead>\n",
              "    <tr style=\"text-align: right;\">\n",
              "      <th></th>\n",
              "      <th>member_casual</th>\n",
              "      <th>weekday</th>\n",
              "      <th>total_time_m</th>\n",
              "    </tr>\n",
              "  </thead>\n",
              "  <tbody>\n",
              "    <tr>\n",
              "      <th>0</th>\n",
              "      <td>casual</td>\n",
              "      <td>1-Mon</td>\n",
              "      <td>33.419890</td>\n",
              "    </tr>\n",
              "    <tr>\n",
              "      <th>1</th>\n",
              "      <td>casual</td>\n",
              "      <td>2-Tue</td>\n",
              "      <td>28.647378</td>\n",
              "    </tr>\n",
              "    <tr>\n",
              "      <th>2</th>\n",
              "      <td>casual</td>\n",
              "      <td>3-Wed</td>\n",
              "      <td>28.636697</td>\n",
              "    </tr>\n",
              "    <tr>\n",
              "      <th>3</th>\n",
              "      <td>casual</td>\n",
              "      <td>4-Thu</td>\n",
              "      <td>27.094875</td>\n",
              "    </tr>\n",
              "    <tr>\n",
              "      <th>4</th>\n",
              "      <td>casual</td>\n",
              "      <td>5-Fri</td>\n",
              "      <td>27.529124</td>\n",
              "    </tr>\n",
              "    <tr>\n",
              "      <th>5</th>\n",
              "      <td>casual</td>\n",
              "      <td>6-Sat</td>\n",
              "      <td>29.445028</td>\n",
              "    </tr>\n",
              "    <tr>\n",
              "      <th>6</th>\n",
              "      <td>casual</td>\n",
              "      <td>7-Sun</td>\n",
              "      <td>32.944605</td>\n",
              "    </tr>\n",
              "    <tr>\n",
              "      <th>7</th>\n",
              "      <td>member</td>\n",
              "      <td>1-Mon</td>\n",
              "      <td>12.600851</td>\n",
              "    </tr>\n",
              "    <tr>\n",
              "      <th>8</th>\n",
              "      <td>member</td>\n",
              "      <td>2-Tue</td>\n",
              "      <td>12.142471</td>\n",
              "    </tr>\n",
              "    <tr>\n",
              "      <th>9</th>\n",
              "      <td>member</td>\n",
              "      <td>3-Wed</td>\n",
              "      <td>12.312633</td>\n",
              "    </tr>\n",
              "    <tr>\n",
              "      <th>10</th>\n",
              "      <td>member</td>\n",
              "      <td>4-Thu</td>\n",
              "      <td>12.369537</td>\n",
              "    </tr>\n",
              "    <tr>\n",
              "      <th>11</th>\n",
              "      <td>member</td>\n",
              "      <td>5-Fri</td>\n",
              "      <td>12.768575</td>\n",
              "    </tr>\n",
              "    <tr>\n",
              "      <th>12</th>\n",
              "      <td>member</td>\n",
              "      <td>6-Sat</td>\n",
              "      <td>14.450246</td>\n",
              "    </tr>\n",
              "    <tr>\n",
              "      <th>13</th>\n",
              "      <td>member</td>\n",
              "      <td>7-Sun</td>\n",
              "      <td>14.809176</td>\n",
              "    </tr>\n",
              "  </tbody>\n",
              "</table>\n",
              "</div>\n",
              "      <button class=\"colab-df-convert\" onclick=\"convertToInteractive('df-f0f89c0c-7241-4aaa-87b7-1c0ee725f4dd')\"\n",
              "              title=\"Convert this dataframe to an interactive table.\"\n",
              "              style=\"display:none;\">\n",
              "        \n",
              "  <svg xmlns=\"http://www.w3.org/2000/svg\" height=\"24px\"viewBox=\"0 0 24 24\"\n",
              "       width=\"24px\">\n",
              "    <path d=\"M0 0h24v24H0V0z\" fill=\"none\"/>\n",
              "    <path d=\"M18.56 5.44l.94 2.06.94-2.06 2.06-.94-2.06-.94-.94-2.06-.94 2.06-2.06.94zm-11 1L8.5 8.5l.94-2.06 2.06-.94-2.06-.94L8.5 2.5l-.94 2.06-2.06.94zm10 10l.94 2.06.94-2.06 2.06-.94-2.06-.94-.94-2.06-.94 2.06-2.06.94z\"/><path d=\"M17.41 7.96l-1.37-1.37c-.4-.4-.92-.59-1.43-.59-.52 0-1.04.2-1.43.59L10.3 9.45l-7.72 7.72c-.78.78-.78 2.05 0 2.83L4 21.41c.39.39.9.59 1.41.59.51 0 1.02-.2 1.41-.59l7.78-7.78 2.81-2.81c.8-.78.8-2.07 0-2.86zM5.41 20L4 18.59l7.72-7.72 1.47 1.35L5.41 20z\"/>\n",
              "  </svg>\n",
              "      </button>\n",
              "      \n",
              "  <style>\n",
              "    .colab-df-container {\n",
              "      display:flex;\n",
              "      flex-wrap:wrap;\n",
              "      gap: 12px;\n",
              "    }\n",
              "\n",
              "    .colab-df-convert {\n",
              "      background-color: #E8F0FE;\n",
              "      border: none;\n",
              "      border-radius: 50%;\n",
              "      cursor: pointer;\n",
              "      display: none;\n",
              "      fill: #1967D2;\n",
              "      height: 32px;\n",
              "      padding: 0 0 0 0;\n",
              "      width: 32px;\n",
              "    }\n",
              "\n",
              "    .colab-df-convert:hover {\n",
              "      background-color: #E2EBFA;\n",
              "      box-shadow: 0px 1px 2px rgba(60, 64, 67, 0.3), 0px 1px 3px 1px rgba(60, 64, 67, 0.15);\n",
              "      fill: #174EA6;\n",
              "    }\n",
              "\n",
              "    [theme=dark] .colab-df-convert {\n",
              "      background-color: #3B4455;\n",
              "      fill: #D2E3FC;\n",
              "    }\n",
              "\n",
              "    [theme=dark] .colab-df-convert:hover {\n",
              "      background-color: #434B5C;\n",
              "      box-shadow: 0px 1px 3px 1px rgba(0, 0, 0, 0.15);\n",
              "      filter: drop-shadow(0px 1px 2px rgba(0, 0, 0, 0.3));\n",
              "      fill: #FFFFFF;\n",
              "    }\n",
              "  </style>\n",
              "\n",
              "      <script>\n",
              "        const buttonEl =\n",
              "          document.querySelector('#df-f0f89c0c-7241-4aaa-87b7-1c0ee725f4dd button.colab-df-convert');\n",
              "        buttonEl.style.display =\n",
              "          google.colab.kernel.accessAllowed ? 'block' : 'none';\n",
              "\n",
              "        async function convertToInteractive(key) {\n",
              "          const element = document.querySelector('#df-f0f89c0c-7241-4aaa-87b7-1c0ee725f4dd');\n",
              "          const dataTable =\n",
              "            await google.colab.kernel.invokeFunction('convertToInteractive',\n",
              "                                                     [key], {});\n",
              "          if (!dataTable) return;\n",
              "\n",
              "          const docLinkHtml = 'Like what you see? Visit the ' +\n",
              "            '<a target=\"_blank\" href=https://colab.research.google.com/notebooks/data_table.ipynb>data table notebook</a>'\n",
              "            + ' to learn more about interactive tables.';\n",
              "          element.innerHTML = '';\n",
              "          dataTable['output_type'] = 'display_data';\n",
              "          await google.colab.output.renderOutput(dataTable, element);\n",
              "          const docLink = document.createElement('div');\n",
              "          docLink.innerHTML = docLinkHtml;\n",
              "          element.appendChild(docLink);\n",
              "        }\n",
              "      </script>\n",
              "    </div>\n",
              "  </div>\n",
              "  "
            ]
          },
          "metadata": {},
          "execution_count": 4
        }
      ]
    },
    {
      "cell_type": "markdown",
      "source": [
        "Lets check the average ride duration by Month for members vs casual rider\n",
        "\n",
        "\n",
        "\n"
      ],
      "metadata": {
        "id": "VavtPKyv-GKc"
      }
    },
    {
      "cell_type": "code",
      "source": [
        "ride_duration_month=df_cleaned.groupby(['member_casual','year_month'],as_index=False).total_time_m.mean()  \n",
        "ride_duration_month      "
      ],
      "metadata": {
        "colab": {
          "base_uri": "https://localhost:8080/",
          "height": 802
        },
        "id": "UKjLqfV3_L-b",
        "outputId": "bd330ddb-4e03-4816-b3f8-3486c659ad2c"
      },
      "execution_count": null,
      "outputs": [
        {
          "output_type": "execute_result",
          "data": {
            "text/plain": [
              "   member_casual    year_month  total_time_m\n",
              "0         casual  2021-07(Jul)     32.790172\n",
              "1         casual  2021-08(Aug)     28.786370\n",
              "2         casual  2021-09(Sep)     27.814990\n",
              "3         casual  2021-10(Oct)     28.673969\n",
              "4         casual  2021-11(Nov)     23.113627\n",
              "5         casual  2021-12(Dec)     23.494291\n",
              "6         casual  2022-01(Jan)     30.377455\n",
              "7         casual  2022-02(Feb)     26.708451\n",
              "8         casual  2022-03(Mar)     32.622390\n",
              "9         casual  2022-04(Apr)     29.532427\n",
              "10        casual  2022-05(May)     30.869612\n",
              "11        casual  2022-06(Jun)     32.096975\n",
              "12        member  2021-07(Jul)     14.239318\n",
              "13        member  2021-08(Aug)     14.100812\n",
              "14        member  2021-09(Sep)     13.734457\n",
              "15        member  2021-10(Oct)     12.502069\n",
              "16        member  2021-11(Nov)     11.304730\n",
              "17        member  2021-12(Dec)     11.004939\n",
              "18        member  2022-01(Jan)     11.981510\n",
              "19        member  2022-02(Feb)     11.405529\n",
              "20        member  2022-03(Mar)     11.958329\n",
              "21        member  2022-04(Apr)     11.492404\n",
              "22        member  2022-05(May)     13.366677\n",
              "23        member  2022-06(Jun)     13.998434"
            ],
            "text/html": [
              "\n",
              "  <div id=\"df-5ed33634-110f-46d3-b2ff-21a94b6bc38c\">\n",
              "    <div class=\"colab-df-container\">\n",
              "      <div>\n",
              "<style scoped>\n",
              "    .dataframe tbody tr th:only-of-type {\n",
              "        vertical-align: middle;\n",
              "    }\n",
              "\n",
              "    .dataframe tbody tr th {\n",
              "        vertical-align: top;\n",
              "    }\n",
              "\n",
              "    .dataframe thead th {\n",
              "        text-align: right;\n",
              "    }\n",
              "</style>\n",
              "<table border=\"1\" class=\"dataframe\">\n",
              "  <thead>\n",
              "    <tr style=\"text-align: right;\">\n",
              "      <th></th>\n",
              "      <th>member_casual</th>\n",
              "      <th>year_month</th>\n",
              "      <th>total_time_m</th>\n",
              "    </tr>\n",
              "  </thead>\n",
              "  <tbody>\n",
              "    <tr>\n",
              "      <th>0</th>\n",
              "      <td>casual</td>\n",
              "      <td>2021-07(Jul)</td>\n",
              "      <td>32.790172</td>\n",
              "    </tr>\n",
              "    <tr>\n",
              "      <th>1</th>\n",
              "      <td>casual</td>\n",
              "      <td>2021-08(Aug)</td>\n",
              "      <td>28.786370</td>\n",
              "    </tr>\n",
              "    <tr>\n",
              "      <th>2</th>\n",
              "      <td>casual</td>\n",
              "      <td>2021-09(Sep)</td>\n",
              "      <td>27.814990</td>\n",
              "    </tr>\n",
              "    <tr>\n",
              "      <th>3</th>\n",
              "      <td>casual</td>\n",
              "      <td>2021-10(Oct)</td>\n",
              "      <td>28.673969</td>\n",
              "    </tr>\n",
              "    <tr>\n",
              "      <th>4</th>\n",
              "      <td>casual</td>\n",
              "      <td>2021-11(Nov)</td>\n",
              "      <td>23.113627</td>\n",
              "    </tr>\n",
              "    <tr>\n",
              "      <th>5</th>\n",
              "      <td>casual</td>\n",
              "      <td>2021-12(Dec)</td>\n",
              "      <td>23.494291</td>\n",
              "    </tr>\n",
              "    <tr>\n",
              "      <th>6</th>\n",
              "      <td>casual</td>\n",
              "      <td>2022-01(Jan)</td>\n",
              "      <td>30.377455</td>\n",
              "    </tr>\n",
              "    <tr>\n",
              "      <th>7</th>\n",
              "      <td>casual</td>\n",
              "      <td>2022-02(Feb)</td>\n",
              "      <td>26.708451</td>\n",
              "    </tr>\n",
              "    <tr>\n",
              "      <th>8</th>\n",
              "      <td>casual</td>\n",
              "      <td>2022-03(Mar)</td>\n",
              "      <td>32.622390</td>\n",
              "    </tr>\n",
              "    <tr>\n",
              "      <th>9</th>\n",
              "      <td>casual</td>\n",
              "      <td>2022-04(Apr)</td>\n",
              "      <td>29.532427</td>\n",
              "    </tr>\n",
              "    <tr>\n",
              "      <th>10</th>\n",
              "      <td>casual</td>\n",
              "      <td>2022-05(May)</td>\n",
              "      <td>30.869612</td>\n",
              "    </tr>\n",
              "    <tr>\n",
              "      <th>11</th>\n",
              "      <td>casual</td>\n",
              "      <td>2022-06(Jun)</td>\n",
              "      <td>32.096975</td>\n",
              "    </tr>\n",
              "    <tr>\n",
              "      <th>12</th>\n",
              "      <td>member</td>\n",
              "      <td>2021-07(Jul)</td>\n",
              "      <td>14.239318</td>\n",
              "    </tr>\n",
              "    <tr>\n",
              "      <th>13</th>\n",
              "      <td>member</td>\n",
              "      <td>2021-08(Aug)</td>\n",
              "      <td>14.100812</td>\n",
              "    </tr>\n",
              "    <tr>\n",
              "      <th>14</th>\n",
              "      <td>member</td>\n",
              "      <td>2021-09(Sep)</td>\n",
              "      <td>13.734457</td>\n",
              "    </tr>\n",
              "    <tr>\n",
              "      <th>15</th>\n",
              "      <td>member</td>\n",
              "      <td>2021-10(Oct)</td>\n",
              "      <td>12.502069</td>\n",
              "    </tr>\n",
              "    <tr>\n",
              "      <th>16</th>\n",
              "      <td>member</td>\n",
              "      <td>2021-11(Nov)</td>\n",
              "      <td>11.304730</td>\n",
              "    </tr>\n",
              "    <tr>\n",
              "      <th>17</th>\n",
              "      <td>member</td>\n",
              "      <td>2021-12(Dec)</td>\n",
              "      <td>11.004939</td>\n",
              "    </tr>\n",
              "    <tr>\n",
              "      <th>18</th>\n",
              "      <td>member</td>\n",
              "      <td>2022-01(Jan)</td>\n",
              "      <td>11.981510</td>\n",
              "    </tr>\n",
              "    <tr>\n",
              "      <th>19</th>\n",
              "      <td>member</td>\n",
              "      <td>2022-02(Feb)</td>\n",
              "      <td>11.405529</td>\n",
              "    </tr>\n",
              "    <tr>\n",
              "      <th>20</th>\n",
              "      <td>member</td>\n",
              "      <td>2022-03(Mar)</td>\n",
              "      <td>11.958329</td>\n",
              "    </tr>\n",
              "    <tr>\n",
              "      <th>21</th>\n",
              "      <td>member</td>\n",
              "      <td>2022-04(Apr)</td>\n",
              "      <td>11.492404</td>\n",
              "    </tr>\n",
              "    <tr>\n",
              "      <th>22</th>\n",
              "      <td>member</td>\n",
              "      <td>2022-05(May)</td>\n",
              "      <td>13.366677</td>\n",
              "    </tr>\n",
              "    <tr>\n",
              "      <th>23</th>\n",
              "      <td>member</td>\n",
              "      <td>2022-06(Jun)</td>\n",
              "      <td>13.998434</td>\n",
              "    </tr>\n",
              "  </tbody>\n",
              "</table>\n",
              "</div>\n",
              "      <button class=\"colab-df-convert\" onclick=\"convertToInteractive('df-5ed33634-110f-46d3-b2ff-21a94b6bc38c')\"\n",
              "              title=\"Convert this dataframe to an interactive table.\"\n",
              "              style=\"display:none;\">\n",
              "        \n",
              "  <svg xmlns=\"http://www.w3.org/2000/svg\" height=\"24px\"viewBox=\"0 0 24 24\"\n",
              "       width=\"24px\">\n",
              "    <path d=\"M0 0h24v24H0V0z\" fill=\"none\"/>\n",
              "    <path d=\"M18.56 5.44l.94 2.06.94-2.06 2.06-.94-2.06-.94-.94-2.06-.94 2.06-2.06.94zm-11 1L8.5 8.5l.94-2.06 2.06-.94-2.06-.94L8.5 2.5l-.94 2.06-2.06.94zm10 10l.94 2.06.94-2.06 2.06-.94-2.06-.94-.94-2.06-.94 2.06-2.06.94z\"/><path d=\"M17.41 7.96l-1.37-1.37c-.4-.4-.92-.59-1.43-.59-.52 0-1.04.2-1.43.59L10.3 9.45l-7.72 7.72c-.78.78-.78 2.05 0 2.83L4 21.41c.39.39.9.59 1.41.59.51 0 1.02-.2 1.41-.59l7.78-7.78 2.81-2.81c.8-.78.8-2.07 0-2.86zM5.41 20L4 18.59l7.72-7.72 1.47 1.35L5.41 20z\"/>\n",
              "  </svg>\n",
              "      </button>\n",
              "      \n",
              "  <style>\n",
              "    .colab-df-container {\n",
              "      display:flex;\n",
              "      flex-wrap:wrap;\n",
              "      gap: 12px;\n",
              "    }\n",
              "\n",
              "    .colab-df-convert {\n",
              "      background-color: #E8F0FE;\n",
              "      border: none;\n",
              "      border-radius: 50%;\n",
              "      cursor: pointer;\n",
              "      display: none;\n",
              "      fill: #1967D2;\n",
              "      height: 32px;\n",
              "      padding: 0 0 0 0;\n",
              "      width: 32px;\n",
              "    }\n",
              "\n",
              "    .colab-df-convert:hover {\n",
              "      background-color: #E2EBFA;\n",
              "      box-shadow: 0px 1px 2px rgba(60, 64, 67, 0.3), 0px 1px 3px 1px rgba(60, 64, 67, 0.15);\n",
              "      fill: #174EA6;\n",
              "    }\n",
              "\n",
              "    [theme=dark] .colab-df-convert {\n",
              "      background-color: #3B4455;\n",
              "      fill: #D2E3FC;\n",
              "    }\n",
              "\n",
              "    [theme=dark] .colab-df-convert:hover {\n",
              "      background-color: #434B5C;\n",
              "      box-shadow: 0px 1px 3px 1px rgba(0, 0, 0, 0.15);\n",
              "      filter: drop-shadow(0px 1px 2px rgba(0, 0, 0, 0.3));\n",
              "      fill: #FFFFFF;\n",
              "    }\n",
              "  </style>\n",
              "\n",
              "      <script>\n",
              "        const buttonEl =\n",
              "          document.querySelector('#df-5ed33634-110f-46d3-b2ff-21a94b6bc38c button.colab-df-convert');\n",
              "        buttonEl.style.display =\n",
              "          google.colab.kernel.accessAllowed ? 'block' : 'none';\n",
              "\n",
              "        async function convertToInteractive(key) {\n",
              "          const element = document.querySelector('#df-5ed33634-110f-46d3-b2ff-21a94b6bc38c');\n",
              "          const dataTable =\n",
              "            await google.colab.kernel.invokeFunction('convertToInteractive',\n",
              "                                                     [key], {});\n",
              "          if (!dataTable) return;\n",
              "\n",
              "          const docLinkHtml = 'Like what you see? Visit the ' +\n",
              "            '<a target=\"_blank\" href=https://colab.research.google.com/notebooks/data_table.ipynb>data table notebook</a>'\n",
              "            + ' to learn more about interactive tables.';\n",
              "          element.innerHTML = '';\n",
              "          dataTable['output_type'] = 'display_data';\n",
              "          await google.colab.output.renderOutput(dataTable, element);\n",
              "          const docLink = document.createElement('div');\n",
              "          docLink.innerHTML = docLinkHtml;\n",
              "          element.appendChild(docLink);\n",
              "        }\n",
              "      </script>\n",
              "    </div>\n",
              "  </div>\n",
              "  "
            ]
          },
          "metadata": {},
          "execution_count": 7
        }
      ]
    },
    {
      "cell_type": "markdown",
      "source": [
        "Lets check the Ride number by month for members vs casual rider\n"
      ],
      "metadata": {
        "id": "xgVz8VkOK5tO"
      }
    },
    {
      "cell_type": "code",
      "source": [
        "ride_number_month=df_cleaned.groupby(['member_casual','year_month'],as_index=False).agg({'ride_id':'count'})\n",
        "ride_number_month"
      ],
      "metadata": {
        "colab": {
          "base_uri": "https://localhost:8080/",
          "height": 802
        },
        "id": "SIYzs3tiLE6M",
        "outputId": "d9a28241-e9a0-4905-ceb3-69be0fc8cc86"
      },
      "execution_count": 15,
      "outputs": [
        {
          "output_type": "execute_result",
          "data": {
            "text/plain": [
              "   member_casual    year_month  ride_id\n",
              "0         casual  2021-07(Jul)   442056\n",
              "1         casual  2021-08(Aug)   412671\n",
              "2         casual  2021-09(Sep)   363890\n",
              "3         casual  2021-10(Oct)   257242\n",
              "4         casual  2021-11(Nov)   106929\n",
              "5         casual  2021-12(Dec)    69738\n",
              "6         casual  2022-01(Jan)    18520\n",
              "7         casual  2022-02(Feb)    21416\n",
              "8         casual  2022-03(Mar)    89882\n",
              "9         casual  2022-04(Apr)   126417\n",
              "10        casual  2022-05(May)   280415\n",
              "11        casual  2022-06(Jun)   369051\n",
              "12        member  2021-07(Jul)   380354\n",
              "13        member  2021-08(Aug)   391681\n",
              "14        member  2021-09(Sep)   392257\n",
              "15        member  2021-10(Oct)   373984\n",
              "16        member  2021-11(Nov)   253049\n",
              "17        member  2021-12(Dec)   177802\n",
              "18        member  2022-01(Jan)    85250\n",
              "19        member  2022-02(Feb)    94193\n",
              "20        member  2022-03(Mar)   194160\n",
              "21        member  2022-04(Apr)   244832\n",
              "22        member  2022-05(May)   354443\n",
              "23        member  2022-06(Jun)   400153"
            ],
            "text/html": [
              "\n",
              "  <div id=\"df-b7289344-19ad-41c9-85ce-abc7d44e2a21\">\n",
              "    <div class=\"colab-df-container\">\n",
              "      <div>\n",
              "<style scoped>\n",
              "    .dataframe tbody tr th:only-of-type {\n",
              "        vertical-align: middle;\n",
              "    }\n",
              "\n",
              "    .dataframe tbody tr th {\n",
              "        vertical-align: top;\n",
              "    }\n",
              "\n",
              "    .dataframe thead th {\n",
              "        text-align: right;\n",
              "    }\n",
              "</style>\n",
              "<table border=\"1\" class=\"dataframe\">\n",
              "  <thead>\n",
              "    <tr style=\"text-align: right;\">\n",
              "      <th></th>\n",
              "      <th>member_casual</th>\n",
              "      <th>year_month</th>\n",
              "      <th>ride_id</th>\n",
              "    </tr>\n",
              "  </thead>\n",
              "  <tbody>\n",
              "    <tr>\n",
              "      <th>0</th>\n",
              "      <td>casual</td>\n",
              "      <td>2021-07(Jul)</td>\n",
              "      <td>442056</td>\n",
              "    </tr>\n",
              "    <tr>\n",
              "      <th>1</th>\n",
              "      <td>casual</td>\n",
              "      <td>2021-08(Aug)</td>\n",
              "      <td>412671</td>\n",
              "    </tr>\n",
              "    <tr>\n",
              "      <th>2</th>\n",
              "      <td>casual</td>\n",
              "      <td>2021-09(Sep)</td>\n",
              "      <td>363890</td>\n",
              "    </tr>\n",
              "    <tr>\n",
              "      <th>3</th>\n",
              "      <td>casual</td>\n",
              "      <td>2021-10(Oct)</td>\n",
              "      <td>257242</td>\n",
              "    </tr>\n",
              "    <tr>\n",
              "      <th>4</th>\n",
              "      <td>casual</td>\n",
              "      <td>2021-11(Nov)</td>\n",
              "      <td>106929</td>\n",
              "    </tr>\n",
              "    <tr>\n",
              "      <th>5</th>\n",
              "      <td>casual</td>\n",
              "      <td>2021-12(Dec)</td>\n",
              "      <td>69738</td>\n",
              "    </tr>\n",
              "    <tr>\n",
              "      <th>6</th>\n",
              "      <td>casual</td>\n",
              "      <td>2022-01(Jan)</td>\n",
              "      <td>18520</td>\n",
              "    </tr>\n",
              "    <tr>\n",
              "      <th>7</th>\n",
              "      <td>casual</td>\n",
              "      <td>2022-02(Feb)</td>\n",
              "      <td>21416</td>\n",
              "    </tr>\n",
              "    <tr>\n",
              "      <th>8</th>\n",
              "      <td>casual</td>\n",
              "      <td>2022-03(Mar)</td>\n",
              "      <td>89882</td>\n",
              "    </tr>\n",
              "    <tr>\n",
              "      <th>9</th>\n",
              "      <td>casual</td>\n",
              "      <td>2022-04(Apr)</td>\n",
              "      <td>126417</td>\n",
              "    </tr>\n",
              "    <tr>\n",
              "      <th>10</th>\n",
              "      <td>casual</td>\n",
              "      <td>2022-05(May)</td>\n",
              "      <td>280415</td>\n",
              "    </tr>\n",
              "    <tr>\n",
              "      <th>11</th>\n",
              "      <td>casual</td>\n",
              "      <td>2022-06(Jun)</td>\n",
              "      <td>369051</td>\n",
              "    </tr>\n",
              "    <tr>\n",
              "      <th>12</th>\n",
              "      <td>member</td>\n",
              "      <td>2021-07(Jul)</td>\n",
              "      <td>380354</td>\n",
              "    </tr>\n",
              "    <tr>\n",
              "      <th>13</th>\n",
              "      <td>member</td>\n",
              "      <td>2021-08(Aug)</td>\n",
              "      <td>391681</td>\n",
              "    </tr>\n",
              "    <tr>\n",
              "      <th>14</th>\n",
              "      <td>member</td>\n",
              "      <td>2021-09(Sep)</td>\n",
              "      <td>392257</td>\n",
              "    </tr>\n",
              "    <tr>\n",
              "      <th>15</th>\n",
              "      <td>member</td>\n",
              "      <td>2021-10(Oct)</td>\n",
              "      <td>373984</td>\n",
              "    </tr>\n",
              "    <tr>\n",
              "      <th>16</th>\n",
              "      <td>member</td>\n",
              "      <td>2021-11(Nov)</td>\n",
              "      <td>253049</td>\n",
              "    </tr>\n",
              "    <tr>\n",
              "      <th>17</th>\n",
              "      <td>member</td>\n",
              "      <td>2021-12(Dec)</td>\n",
              "      <td>177802</td>\n",
              "    </tr>\n",
              "    <tr>\n",
              "      <th>18</th>\n",
              "      <td>member</td>\n",
              "      <td>2022-01(Jan)</td>\n",
              "      <td>85250</td>\n",
              "    </tr>\n",
              "    <tr>\n",
              "      <th>19</th>\n",
              "      <td>member</td>\n",
              "      <td>2022-02(Feb)</td>\n",
              "      <td>94193</td>\n",
              "    </tr>\n",
              "    <tr>\n",
              "      <th>20</th>\n",
              "      <td>member</td>\n",
              "      <td>2022-03(Mar)</td>\n",
              "      <td>194160</td>\n",
              "    </tr>\n",
              "    <tr>\n",
              "      <th>21</th>\n",
              "      <td>member</td>\n",
              "      <td>2022-04(Apr)</td>\n",
              "      <td>244832</td>\n",
              "    </tr>\n",
              "    <tr>\n",
              "      <th>22</th>\n",
              "      <td>member</td>\n",
              "      <td>2022-05(May)</td>\n",
              "      <td>354443</td>\n",
              "    </tr>\n",
              "    <tr>\n",
              "      <th>23</th>\n",
              "      <td>member</td>\n",
              "      <td>2022-06(Jun)</td>\n",
              "      <td>400153</td>\n",
              "    </tr>\n",
              "  </tbody>\n",
              "</table>\n",
              "</div>\n",
              "      <button class=\"colab-df-convert\" onclick=\"convertToInteractive('df-b7289344-19ad-41c9-85ce-abc7d44e2a21')\"\n",
              "              title=\"Convert this dataframe to an interactive table.\"\n",
              "              style=\"display:none;\">\n",
              "        \n",
              "  <svg xmlns=\"http://www.w3.org/2000/svg\" height=\"24px\"viewBox=\"0 0 24 24\"\n",
              "       width=\"24px\">\n",
              "    <path d=\"M0 0h24v24H0V0z\" fill=\"none\"/>\n",
              "    <path d=\"M18.56 5.44l.94 2.06.94-2.06 2.06-.94-2.06-.94-.94-2.06-.94 2.06-2.06.94zm-11 1L8.5 8.5l.94-2.06 2.06-.94-2.06-.94L8.5 2.5l-.94 2.06-2.06.94zm10 10l.94 2.06.94-2.06 2.06-.94-2.06-.94-.94-2.06-.94 2.06-2.06.94z\"/><path d=\"M17.41 7.96l-1.37-1.37c-.4-.4-.92-.59-1.43-.59-.52 0-1.04.2-1.43.59L10.3 9.45l-7.72 7.72c-.78.78-.78 2.05 0 2.83L4 21.41c.39.39.9.59 1.41.59.51 0 1.02-.2 1.41-.59l7.78-7.78 2.81-2.81c.8-.78.8-2.07 0-2.86zM5.41 20L4 18.59l7.72-7.72 1.47 1.35L5.41 20z\"/>\n",
              "  </svg>\n",
              "      </button>\n",
              "      \n",
              "  <style>\n",
              "    .colab-df-container {\n",
              "      display:flex;\n",
              "      flex-wrap:wrap;\n",
              "      gap: 12px;\n",
              "    }\n",
              "\n",
              "    .colab-df-convert {\n",
              "      background-color: #E8F0FE;\n",
              "      border: none;\n",
              "      border-radius: 50%;\n",
              "      cursor: pointer;\n",
              "      display: none;\n",
              "      fill: #1967D2;\n",
              "      height: 32px;\n",
              "      padding: 0 0 0 0;\n",
              "      width: 32px;\n",
              "    }\n",
              "\n",
              "    .colab-df-convert:hover {\n",
              "      background-color: #E2EBFA;\n",
              "      box-shadow: 0px 1px 2px rgba(60, 64, 67, 0.3), 0px 1px 3px 1px rgba(60, 64, 67, 0.15);\n",
              "      fill: #174EA6;\n",
              "    }\n",
              "\n",
              "    [theme=dark] .colab-df-convert {\n",
              "      background-color: #3B4455;\n",
              "      fill: #D2E3FC;\n",
              "    }\n",
              "\n",
              "    [theme=dark] .colab-df-convert:hover {\n",
              "      background-color: #434B5C;\n",
              "      box-shadow: 0px 1px 3px 1px rgba(0, 0, 0, 0.15);\n",
              "      filter: drop-shadow(0px 1px 2px rgba(0, 0, 0, 0.3));\n",
              "      fill: #FFFFFF;\n",
              "    }\n",
              "  </style>\n",
              "\n",
              "      <script>\n",
              "        const buttonEl =\n",
              "          document.querySelector('#df-b7289344-19ad-41c9-85ce-abc7d44e2a21 button.colab-df-convert');\n",
              "        buttonEl.style.display =\n",
              "          google.colab.kernel.accessAllowed ? 'block' : 'none';\n",
              "\n",
              "        async function convertToInteractive(key) {\n",
              "          const element = document.querySelector('#df-b7289344-19ad-41c9-85ce-abc7d44e2a21');\n",
              "          const dataTable =\n",
              "            await google.colab.kernel.invokeFunction('convertToInteractive',\n",
              "                                                     [key], {});\n",
              "          if (!dataTable) return;\n",
              "\n",
              "          const docLinkHtml = 'Like what you see? Visit the ' +\n",
              "            '<a target=\"_blank\" href=https://colab.research.google.com/notebooks/data_table.ipynb>data table notebook</a>'\n",
              "            + ' to learn more about interactive tables.';\n",
              "          element.innerHTML = '';\n",
              "          dataTable['output_type'] = 'display_data';\n",
              "          await google.colab.output.renderOutput(dataTable, element);\n",
              "          const docLink = document.createElement('div');\n",
              "          docLink.innerHTML = docLinkHtml;\n",
              "          element.appendChild(docLink);\n",
              "        }\n",
              "      </script>\n",
              "    </div>\n",
              "  </div>\n",
              "  "
            ]
          },
          "metadata": {},
          "execution_count": 15
        }
      ]
    },
    {
      "cell_type": "markdown",
      "source": [
        "Lets check the number of bike type for members vs casual rider\n",
        "\n",
        "\n"
      ],
      "metadata": {
        "id": "DURYLlADFsL_"
      }
    },
    {
      "cell_type": "code",
      "source": [
        "bike_type=df_cleaned.groupby(['member_casual','rideable_type'],as_index=False).agg({'ride_id':'count'})\n",
        "bike_type     "
      ],
      "metadata": {
        "colab": {
          "base_uri": "https://localhost:8080/",
          "height": 206
        },
        "id": "b6z7zzJwHA8S",
        "outputId": "3895654c-f42a-497e-ff2f-9a71d7e265e3"
      },
      "execution_count": 6,
      "outputs": [
        {
          "output_type": "execute_result",
          "data": {
            "text/plain": [
              "  member_casual  rideable_type  ride_id\n",
              "0        casual   classic_bike  1218286\n",
              "1        casual    docked_bike   253371\n",
              "2        casual  electric_bike  1086570\n",
              "3        member   classic_bike  1971091\n",
              "4        member  electric_bike  1371067"
            ],
            "text/html": [
              "\n",
              "  <div id=\"df-8731f816-7baf-4ec8-8853-e9571e6220c0\">\n",
              "    <div class=\"colab-df-container\">\n",
              "      <div>\n",
              "<style scoped>\n",
              "    .dataframe tbody tr th:only-of-type {\n",
              "        vertical-align: middle;\n",
              "    }\n",
              "\n",
              "    .dataframe tbody tr th {\n",
              "        vertical-align: top;\n",
              "    }\n",
              "\n",
              "    .dataframe thead th {\n",
              "        text-align: right;\n",
              "    }\n",
              "</style>\n",
              "<table border=\"1\" class=\"dataframe\">\n",
              "  <thead>\n",
              "    <tr style=\"text-align: right;\">\n",
              "      <th></th>\n",
              "      <th>member_casual</th>\n",
              "      <th>rideable_type</th>\n",
              "      <th>ride_id</th>\n",
              "    </tr>\n",
              "  </thead>\n",
              "  <tbody>\n",
              "    <tr>\n",
              "      <th>0</th>\n",
              "      <td>casual</td>\n",
              "      <td>classic_bike</td>\n",
              "      <td>1218286</td>\n",
              "    </tr>\n",
              "    <tr>\n",
              "      <th>1</th>\n",
              "      <td>casual</td>\n",
              "      <td>docked_bike</td>\n",
              "      <td>253371</td>\n",
              "    </tr>\n",
              "    <tr>\n",
              "      <th>2</th>\n",
              "      <td>casual</td>\n",
              "      <td>electric_bike</td>\n",
              "      <td>1086570</td>\n",
              "    </tr>\n",
              "    <tr>\n",
              "      <th>3</th>\n",
              "      <td>member</td>\n",
              "      <td>classic_bike</td>\n",
              "      <td>1971091</td>\n",
              "    </tr>\n",
              "    <tr>\n",
              "      <th>4</th>\n",
              "      <td>member</td>\n",
              "      <td>electric_bike</td>\n",
              "      <td>1371067</td>\n",
              "    </tr>\n",
              "  </tbody>\n",
              "</table>\n",
              "</div>\n",
              "      <button class=\"colab-df-convert\" onclick=\"convertToInteractive('df-8731f816-7baf-4ec8-8853-e9571e6220c0')\"\n",
              "              title=\"Convert this dataframe to an interactive table.\"\n",
              "              style=\"display:none;\">\n",
              "        \n",
              "  <svg xmlns=\"http://www.w3.org/2000/svg\" height=\"24px\"viewBox=\"0 0 24 24\"\n",
              "       width=\"24px\">\n",
              "    <path d=\"M0 0h24v24H0V0z\" fill=\"none\"/>\n",
              "    <path d=\"M18.56 5.44l.94 2.06.94-2.06 2.06-.94-2.06-.94-.94-2.06-.94 2.06-2.06.94zm-11 1L8.5 8.5l.94-2.06 2.06-.94-2.06-.94L8.5 2.5l-.94 2.06-2.06.94zm10 10l.94 2.06.94-2.06 2.06-.94-2.06-.94-.94-2.06-.94 2.06-2.06.94z\"/><path d=\"M17.41 7.96l-1.37-1.37c-.4-.4-.92-.59-1.43-.59-.52 0-1.04.2-1.43.59L10.3 9.45l-7.72 7.72c-.78.78-.78 2.05 0 2.83L4 21.41c.39.39.9.59 1.41.59.51 0 1.02-.2 1.41-.59l7.78-7.78 2.81-2.81c.8-.78.8-2.07 0-2.86zM5.41 20L4 18.59l7.72-7.72 1.47 1.35L5.41 20z\"/>\n",
              "  </svg>\n",
              "      </button>\n",
              "      \n",
              "  <style>\n",
              "    .colab-df-container {\n",
              "      display:flex;\n",
              "      flex-wrap:wrap;\n",
              "      gap: 12px;\n",
              "    }\n",
              "\n",
              "    .colab-df-convert {\n",
              "      background-color: #E8F0FE;\n",
              "      border: none;\n",
              "      border-radius: 50%;\n",
              "      cursor: pointer;\n",
              "      display: none;\n",
              "      fill: #1967D2;\n",
              "      height: 32px;\n",
              "      padding: 0 0 0 0;\n",
              "      width: 32px;\n",
              "    }\n",
              "\n",
              "    .colab-df-convert:hover {\n",
              "      background-color: #E2EBFA;\n",
              "      box-shadow: 0px 1px 2px rgba(60, 64, 67, 0.3), 0px 1px 3px 1px rgba(60, 64, 67, 0.15);\n",
              "      fill: #174EA6;\n",
              "    }\n",
              "\n",
              "    [theme=dark] .colab-df-convert {\n",
              "      background-color: #3B4455;\n",
              "      fill: #D2E3FC;\n",
              "    }\n",
              "\n",
              "    [theme=dark] .colab-df-convert:hover {\n",
              "      background-color: #434B5C;\n",
              "      box-shadow: 0px 1px 3px 1px rgba(0, 0, 0, 0.15);\n",
              "      filter: drop-shadow(0px 1px 2px rgba(0, 0, 0, 0.3));\n",
              "      fill: #FFFFFF;\n",
              "    }\n",
              "  </style>\n",
              "\n",
              "      <script>\n",
              "        const buttonEl =\n",
              "          document.querySelector('#df-8731f816-7baf-4ec8-8853-e9571e6220c0 button.colab-df-convert');\n",
              "        buttonEl.style.display =\n",
              "          google.colab.kernel.accessAllowed ? 'block' : 'none';\n",
              "\n",
              "        async function convertToInteractive(key) {\n",
              "          const element = document.querySelector('#df-8731f816-7baf-4ec8-8853-e9571e6220c0');\n",
              "          const dataTable =\n",
              "            await google.colab.kernel.invokeFunction('convertToInteractive',\n",
              "                                                     [key], {});\n",
              "          if (!dataTable) return;\n",
              "\n",
              "          const docLinkHtml = 'Like what you see? Visit the ' +\n",
              "            '<a target=\"_blank\" href=https://colab.research.google.com/notebooks/data_table.ipynb>data table notebook</a>'\n",
              "            + ' to learn more about interactive tables.';\n",
              "          element.innerHTML = '';\n",
              "          dataTable['output_type'] = 'display_data';\n",
              "          await google.colab.output.renderOutput(dataTable, element);\n",
              "          const docLink = document.createElement('div');\n",
              "          docLink.innerHTML = docLinkHtml;\n",
              "          element.appendChild(docLink);\n",
              "        }\n",
              "      </script>\n",
              "    </div>\n",
              "  </div>\n",
              "  "
            ]
          },
          "metadata": {},
          "execution_count": 6
        }
      ]
    },
    {
      "cell_type": "markdown",
      "source": [
        "## Guiding Question\n",
        "**How should you organize your data to perform analysis on it?**\n",
        " \n",
        "*   The data has been organized into a single CSV concatenating all the files from the dataset.\n",
        "\n",
        "\n",
        "**Has your data been properly formatted?**\n",
        "*   Yes, all the columns have their correct data type.\n",
        "\n",
        "\n",
        "\n",
        "**What surprises did you discover in the data?**\n",
        "The difference in ride length between casual & member riders.\n",
        "\n",
        "\n",
        "**What trends or relationships did you find in the data?**\n",
        "\n",
        "\n",
        "There are more data points in the last semester of 2020.\n",
        "\n",
        "*   There are more members than casuals in the dataset.\n",
        "*   Members have less riding time than casual\n",
        "*   Members are do not prefer docked bikes.\n",
        "*   In the months of january and february riders ara significantly less than others month of the year.\n",
        "\n",
        "\n",
        "**How will these insights help answer your business questions?**\n",
        "*   This insights helps to build a profile for riders type and setup a effective marketing campaign."
      ],
      "metadata": {
        "id": "QAZLrYkfLvH9"
      }
    },
    {
      "cell_type": "markdown",
      "source": [
        "# Share"
      ],
      "metadata": {
        "id": "VJTF_DkdW6U2"
      }
    },
    {
      "cell_type": "markdown",
      "source": [
        "**From our analysis we will visualize some findings.**"
      ],
      "metadata": {
        "id": "0EJ3O65dmT3L"
      }
    },
    {
      "cell_type": "code",
      "source": [
        "labels=['members','casuals']\n",
        "fig = plt.figure(figsize =(10, 7))\n",
        "plt.pie(percentage,labels =labels,autopct = \"%0.1f%%\")\n",
        "plt.legend()\n",
        "plt.show()\n"
      ],
      "metadata": {
        "colab": {
          "base_uri": "https://localhost:8080/",
          "height": 411
        },
        "id": "xyC4Py-5mS6o",
        "outputId": "f00a4f6b-29c6-46d6-eb4a-81c9aea02fe8"
      },
      "execution_count": null,
      "outputs": [
        {
          "output_type": "display_data",
          "data": {
            "text/plain": [
              "<Figure size 720x504 with 1 Axes>"
            ],
            "image/png": "[encoded data removed]"
          },
          "metadata": {}
        }
      ]
    },
    {
      "cell_type": "markdown",
      "source": [
        "From Abobe piechart we can clearly see that among rider group \"members\" are more than \"casual\" ."
      ],
      "metadata": {
        "id": "zRiTw4Y2sZ0q"
      }
    },
    {
      "cell_type": "code",
      "source": [
        "fig=plt.figure(figsize=(10,7))\n",
        "plt.pie(total_time,labels=['casual','member'], autopct=\"%0.1f%%\")\n",
        "plt.legend()\n",
        "plt.show()"
      ],
      "metadata": {
        "colab": {
          "base_uri": "https://localhost:8080/",
          "height": 411
        },
        "id": "1_Knc38Rxn0w",
        "outputId": "fe1090aa-2cc8-43d8-be77-3a9fd98517f4"
      },
      "execution_count": null,
      "outputs": [
        {
          "output_type": "display_data",
          "data": {
            "text/plain": [
              "<Figure size 720x504 with 1 Axes>"
            ],
            "image/png": "[encoded data removed]"
          },
          "metadata": {}
        }
      ]
    },
    {
      "cell_type": "markdown",
      "source": [
        "From Abobe piechart we can clearly see that in the terms of time duration among rider group \"casual\" are more than \"member\" ."
      ],
      "metadata": {
        "id": "L0-auLPz4WzJ"
      }
    },
    {
      "cell_type": "code",
      "source": [
        "fig = plt.figure(figsize =(10, 7))\n",
        "sns.barplot(x='weekday', y='total_time_m', hue = 'member_casual', data=ride_duration_weekday)\n",
        "plt.title(\"Average Ride duration Member vs Casual \")\n",
        "plt.xlabel(\"Day of Week\")\n",
        "plt.ylabel(\"Average Ride Length\")\n",
        "plt.show()"
      ],
      "metadata": {
        "colab": {
          "base_uri": "https://localhost:8080/",
          "height": 458
        },
        "id": "g0HUdviqoFqw",
        "outputId": "56383262-5261-4f87-d65a-75cdd160511b"
      },
      "execution_count": null,
      "outputs": [
        {
          "output_type": "display_data",
          "data": {
            "text/plain": [
              "<Figure size 720x504 with 1 Axes>"
            ],
            "image/png": "[encoded data removed]"
          },
          "metadata": {
            "needs_background": "light"
          }
        }
      ]
    },
    {
      "cell_type": "markdown",
      "source": [
        "The avobe figure shows that throughout the whole week, casual riders outweigh member riders.As well as we can notice casual riders ride duration longer in weekend compared to weekday.On the other hand member ride groups ride time duration higher in  sat and sunday compared to others day."
      ],
      "metadata": {
        "id": "qj2V6BaCHDsf"
      }
    },
    {
      "cell_type": "code",
      "source": [
        "px.bar(ride_duration_month,x='year_month',y='total_time_m',\n",
        "       color=\"member_casual\",\n",
        "       barmode='group',\n",
        "       labels = {'total_time_m': 'Average Ride Length in minutes', 'member_casual': 'Member/Casual', 'year_month': 'Months (July 2021 - June 2022)'},\n",
        "       hover_name = 'member_casual', hover_data = {'member_casual': False, 'total_time_m': True}, \n",
        "       text = round(ride_duration_month['total_time_m'],1)\n",
        "        \n",
        "       )"
      ],
      "metadata": {
        "id": "KuUlIt2GJg4l",
        "colab": {
          "base_uri": "https://localhost:8080/",
          "height": 542
        },
        "outputId": "a1764154-aaf6-4d09-99d8-4196bc00aaac"
      },
      "execution_count": null,
      "outputs": [
        {
          "output_type": "display_data",
          "data": {
            "text/html": [
              "<html>\n",
              "<head><meta charset=\"utf-8\" /></head>\n",
              "<body>\n",
              "    <div>            <script src=\"https://cdnjs.cloudflare.com/ajax/libs/mathjax/2.7.5/MathJax.js?config=TeX-AMS-MML_SVG\"></script><script type=\"text/javascript\">if (window.MathJax) {MathJax.Hub.Config({SVG: {font: \"STIX-Web\"}});}</script>                <script type=\"text/javascript\">window.PlotlyConfig = {MathJaxConfig: 'local'};</script>\n",
              "        <script src=\"https://cdn.plot.ly/plotly-2.8.3.min.js\"></script>                <div id=\"6f151e18-a98e-4714-b420-055f76d7d2d9\" class=\"plotly-graph-div\" style=\"height:525px; width:100%;\"></div>            <script type=\"text/javascript\">                                    window.PLOTLYENV=window.PLOTLYENV || {};                                    if (document.getElementById(\"6f151e18-a98e-4714-b420-055f76d7d2d9\")) {                    Plotly.newPlot(                        \"6f151e18-a98e-4714-b420-055f76d7d2d9\",                        [{\"alignmentgroup\":\"True\",\"customdata\":[[\"casual\"],[\"casual\"],[\"casual\"],[\"casual\"],[\"casual\"],[\"casual\"],[\"casual\"],[\"casual\"],[\"casual\"],[\"casual\"],[\"casual\"],[\"casual\"]],\"hovertemplate\":\"<b>%{hovertext}</b><br><br>Months (July 2021 - June 2022)=%{x}<br>Average Ride Length in minutes=%{y}<br>text=%{text}<extra></extra>\",\"hovertext\":[\"casual\",\"casual\",\"casual\",\"casual\",\"casual\",\"casual\",\"casual\",\"casual\",\"casual\",\"casual\",\"casual\",\"casual\"],\"legendgroup\":\"casual\",\"marker\":{\"color\":\"#636efa\",\"pattern\":{\"shape\":\"\"}},\"name\":\"casual\",\"offsetgroup\":\"casual\",\"orientation\":\"v\",\"showlegend\":true,\"text\":[32.8,28.8,27.8,28.7,23.1,23.5,30.4,26.7,32.6,29.5,30.9,32.1],\"textposition\":\"auto\",\"x\":[\"2021-07(Jul)\",\"2021-08(Aug)\",\"2021-09(Sep)\",\"2021-10(Oct)\",\"2021-11(Nov)\",\"2021-12(Dec)\",\"2022-01(Jan)\",\"2022-02(Feb)\",\"2022-03(Mar)\",\"2022-04(Apr)\",\"2022-05(May)\",\"2022-06(Jun)\"],\"xaxis\":\"x\",\"y\":[32.790172021945935,28.786369569624874,27.814990290105985,28.67396919372938,23.11362726669098,23.49429077403998,30.377455003599714,26.708450846718964,32.62239046750184,29.532427073363024,30.869611706458876,32.09697521480771],\"yaxis\":\"y\",\"type\":\"bar\"},{\"alignmentgroup\":\"True\",\"customdata\":[[\"member\"],[\"member\"],[\"member\"],[\"member\"],[\"member\"],[\"member\"],[\"member\"],[\"member\"],[\"member\"],[\"member\"],[\"member\"],[\"member\"]],\"hovertemplate\":\"<b>%{hovertext}</b><br><br>Months (July 2021 - June 2022)=%{x}<br>Average Ride Length in minutes=%{y}<br>text=%{text}<extra></extra>\",\"hovertext\":[\"member\",\"member\",\"member\",\"member\",\"member\",\"member\",\"member\",\"member\",\"member\",\"member\",\"member\",\"member\"],\"legendgroup\":\"member\",\"marker\":{\"color\":\"#EF553B\",\"pattern\":{\"shape\":\"\"}},\"name\":\"member\",\"offsetgroup\":\"member\",\"orientation\":\"v\",\"showlegend\":true,\"text\":[14.2,14.1,13.7,12.5,11.3,11.0,12.0,11.4,12.0,11.5,13.4,14.0],\"textposition\":\"auto\",\"x\":[\"2021-07(Jul)\",\"2021-08(Aug)\",\"2021-09(Sep)\",\"2021-10(Oct)\",\"2021-11(Nov)\",\"2021-12(Dec)\",\"2022-01(Jan)\",\"2022-02(Feb)\",\"2022-03(Mar)\",\"2022-04(Apr)\",\"2022-05(May)\",\"2022-06(Jun)\"],\"xaxis\":\"x\",\"y\":[14.239318240376072,14.100812480904953,13.734456619002337,12.502068760517385,11.30472971637904,11.004939108296496,11.981509872922777,11.405529427169038,11.958328869660761,11.492404111118372,13.366676870470005,13.998433890703472],\"yaxis\":\"y\",\"type\":\"bar\"}],                        {\"template\":{\"data\":{\"bar\":[{\"error_x\":{\"color\":\"#2a3f5f\"},\"error_y\":{\"color\":\"#2a3f5f\"},\"marker\":{\"line\":{\"color\":\"#E5ECF6\",\"width\":0.5},\"pattern\":{\"fillmode\":\"overlay\",\"size\":10,\"solidity\":0.2}},\"type\":\"bar\"}],\"barpolar\":[{\"marker\":{\"line\":{\"color\":\"#E5ECF6\",\"width\":0.5},\"pattern\":{\"fillmode\":\"overlay\",\"size\":10,\"solidity\":0.2}},\"type\":\"barpolar\"}],\"carpet\":[{\"aaxis\":{\"endlinecolor\":\"#2a3f5f\",\"gridcolor\":\"white\",\"linecolor\":\"white\",\"minorgridcolor\":\"white\",\"startlinecolor\":\"#2a3f5f\"},\"baxis\":{\"endlinecolor\":\"#2a3f5f\",\"gridcolor\":\"white\",\"linecolor\":\"white\",\"minorgridcolor\":\"white\",\"startlinecolor\":\"#2a3f5f\"},\"type\":\"carpet\"}],\"choropleth\":[{\"colorbar\":{\"outlinewidth\":0,\"ticks\":\"\"},\"type\":\"choropleth\"}],\"contour\":[{\"colorbar\":{\"outlinewidth\":0,\"ticks\":\"\"},\"colorscale\":[[0.0,\"#0d0887\"],[0.1111111111111111,\"#46039f\"],[0.2222222222222222,\"#7201a8\"],[0.3333333333333333,\"#9c179e\"],[0.4444444444444444,\"#bd3786\"],[0.5555555555555556,\"#d8576b\"],[0.6666666666666666,\"#ed7953\"],[0.7777777777777778,\"#fb9f3a\"],[0.8888888888888888,\"#fdca26\"],[1.0,\"#f0f921\"]],\"type\":\"contour\"}],\"contourcarpet\":[{\"colorbar\":{\"outlinewidth\":0,\"ticks\":\"\"},\"type\":\"contourcarpet\"}],\"heatmap\":[{\"colorbar\":{\"outlinewidth\":0,\"ticks\":\"\"},\"colorscale\":[[0.0,\"#0d0887\"],[0.1111111111111111,\"#46039f\"],[0.2222222222222222,\"#7201a8\"],[0.3333333333333333,\"#9c179e\"],[0.4444444444444444,\"#bd3786\"],[0.5555555555555556,\"#d8576b\"],[0.6666666666666666,\"#ed7953\"],[0.7777777777777778,\"#fb9f3a\"],[0.8888888888888888,\"#fdca26\"],[1.0,\"#f0f921\"]],\"type\":\"heatmap\"}],\"heatmapgl\":[{\"colorbar\":{\"outlinewidth\":0,\"ticks\":\"\"},\"colorscale\":[[0.0,\"#0d0887\"],[0.1111111111111111,\"#46039f\"],[0.2222222222222222,\"#7201a8\"],[0.3333333333333333,\"#9c179e\"],[0.4444444444444444,\"#bd3786\"],[0.5555555555555556,\"#d8576b\"],[0.6666666666666666,\"#ed7953\"],[0.7777777777777778,\"#fb9f3a\"],[0.8888888888888888,\"#fdca26\"],[1.0,\"#f0f921\"]],\"type\":\"heatmapgl\"}],\"histogram\":[{\"marker\":{\"pattern\":{\"fillmode\":\"overlay\",\"size\":10,\"solidity\":0.2}},\"type\":\"histogram\"}],\"histogram2d\":[{\"colorbar\":{\"outlinewidth\":0,\"ticks\":\"\"},\"colorscale\":[[0.0,\"#0d0887\"],[0.1111111111111111,\"#46039f\"],[0.2222222222222222,\"#7201a8\"],[0.3333333333333333,\"#9c179e\"],[0.4444444444444444,\"#bd3786\"],[0.5555555555555556,\"#d8576b\"],[0.6666666666666666,\"#ed7953\"],[0.7777777777777778,\"#fb9f3a\"],[0.8888888888888888,\"#fdca26\"],[1.0,\"#f0f921\"]],\"type\":\"histogram2d\"}],\"histogram2dcontour\":[{\"colorbar\":{\"outlinewidth\":0,\"ticks\":\"\"},\"colorscale\":[[0.0,\"#0d0887\"],[0.1111111111111111,\"#46039f\"],[0.2222222222222222,\"#7201a8\"],[0.3333333333333333,\"#9c179e\"],[0.4444444444444444,\"#bd3786\"],[0.5555555555555556,\"#d8576b\"],[0.6666666666666666,\"#ed7953\"],[0.7777777777777778,\"#fb9f3a\"],[0.8888888888888888,\"#fdca26\"],[1.0,\"#f0f921\"]],\"type\":\"histogram2dcontour\"}],\"mesh3d\":[{\"colorbar\":{\"outlinewidth\":0,\"ticks\":\"\"},\"type\":\"mesh3d\"}],\"parcoords\":[{\"line\":{\"colorbar\":{\"outlinewidth\":0,\"ticks\":\"\"}},\"type\":\"parcoords\"}],\"pie\":[{\"automargin\":true,\"type\":\"pie\"}],\"scatter\":[{\"marker\":{\"colorbar\":{\"outlinewidth\":0,\"ticks\":\"\"}},\"type\":\"scatter\"}],\"scatter3d\":[{\"line\":{\"colorbar\":{\"outlinewidth\":0,\"ticks\":\"\"}},\"marker\":{\"colorbar\":{\"outlinewidth\":0,\"ticks\":\"\"}},\"type\":\"scatter3d\"}],\"scattercarpet\":[{\"marker\":{\"colorbar\":{\"outlinewidth\":0,\"ticks\":\"\"}},\"type\":\"scattercarpet\"}],\"scattergeo\":[{\"marker\":{\"colorbar\":{\"outlinewidth\":0,\"ticks\":\"\"}},\"type\":\"scattergeo\"}],\"scattergl\":[{\"marker\":{\"colorbar\":{\"outlinewidth\":0,\"ticks\":\"\"}},\"type\":\"scattergl\"}],\"scattermapbox\":[{\"marker\":{\"colorbar\":{\"outlinewidth\":0,\"ticks\":\"\"}},\"type\":\"scattermapbox\"}],\"scatterpolar\":[{\"marker\":{\"colorbar\":{\"outlinewidth\":0,\"ticks\":\"\"}},\"type\":\"scatterpolar\"}],\"scatterpolargl\":[{\"marker\":{\"colorbar\":{\"outlinewidth\":0,\"ticks\":\"\"}},\"type\":\"scatterpolargl\"}],\"scatterternary\":[{\"marker\":{\"colorbar\":{\"outlinewidth\":0,\"ticks\":\"\"}},\"type\":\"scatterternary\"}],\"surface\":[{\"colorbar\":{\"outlinewidth\":0,\"ticks\":\"\"},\"colorscale\":[[0.0,\"#0d0887\"],[0.1111111111111111,\"#46039f\"],[0.2222222222222222,\"#7201a8\"],[0.3333333333333333,\"#9c179e\"],[0.4444444444444444,\"#bd3786\"],[0.5555555555555556,\"#d8576b\"],[0.6666666666666666,\"#ed7953\"],[0.7777777777777778,\"#fb9f3a\"],[0.8888888888888888,\"#fdca26\"],[1.0,\"#f0f921\"]],\"type\":\"surface\"}],\"table\":[{\"cells\":{\"fill\":{\"color\":\"#EBF0F8\"},\"line\":{\"color\":\"white\"}},\"header\":{\"fill\":{\"color\":\"#C8D4E3\"},\"line\":{\"color\":\"white\"}},\"type\":\"table\"}]},\"layout\":{\"annotationdefaults\":{\"arrowcolor\":\"#2a3f5f\",\"arrowhead\":0,\"arrowwidth\":1},\"autotypenumbers\":\"strict\",\"coloraxis\":{\"colorbar\":{\"outlinewidth\":0,\"ticks\":\"\"}},\"colorscale\":{\"diverging\":[[0,\"#8e0152\"],[0.1,\"#c51b7d\"],[0.2,\"#de77ae\"],[0.3,\"#f1b6da\"],[0.4,\"#fde0ef\"],[0.5,\"#f7f7f7\"],[0.6,\"#e6f5d0\"],[0.7,\"#b8e186\"],[0.8,\"#7fbc41\"],[0.9,\"#4d9221\"],[1,\"#276419\"]],\"sequential\":[[0.0,\"#0d0887\"],[0.1111111111111111,\"#46039f\"],[0.2222222222222222,\"#7201a8\"],[0.3333333333333333,\"#9c179e\"],[0.4444444444444444,\"#bd3786\"],[0.5555555555555556,\"#d8576b\"],[0.6666666666666666,\"#ed7953\"],[0.7777777777777778,\"#fb9f3a\"],[0.8888888888888888,\"#fdca26\"],[1.0,\"#f0f921\"]],\"sequentialminus\":[[0.0,\"#0d0887\"],[0.1111111111111111,\"#46039f\"],[0.2222222222222222,\"#7201a8\"],[0.3333333333333333,\"#9c179e\"],[0.4444444444444444,\"#bd3786\"],[0.5555555555555556,\"#d8576b\"],[0.6666666666666666,\"#ed7953\"],[0.7777777777777778,\"#fb9f3a\"],[0.8888888888888888,\"#fdca26\"],[1.0,\"#f0f921\"]]},\"colorway\":[\"#636efa\",\"#EF553B\",\"#00cc96\",\"#ab63fa\",\"#FFA15A\",\"#19d3f3\",\"#FF6692\",\"#B6E880\",\"#FF97FF\",\"#FECB52\"],\"font\":{\"color\":\"#2a3f5f\"},\"geo\":{\"bgcolor\":\"white\",\"lakecolor\":\"white\",\"landcolor\":\"#E5ECF6\",\"showlakes\":true,\"showland\":true,\"subunitcolor\":\"white\"},\"hoverlabel\":{\"align\":\"left\"},\"hovermode\":\"closest\",\"mapbox\":{\"style\":\"light\"},\"paper_bgcolor\":\"white\",\"plot_bgcolor\":\"#E5ECF6\",\"polar\":{\"angularaxis\":{\"gridcolor\":\"white\",\"linecolor\":\"white\",\"ticks\":\"\"},\"bgcolor\":\"#E5ECF6\",\"radialaxis\":{\"gridcolor\":\"white\",\"linecolor\":\"white\",\"ticks\":\"\"}},\"scene\":{\"xaxis\":{\"backgroundcolor\":\"#E5ECF6\",\"gridcolor\":\"white\",\"gridwidth\":2,\"linecolor\":\"white\",\"showbackground\":true,\"ticks\":\"\",\"zerolinecolor\":\"white\"},\"yaxis\":{\"backgroundcolor\":\"#E5ECF6\",\"gridcolor\":\"white\",\"gridwidth\":2,\"linecolor\":\"white\",\"showbackground\":true,\"ticks\":\"\",\"zerolinecolor\":\"white\"},\"zaxis\":{\"backgroundcolor\":\"#E5ECF6\",\"gridcolor\":\"white\",\"gridwidth\":2,\"linecolor\":\"white\",\"showbackground\":true,\"ticks\":\"\",\"zerolinecolor\":\"white\"}},\"shapedefaults\":{\"line\":{\"color\":\"#2a3f5f\"}},\"ternary\":{\"aaxis\":{\"gridcolor\":\"white\",\"linecolor\":\"white\",\"ticks\":\"\"},\"baxis\":{\"gridcolor\":\"white\",\"linecolor\":\"white\",\"ticks\":\"\"},\"bgcolor\":\"#E5ECF6\",\"caxis\":{\"gridcolor\":\"white\",\"linecolor\":\"white\",\"ticks\":\"\"}},\"title\":{\"x\":0.05},\"xaxis\":{\"automargin\":true,\"gridcolor\":\"white\",\"linecolor\":\"white\",\"ticks\":\"\",\"title\":{\"standoff\":15},\"zerolinecolor\":\"white\",\"zerolinewidth\":2},\"yaxis\":{\"automargin\":true,\"gridcolor\":\"white\",\"linecolor\":\"white\",\"ticks\":\"\",\"title\":{\"standoff\":15},\"zerolinecolor\":\"white\",\"zerolinewidth\":2}}},\"xaxis\":{\"anchor\":\"y\",\"domain\":[0.0,1.0],\"title\":{\"text\":\"Months (July 2021 - June 2022)\"}},\"yaxis\":{\"anchor\":\"x\",\"domain\":[0.0,1.0],\"title\":{\"text\":\"Average Ride Length in minutes\"}},\"legend\":{\"title\":{\"text\":\"Member/Casual\"},\"tracegroupgap\":0},\"margin\":{\"t\":60},\"barmode\":\"group\"},                        {\"responsive\": true}                    ).then(function(){\n",
              "                            \n",
              "var gd = document.getElementById('6f151e18-a98e-4714-b420-055f76d7d2d9');\n",
              "var x = new MutationObserver(function (mutations, observer) {{\n",
              "        var display = window.getComputedStyle(gd).display;\n",
              "        if (!display || display === 'none') {{\n",
              "            console.log([gd, 'removed!']);\n",
              "            Plotly.purge(gd);\n",
              "            observer.disconnect();\n",
              "        }}\n",
              "}});\n",
              "\n",
              "// Listen for the removal of the full notebook cells\n",
              "var notebookContainer = gd.closest('#notebook-container');\n",
              "if (notebookContainer) {{\n",
              "    x.observe(notebookContainer, {childList: true});\n",
              "}}\n",
              "\n",
              "// Listen for the clearing of the current output cell\n",
              "var outputEl = gd.closest('.output');\n",
              "if (outputEl) {{\n",
              "    x.observe(outputEl, {childList: true});\n",
              "}}\n",
              "\n",
              "                        })                };                            </script>        </div>\n",
              "</body>\n",
              "</html>"
            ]
          },
          "metadata": {}
        }
      ]
    },
    {
      "cell_type": "markdown",
      "source": [
        "According to the avobe bar chart, the average ride duration of casual riders is longer than that of members on a monthly basis.The maximum and minumum ride duration of casual rider is 32.8m and 23.1m . On the other hand  the average ride duration of member riders are much lower than casual memeber.On average It's maximum ride duration is 14.2m in monthly."
      ],
      "metadata": {
        "id": "6jCNxFO6dHlQ"
      }
    },
    {
      "cell_type": "code",
      "source": [
        "px.bar(bike_type,x='rideable_type',y=\"ride_id\",\n",
        "       barmode='group',\n",
        "       color=\"member_casual\",\n",
        "       text=\"ride_id\",\n",
        "       labels={'rideable_type': 'Bike Type','ride_id':'Number of rides','member_casual':'Member/Casual'},\n",
        "       hover_name = 'member_casual', hover_data = {'member_casual': False}\n",
        "       )"
      ],
      "metadata": {
        "colab": {
          "base_uri": "https://localhost:8080/",
          "height": 542
        },
        "id": "Sg4IVnTzpmj3",
        "outputId": "b2579a38-a8ab-41bf-a6db-d9520923ac91"
      },
      "execution_count": 12,
      "outputs": [
        {
          "output_type": "display_data",
          "data": {
            "text/html": [
              "<html>\n",
              "<head><meta charset=\"utf-8\" /></head>\n",
              "<body>\n",
              "    <div>            <script src=\"https://cdnjs.cloudflare.com/ajax/libs/mathjax/2.7.5/MathJax.js?config=TeX-AMS-MML_SVG\"></script><script type=\"text/javascript\">if (window.MathJax) {MathJax.Hub.Config({SVG: {font: \"STIX-Web\"}});}</script>                <script type=\"text/javascript\">window.PlotlyConfig = {MathJaxConfig: 'local'};</script>\n",
              "        <script src=\"https://cdn.plot.ly/plotly-2.8.3.min.js\"></script>                <div id=\"bd7624ee-acb4-4604-9f43-0b0835848895\" class=\"plotly-graph-div\" style=\"height:525px; width:100%;\"></div>            <script type=\"text/javascript\">                                    window.PLOTLYENV=window.PLOTLYENV || {};                                    if (document.getElementById(\"bd7624ee-acb4-4604-9f43-0b0835848895\")) {                    Plotly.newPlot(                        \"bd7624ee-acb4-4604-9f43-0b0835848895\",                        [{\"alignmentgroup\":\"True\",\"customdata\":[[\"casual\"],[\"casual\"],[\"casual\"]],\"hovertemplate\":\"<b>%{hovertext}</b><br><br>Bike Type=%{x}<br>Number of rides=%{text}<extra></extra>\",\"hovertext\":[\"casual\",\"casual\",\"casual\"],\"legendgroup\":\"casual\",\"marker\":{\"color\":\"#636efa\",\"pattern\":{\"shape\":\"\"}},\"name\":\"casual\",\"offsetgroup\":\"casual\",\"orientation\":\"v\",\"showlegend\":true,\"text\":[1218286.0,253371.0,1086570.0],\"textposition\":\"auto\",\"x\":[\"classic_bike\",\"docked_bike\",\"electric_bike\"],\"xaxis\":\"x\",\"y\":[1218286,253371,1086570],\"yaxis\":\"y\",\"type\":\"bar\"},{\"alignmentgroup\":\"True\",\"customdata\":[[\"member\"],[\"member\"]],\"hovertemplate\":\"<b>%{hovertext}</b><br><br>Bike Type=%{x}<br>Number of rides=%{text}<extra></extra>\",\"hovertext\":[\"member\",\"member\"],\"legendgroup\":\"member\",\"marker\":{\"color\":\"#EF553B\",\"pattern\":{\"shape\":\"\"}},\"name\":\"member\",\"offsetgroup\":\"member\",\"orientation\":\"v\",\"showlegend\":true,\"text\":[1971091.0,1371067.0],\"textposition\":\"auto\",\"x\":[\"classic_bike\",\"electric_bike\"],\"xaxis\":\"x\",\"y\":[1971091,1371067],\"yaxis\":\"y\",\"type\":\"bar\"}],                        {\"template\":{\"data\":{\"bar\":[{\"error_x\":{\"color\":\"#2a3f5f\"},\"error_y\":{\"color\":\"#2a3f5f\"},\"marker\":{\"line\":{\"color\":\"#E5ECF6\",\"width\":0.5},\"pattern\":{\"fillmode\":\"overlay\",\"size\":10,\"solidity\":0.2}},\"type\":\"bar\"}],\"barpolar\":[{\"marker\":{\"line\":{\"color\":\"#E5ECF6\",\"width\":0.5},\"pattern\":{\"fillmode\":\"overlay\",\"size\":10,\"solidity\":0.2}},\"type\":\"barpolar\"}],\"carpet\":[{\"aaxis\":{\"endlinecolor\":\"#2a3f5f\",\"gridcolor\":\"white\",\"linecolor\":\"white\",\"minorgridcolor\":\"white\",\"startlinecolor\":\"#2a3f5f\"},\"baxis\":{\"endlinecolor\":\"#2a3f5f\",\"gridcolor\":\"white\",\"linecolor\":\"white\",\"minorgridcolor\":\"white\",\"startlinecolor\":\"#2a3f5f\"},\"type\":\"carpet\"}],\"choropleth\":[{\"colorbar\":{\"outlinewidth\":0,\"ticks\":\"\"},\"type\":\"choropleth\"}],\"contour\":[{\"colorbar\":{\"outlinewidth\":0,\"ticks\":\"\"},\"colorscale\":[[0.0,\"#0d0887\"],[0.1111111111111111,\"#46039f\"],[0.2222222222222222,\"#7201a8\"],[0.3333333333333333,\"#9c179e\"],[0.4444444444444444,\"#bd3786\"],[0.5555555555555556,\"#d8576b\"],[0.6666666666666666,\"#ed7953\"],[0.7777777777777778,\"#fb9f3a\"],[0.8888888888888888,\"#fdca26\"],[1.0,\"#f0f921\"]],\"type\":\"contour\"}],\"contourcarpet\":[{\"colorbar\":{\"outlinewidth\":0,\"ticks\":\"\"},\"type\":\"contourcarpet\"}],\"heatmap\":[{\"colorbar\":{\"outlinewidth\":0,\"ticks\":\"\"},\"colorscale\":[[0.0,\"#0d0887\"],[0.1111111111111111,\"#46039f\"],[0.2222222222222222,\"#7201a8\"],[0.3333333333333333,\"#9c179e\"],[0.4444444444444444,\"#bd3786\"],[0.5555555555555556,\"#d8576b\"],[0.6666666666666666,\"#ed7953\"],[0.7777777777777778,\"#fb9f3a\"],[0.8888888888888888,\"#fdca26\"],[1.0,\"#f0f921\"]],\"type\":\"heatmap\"}],\"heatmapgl\":[{\"colorbar\":{\"outlinewidth\":0,\"ticks\":\"\"},\"colorscale\":[[0.0,\"#0d0887\"],[0.1111111111111111,\"#46039f\"],[0.2222222222222222,\"#7201a8\"],[0.3333333333333333,\"#9c179e\"],[0.4444444444444444,\"#bd3786\"],[0.5555555555555556,\"#d8576b\"],[0.6666666666666666,\"#ed7953\"],[0.7777777777777778,\"#fb9f3a\"],[0.8888888888888888,\"#fdca26\"],[1.0,\"#f0f921\"]],\"type\":\"heatmapgl\"}],\"histogram\":[{\"marker\":{\"pattern\":{\"fillmode\":\"overlay\",\"size\":10,\"solidity\":0.2}},\"type\":\"histogram\"}],\"histogram2d\":[{\"colorbar\":{\"outlinewidth\":0,\"ticks\":\"\"},\"colorscale\":[[0.0,\"#0d0887\"],[0.1111111111111111,\"#46039f\"],[0.2222222222222222,\"#7201a8\"],[0.3333333333333333,\"#9c179e\"],[0.4444444444444444,\"#bd3786\"],[0.5555555555555556,\"#d8576b\"],[0.6666666666666666,\"#ed7953\"],[0.7777777777777778,\"#fb9f3a\"],[0.8888888888888888,\"#fdca26\"],[1.0,\"#f0f921\"]],\"type\":\"histogram2d\"}],\"histogram2dcontour\":[{\"colorbar\":{\"outlinewidth\":0,\"ticks\":\"\"},\"colorscale\":[[0.0,\"#0d0887\"],[0.1111111111111111,\"#46039f\"],[0.2222222222222222,\"#7201a8\"],[0.3333333333333333,\"#9c179e\"],[0.4444444444444444,\"#bd3786\"],[0.5555555555555556,\"#d8576b\"],[0.6666666666666666,\"#ed7953\"],[0.7777777777777778,\"#fb9f3a\"],[0.8888888888888888,\"#fdca26\"],[1.0,\"#f0f921\"]],\"type\":\"histogram2dcontour\"}],\"mesh3d\":[{\"colorbar\":{\"outlinewidth\":0,\"ticks\":\"\"},\"type\":\"mesh3d\"}],\"parcoords\":[{\"line\":{\"colorbar\":{\"outlinewidth\":0,\"ticks\":\"\"}},\"type\":\"parcoords\"}],\"pie\":[{\"automargin\":true,\"type\":\"pie\"}],\"scatter\":[{\"marker\":{\"colorbar\":{\"outlinewidth\":0,\"ticks\":\"\"}},\"type\":\"scatter\"}],\"scatter3d\":[{\"line\":{\"colorbar\":{\"outlinewidth\":0,\"ticks\":\"\"}},\"marker\":{\"colorbar\":{\"outlinewidth\":0,\"ticks\":\"\"}},\"type\":\"scatter3d\"}],\"scattercarpet\":[{\"marker\":{\"colorbar\":{\"outlinewidth\":0,\"ticks\":\"\"}},\"type\":\"scattercarpet\"}],\"scattergeo\":[{\"marker\":{\"colorbar\":{\"outlinewidth\":0,\"ticks\":\"\"}},\"type\":\"scattergeo\"}],\"scattergl\":[{\"marker\":{\"colorbar\":{\"outlinewidth\":0,\"ticks\":\"\"}},\"type\":\"scattergl\"}],\"scattermapbox\":[{\"marker\":{\"colorbar\":{\"outlinewidth\":0,\"ticks\":\"\"}},\"type\":\"scattermapbox\"}],\"scatterpolar\":[{\"marker\":{\"colorbar\":{\"outlinewidth\":0,\"ticks\":\"\"}},\"type\":\"scatterpolar\"}],\"scatterpolargl\":[{\"marker\":{\"colorbar\":{\"outlinewidth\":0,\"ticks\":\"\"}},\"type\":\"scatterpolargl\"}],\"scatterternary\":[{\"marker\":{\"colorbar\":{\"outlinewidth\":0,\"ticks\":\"\"}},\"type\":\"scatterternary\"}],\"surface\":[{\"colorbar\":{\"outlinewidth\":0,\"ticks\":\"\"},\"colorscale\":[[0.0,\"#0d0887\"],[0.1111111111111111,\"#46039f\"],[0.2222222222222222,\"#7201a8\"],[0.3333333333333333,\"#9c179e\"],[0.4444444444444444,\"#bd3786\"],[0.5555555555555556,\"#d8576b\"],[0.6666666666666666,\"#ed7953\"],[0.7777777777777778,\"#fb9f3a\"],[0.8888888888888888,\"#fdca26\"],[1.0,\"#f0f921\"]],\"type\":\"surface\"}],\"table\":[{\"cells\":{\"fill\":{\"color\":\"#EBF0F8\"},\"line\":{\"color\":\"white\"}},\"header\":{\"fill\":{\"color\":\"#C8D4E3\"},\"line\":{\"color\":\"white\"}},\"type\":\"table\"}]},\"layout\":{\"annotationdefaults\":{\"arrowcolor\":\"#2a3f5f\",\"arrowhead\":0,\"arrowwidth\":1},\"autotypenumbers\":\"strict\",\"coloraxis\":{\"colorbar\":{\"outlinewidth\":0,\"ticks\":\"\"}},\"colorscale\":{\"diverging\":[[0,\"#8e0152\"],[0.1,\"#c51b7d\"],[0.2,\"#de77ae\"],[0.3,\"#f1b6da\"],[0.4,\"#fde0ef\"],[0.5,\"#f7f7f7\"],[0.6,\"#e6f5d0\"],[0.7,\"#b8e186\"],[0.8,\"#7fbc41\"],[0.9,\"#4d9221\"],[1,\"#276419\"]],\"sequential\":[[0.0,\"#0d0887\"],[0.1111111111111111,\"#46039f\"],[0.2222222222222222,\"#7201a8\"],[0.3333333333333333,\"#9c179e\"],[0.4444444444444444,\"#bd3786\"],[0.5555555555555556,\"#d8576b\"],[0.6666666666666666,\"#ed7953\"],[0.7777777777777778,\"#fb9f3a\"],[0.8888888888888888,\"#fdca26\"],[1.0,\"#f0f921\"]],\"sequentialminus\":[[0.0,\"#0d0887\"],[0.1111111111111111,\"#46039f\"],[0.2222222222222222,\"#7201a8\"],[0.3333333333333333,\"#9c179e\"],[0.4444444444444444,\"#bd3786\"],[0.5555555555555556,\"#d8576b\"],[0.6666666666666666,\"#ed7953\"],[0.7777777777777778,\"#fb9f3a\"],[0.8888888888888888,\"#fdca26\"],[1.0,\"#f0f921\"]]},\"colorway\":[\"#636efa\",\"#EF553B\",\"#00cc96\",\"#ab63fa\",\"#FFA15A\",\"#19d3f3\",\"#FF6692\",\"#B6E880\",\"#FF97FF\",\"#FECB52\"],\"font\":{\"color\":\"#2a3f5f\"},\"geo\":{\"bgcolor\":\"white\",\"lakecolor\":\"white\",\"landcolor\":\"#E5ECF6\",\"showlakes\":true,\"showland\":true,\"subunitcolor\":\"white\"},\"hoverlabel\":{\"align\":\"left\"},\"hovermode\":\"closest\",\"mapbox\":{\"style\":\"light\"},\"paper_bgcolor\":\"white\",\"plot_bgcolor\":\"#E5ECF6\",\"polar\":{\"angularaxis\":{\"gridcolor\":\"white\",\"linecolor\":\"white\",\"ticks\":\"\"},\"bgcolor\":\"#E5ECF6\",\"radialaxis\":{\"gridcolor\":\"white\",\"linecolor\":\"white\",\"ticks\":\"\"}},\"scene\":{\"xaxis\":{\"backgroundcolor\":\"#E5ECF6\",\"gridcolor\":\"white\",\"gridwidth\":2,\"linecolor\":\"white\",\"showbackground\":true,\"ticks\":\"\",\"zerolinecolor\":\"white\"},\"yaxis\":{\"backgroundcolor\":\"#E5ECF6\",\"gridcolor\":\"white\",\"gridwidth\":2,\"linecolor\":\"white\",\"showbackground\":true,\"ticks\":\"\",\"zerolinecolor\":\"white\"},\"zaxis\":{\"backgroundcolor\":\"#E5ECF6\",\"gridcolor\":\"white\",\"gridwidth\":2,\"linecolor\":\"white\",\"showbackground\":true,\"ticks\":\"\",\"zerolinecolor\":\"white\"}},\"shapedefaults\":{\"line\":{\"color\":\"#2a3f5f\"}},\"ternary\":{\"aaxis\":{\"gridcolor\":\"white\",\"linecolor\":\"white\",\"ticks\":\"\"},\"baxis\":{\"gridcolor\":\"white\",\"linecolor\":\"white\",\"ticks\":\"\"},\"bgcolor\":\"#E5ECF6\",\"caxis\":{\"gridcolor\":\"white\",\"linecolor\":\"white\",\"ticks\":\"\"}},\"title\":{\"x\":0.05},\"xaxis\":{\"automargin\":true,\"gridcolor\":\"white\",\"linecolor\":\"white\",\"ticks\":\"\",\"title\":{\"standoff\":15},\"zerolinecolor\":\"white\",\"zerolinewidth\":2},\"yaxis\":{\"automargin\":true,\"gridcolor\":\"white\",\"linecolor\":\"white\",\"ticks\":\"\",\"title\":{\"standoff\":15},\"zerolinecolor\":\"white\",\"zerolinewidth\":2}}},\"xaxis\":{\"anchor\":\"y\",\"domain\":[0.0,1.0],\"title\":{\"text\":\"Bike Type\"}},\"yaxis\":{\"anchor\":\"x\",\"domain\":[0.0,1.0],\"title\":{\"text\":\"Number of rides\"}},\"legend\":{\"title\":{\"text\":\"Member/Casual\"},\"tracegroupgap\":0},\"margin\":{\"t\":60},\"barmode\":\"group\"},                        {\"responsive\": true}                    ).then(function(){\n",
              "                            \n",
              "var gd = document.getElementById('bd7624ee-acb4-4604-9f43-0b0835848895');\n",
              "var x = new MutationObserver(function (mutations, observer) {{\n",
              "        var display = window.getComputedStyle(gd).display;\n",
              "        if (!display || display === 'none') {{\n",
              "            console.log([gd, 'removed!']);\n",
              "            Plotly.purge(gd);\n",
              "            observer.disconnect();\n",
              "        }}\n",
              "}});\n",
              "\n",
              "// Listen for the removal of the full notebook cells\n",
              "var notebookContainer = gd.closest('#notebook-container');\n",
              "if (notebookContainer) {{\n",
              "    x.observe(notebookContainer, {childList: true});\n",
              "}}\n",
              "\n",
              "// Listen for the clearing of the current output cell\n",
              "var outputEl = gd.closest('.output');\n",
              "if (outputEl) {{\n",
              "    x.observe(outputEl, {childList: true});\n",
              "}}\n",
              "\n",
              "                        })                };                            </script>        </div>\n",
              "</body>\n",
              "</html>"
            ]
          },
          "metadata": {}
        }
      ]
    },
    {
      "cell_type": "markdown",
      "source": [
        "According to the graphic showing the number of users by type of bike, only casual riders use docked bikes, membership riders favor classic bikes, and both groups use electric bikes almost equally, with membership riders favoring them more."
      ],
      "metadata": {
        "id": "Kh_bF9CC2DMK"
      }
    },
    {
      "cell_type": "code",
      "source": [
        "px.line(ride_number_month,x='year_month',y='ride_id',range_y = [0,450000],\n",
        "        color='member_casual',\n",
        "        line_shape = 'spline',\n",
        "        markers=True, \n",
        "        labels = {'ride_id': 'Number of Rides', 'year_month': 'Months (July 2021 - June 2022)', 'member_casual': 'Member/Casual'},\n",
        "        hover_name = 'member_casual', hover_data = {'member_casual': False, 'year_month': True, 'ride_id': True}, \n",
        "        )"
      ],
      "metadata": {
        "colab": {
          "base_uri": "https://localhost:8080/",
          "height": 542
        },
        "id": "a6PXqxnw2FPI",
        "outputId": "e6835f18-7d0e-4dec-cb68-946bd1340ccd"
      },
      "execution_count": 21,
      "outputs": [
        {
          "output_type": "display_data",
          "data": {
            "text/html": [
              "<html>\n",
              "<head><meta charset=\"utf-8\" /></head>\n",
              "<body>\n",
              "    <div>            <script src=\"https://cdnjs.cloudflare.com/ajax/libs/mathjax/2.7.5/MathJax.js?config=TeX-AMS-MML_SVG\"></script><script type=\"text/javascript\">if (window.MathJax) {MathJax.Hub.Config({SVG: {font: \"STIX-Web\"}});}</script>                <script type=\"text/javascript\">window.PlotlyConfig = {MathJaxConfig: 'local'};</script>\n",
              "        <script src=\"https://cdn.plot.ly/plotly-2.8.3.min.js\"></script>                <div id=\"c643dccc-f52f-4563-9923-869ee51c1942\" class=\"plotly-graph-div\" style=\"height:525px; width:100%;\"></div>            <script type=\"text/javascript\">                                    window.PLOTLYENV=window.PLOTLYENV || {};                                    if (document.getElementById(\"c643dccc-f52f-4563-9923-869ee51c1942\")) {                    Plotly.newPlot(                        \"c643dccc-f52f-4563-9923-869ee51c1942\",                        [{\"customdata\":[[\"casual\"],[\"casual\"],[\"casual\"],[\"casual\"],[\"casual\"],[\"casual\"],[\"casual\"],[\"casual\"],[\"casual\"],[\"casual\"],[\"casual\"],[\"casual\"]],\"hovertemplate\":\"<b>%{hovertext}</b><br><br>Months (July 2021 - June 2022)=%{x}<br>Number of Rides=%{y}<extra></extra>\",\"hovertext\":[\"casual\",\"casual\",\"casual\",\"casual\",\"casual\",\"casual\",\"casual\",\"casual\",\"casual\",\"casual\",\"casual\",\"casual\"],\"legendgroup\":\"casual\",\"line\":{\"color\":\"#636efa\",\"dash\":\"solid\",\"shape\":\"spline\"},\"marker\":{\"symbol\":\"circle\"},\"mode\":\"lines+markers\",\"name\":\"casual\",\"orientation\":\"v\",\"showlegend\":true,\"x\":[\"2021-07(Jul)\",\"2021-08(Aug)\",\"2021-09(Sep)\",\"2021-10(Oct)\",\"2021-11(Nov)\",\"2021-12(Dec)\",\"2022-01(Jan)\",\"2022-02(Feb)\",\"2022-03(Mar)\",\"2022-04(Apr)\",\"2022-05(May)\",\"2022-06(Jun)\"],\"xaxis\":\"x\",\"y\":[442056,412671,363890,257242,106929,69738,18520,21416,89882,126417,280415,369051],\"yaxis\":\"y\",\"type\":\"scatter\"},{\"customdata\":[[\"member\"],[\"member\"],[\"member\"],[\"member\"],[\"member\"],[\"member\"],[\"member\"],[\"member\"],[\"member\"],[\"member\"],[\"member\"],[\"member\"]],\"hovertemplate\":\"<b>%{hovertext}</b><br><br>Months (July 2021 - June 2022)=%{x}<br>Number of Rides=%{y}<extra></extra>\",\"hovertext\":[\"member\",\"member\",\"member\",\"member\",\"member\",\"member\",\"member\",\"member\",\"member\",\"member\",\"member\",\"member\"],\"legendgroup\":\"member\",\"line\":{\"color\":\"#EF553B\",\"dash\":\"solid\",\"shape\":\"spline\"},\"marker\":{\"symbol\":\"circle\"},\"mode\":\"lines+markers\",\"name\":\"member\",\"orientation\":\"v\",\"showlegend\":true,\"x\":[\"2021-07(Jul)\",\"2021-08(Aug)\",\"2021-09(Sep)\",\"2021-10(Oct)\",\"2021-11(Nov)\",\"2021-12(Dec)\",\"2022-01(Jan)\",\"2022-02(Feb)\",\"2022-03(Mar)\",\"2022-04(Apr)\",\"2022-05(May)\",\"2022-06(Jun)\"],\"xaxis\":\"x\",\"y\":[380354,391681,392257,373984,253049,177802,85250,94193,194160,244832,354443,400153],\"yaxis\":\"y\",\"type\":\"scatter\"}],                        {\"template\":{\"data\":{\"bar\":[{\"error_x\":{\"color\":\"#2a3f5f\"},\"error_y\":{\"color\":\"#2a3f5f\"},\"marker\":{\"line\":{\"color\":\"#E5ECF6\",\"width\":0.5},\"pattern\":{\"fillmode\":\"overlay\",\"size\":10,\"solidity\":0.2}},\"type\":\"bar\"}],\"barpolar\":[{\"marker\":{\"line\":{\"color\":\"#E5ECF6\",\"width\":0.5},\"pattern\":{\"fillmode\":\"overlay\",\"size\":10,\"solidity\":0.2}},\"type\":\"barpolar\"}],\"carpet\":[{\"aaxis\":{\"endlinecolor\":\"#2a3f5f\",\"gridcolor\":\"white\",\"linecolor\":\"white\",\"minorgridcolor\":\"white\",\"startlinecolor\":\"#2a3f5f\"},\"baxis\":{\"endlinecolor\":\"#2a3f5f\",\"gridcolor\":\"white\",\"linecolor\":\"white\",\"minorgridcolor\":\"white\",\"startlinecolor\":\"#2a3f5f\"},\"type\":\"carpet\"}],\"choropleth\":[{\"colorbar\":{\"outlinewidth\":0,\"ticks\":\"\"},\"type\":\"choropleth\"}],\"contour\":[{\"colorbar\":{\"outlinewidth\":0,\"ticks\":\"\"},\"colorscale\":[[0.0,\"#0d0887\"],[0.1111111111111111,\"#46039f\"],[0.2222222222222222,\"#7201a8\"],[0.3333333333333333,\"#9c179e\"],[0.4444444444444444,\"#bd3786\"],[0.5555555555555556,\"#d8576b\"],[0.6666666666666666,\"#ed7953\"],[0.7777777777777778,\"#fb9f3a\"],[0.8888888888888888,\"#fdca26\"],[1.0,\"#f0f921\"]],\"type\":\"contour\"}],\"contourcarpet\":[{\"colorbar\":{\"outlinewidth\":0,\"ticks\":\"\"},\"type\":\"contourcarpet\"}],\"heatmap\":[{\"colorbar\":{\"outlinewidth\":0,\"ticks\":\"\"},\"colorscale\":[[0.0,\"#0d0887\"],[0.1111111111111111,\"#46039f\"],[0.2222222222222222,\"#7201a8\"],[0.3333333333333333,\"#9c179e\"],[0.4444444444444444,\"#bd3786\"],[0.5555555555555556,\"#d8576b\"],[0.6666666666666666,\"#ed7953\"],[0.7777777777777778,\"#fb9f3a\"],[0.8888888888888888,\"#fdca26\"],[1.0,\"#f0f921\"]],\"type\":\"heatmap\"}],\"heatmapgl\":[{\"colorbar\":{\"outlinewidth\":0,\"ticks\":\"\"},\"colorscale\":[[0.0,\"#0d0887\"],[0.1111111111111111,\"#46039f\"],[0.2222222222222222,\"#7201a8\"],[0.3333333333333333,\"#9c179e\"],[0.4444444444444444,\"#bd3786\"],[0.5555555555555556,\"#d8576b\"],[0.6666666666666666,\"#ed7953\"],[0.7777777777777778,\"#fb9f3a\"],[0.8888888888888888,\"#fdca26\"],[1.0,\"#f0f921\"]],\"type\":\"heatmapgl\"}],\"histogram\":[{\"marker\":{\"pattern\":{\"fillmode\":\"overlay\",\"size\":10,\"solidity\":0.2}},\"type\":\"histogram\"}],\"histogram2d\":[{\"colorbar\":{\"outlinewidth\":0,\"ticks\":\"\"},\"colorscale\":[[0.0,\"#0d0887\"],[0.1111111111111111,\"#46039f\"],[0.2222222222222222,\"#7201a8\"],[0.3333333333333333,\"#9c179e\"],[0.4444444444444444,\"#bd3786\"],[0.5555555555555556,\"#d8576b\"],[0.6666666666666666,\"#ed7953\"],[0.7777777777777778,\"#fb9f3a\"],[0.8888888888888888,\"#fdca26\"],[1.0,\"#f0f921\"]],\"type\":\"histogram2d\"}],\"histogram2dcontour\":[{\"colorbar\":{\"outlinewidth\":0,\"ticks\":\"\"},\"colorscale\":[[0.0,\"#0d0887\"],[0.1111111111111111,\"#46039f\"],[0.2222222222222222,\"#7201a8\"],[0.3333333333333333,\"#9c179e\"],[0.4444444444444444,\"#bd3786\"],[0.5555555555555556,\"#d8576b\"],[0.6666666666666666,\"#ed7953\"],[0.7777777777777778,\"#fb9f3a\"],[0.8888888888888888,\"#fdca26\"],[1.0,\"#f0f921\"]],\"type\":\"histogram2dcontour\"}],\"mesh3d\":[{\"colorbar\":{\"outlinewidth\":0,\"ticks\":\"\"},\"type\":\"mesh3d\"}],\"parcoords\":[{\"line\":{\"colorbar\":{\"outlinewidth\":0,\"ticks\":\"\"}},\"type\":\"parcoords\"}],\"pie\":[{\"automargin\":true,\"type\":\"pie\"}],\"scatter\":[{\"marker\":{\"colorbar\":{\"outlinewidth\":0,\"ticks\":\"\"}},\"type\":\"scatter\"}],\"scatter3d\":[{\"line\":{\"colorbar\":{\"outlinewidth\":0,\"ticks\":\"\"}},\"marker\":{\"colorbar\":{\"outlinewidth\":0,\"ticks\":\"\"}},\"type\":\"scatter3d\"}],\"scattercarpet\":[{\"marker\":{\"colorbar\":{\"outlinewidth\":0,\"ticks\":\"\"}},\"type\":\"scattercarpet\"}],\"scattergeo\":[{\"marker\":{\"colorbar\":{\"outlinewidth\":0,\"ticks\":\"\"}},\"type\":\"scattergeo\"}],\"scattergl\":[{\"marker\":{\"colorbar\":{\"outlinewidth\":0,\"ticks\":\"\"}},\"type\":\"scattergl\"}],\"scattermapbox\":[{\"marker\":{\"colorbar\":{\"outlinewidth\":0,\"ticks\":\"\"}},\"type\":\"scattermapbox\"}],\"scatterpolar\":[{\"marker\":{\"colorbar\":{\"outlinewidth\":0,\"ticks\":\"\"}},\"type\":\"scatterpolar\"}],\"scatterpolargl\":[{\"marker\":{\"colorbar\":{\"outlinewidth\":0,\"ticks\":\"\"}},\"type\":\"scatterpolargl\"}],\"scatterternary\":[{\"marker\":{\"colorbar\":{\"outlinewidth\":0,\"ticks\":\"\"}},\"type\":\"scatterternary\"}],\"surface\":[{\"colorbar\":{\"outlinewidth\":0,\"ticks\":\"\"},\"colorscale\":[[0.0,\"#0d0887\"],[0.1111111111111111,\"#46039f\"],[0.2222222222222222,\"#7201a8\"],[0.3333333333333333,\"#9c179e\"],[0.4444444444444444,\"#bd3786\"],[0.5555555555555556,\"#d8576b\"],[0.6666666666666666,\"#ed7953\"],[0.7777777777777778,\"#fb9f3a\"],[0.8888888888888888,\"#fdca26\"],[1.0,\"#f0f921\"]],\"type\":\"surface\"}],\"table\":[{\"cells\":{\"fill\":{\"color\":\"#EBF0F8\"},\"line\":{\"color\":\"white\"}},\"header\":{\"fill\":{\"color\":\"#C8D4E3\"},\"line\":{\"color\":\"white\"}},\"type\":\"table\"}]},\"layout\":{\"annotationdefaults\":{\"arrowcolor\":\"#2a3f5f\",\"arrowhead\":0,\"arrowwidth\":1},\"autotypenumbers\":\"strict\",\"coloraxis\":{\"colorbar\":{\"outlinewidth\":0,\"ticks\":\"\"}},\"colorscale\":{\"diverging\":[[0,\"#8e0152\"],[0.1,\"#c51b7d\"],[0.2,\"#de77ae\"],[0.3,\"#f1b6da\"],[0.4,\"#fde0ef\"],[0.5,\"#f7f7f7\"],[0.6,\"#e6f5d0\"],[0.7,\"#b8e186\"],[0.8,\"#7fbc41\"],[0.9,\"#4d9221\"],[1,\"#276419\"]],\"sequential\":[[0.0,\"#0d0887\"],[0.1111111111111111,\"#46039f\"],[0.2222222222222222,\"#7201a8\"],[0.3333333333333333,\"#9c179e\"],[0.4444444444444444,\"#bd3786\"],[0.5555555555555556,\"#d8576b\"],[0.6666666666666666,\"#ed7953\"],[0.7777777777777778,\"#fb9f3a\"],[0.8888888888888888,\"#fdca26\"],[1.0,\"#f0f921\"]],\"sequentialminus\":[[0.0,\"#0d0887\"],[0.1111111111111111,\"#46039f\"],[0.2222222222222222,\"#7201a8\"],[0.3333333333333333,\"#9c179e\"],[0.4444444444444444,\"#bd3786\"],[0.5555555555555556,\"#d8576b\"],[0.6666666666666666,\"#ed7953\"],[0.7777777777777778,\"#fb9f3a\"],[0.8888888888888888,\"#fdca26\"],[1.0,\"#f0f921\"]]},\"colorway\":[\"#636efa\",\"#EF553B\",\"#00cc96\",\"#ab63fa\",\"#FFA15A\",\"#19d3f3\",\"#FF6692\",\"#B6E880\",\"#FF97FF\",\"#FECB52\"],\"font\":{\"color\":\"#2a3f5f\"},\"geo\":{\"bgcolor\":\"white\",\"lakecolor\":\"white\",\"landcolor\":\"#E5ECF6\",\"showlakes\":true,\"showland\":true,\"subunitcolor\":\"white\"},\"hoverlabel\":{\"align\":\"left\"},\"hovermode\":\"closest\",\"mapbox\":{\"style\":\"light\"},\"paper_bgcolor\":\"white\",\"plot_bgcolor\":\"#E5ECF6\",\"polar\":{\"angularaxis\":{\"gridcolor\":\"white\",\"linecolor\":\"white\",\"ticks\":\"\"},\"bgcolor\":\"#E5ECF6\",\"radialaxis\":{\"gridcolor\":\"white\",\"linecolor\":\"white\",\"ticks\":\"\"}},\"scene\":{\"xaxis\":{\"backgroundcolor\":\"#E5ECF6\",\"gridcolor\":\"white\",\"gridwidth\":2,\"linecolor\":\"white\",\"showbackground\":true,\"ticks\":\"\",\"zerolinecolor\":\"white\"},\"yaxis\":{\"backgroundcolor\":\"#E5ECF6\",\"gridcolor\":\"white\",\"gridwidth\":2,\"linecolor\":\"white\",\"showbackground\":true,\"ticks\":\"\",\"zerolinecolor\":\"white\"},\"zaxis\":{\"backgroundcolor\":\"#E5ECF6\",\"gridcolor\":\"white\",\"gridwidth\":2,\"linecolor\":\"white\",\"showbackground\":true,\"ticks\":\"\",\"zerolinecolor\":\"white\"}},\"shapedefaults\":{\"line\":{\"color\":\"#2a3f5f\"}},\"ternary\":{\"aaxis\":{\"gridcolor\":\"white\",\"linecolor\":\"white\",\"ticks\":\"\"},\"baxis\":{\"gridcolor\":\"white\",\"linecolor\":\"white\",\"ticks\":\"\"},\"bgcolor\":\"#E5ECF6\",\"caxis\":{\"gridcolor\":\"white\",\"linecolor\":\"white\",\"ticks\":\"\"}},\"title\":{\"x\":0.05},\"xaxis\":{\"automargin\":true,\"gridcolor\":\"white\",\"linecolor\":\"white\",\"ticks\":\"\",\"title\":{\"standoff\":15},\"zerolinecolor\":\"white\",\"zerolinewidth\":2},\"yaxis\":{\"automargin\":true,\"gridcolor\":\"white\",\"linecolor\":\"white\",\"ticks\":\"\",\"title\":{\"standoff\":15},\"zerolinecolor\":\"white\",\"zerolinewidth\":2}}},\"xaxis\":{\"anchor\":\"y\",\"domain\":[0.0,1.0],\"title\":{\"text\":\"Months (July 2021 - June 2022)\"}},\"yaxis\":{\"anchor\":\"x\",\"domain\":[0.0,1.0],\"title\":{\"text\":\"Number of Rides\"},\"range\":[0,450000]},\"legend\":{\"title\":{\"text\":\"Member/Casual\"},\"tracegroupgap\":0},\"margin\":{\"t\":60}},                        {\"responsive\": true}                    ).then(function(){\n",
              "                            \n",
              "var gd = document.getElementById('c643dccc-f52f-4563-9923-869ee51c1942');\n",
              "var x = new MutationObserver(function (mutations, observer) {{\n",
              "        var display = window.getComputedStyle(gd).display;\n",
              "        if (!display || display === 'none') {{\n",
              "            console.log([gd, 'removed!']);\n",
              "            Plotly.purge(gd);\n",
              "            observer.disconnect();\n",
              "        }}\n",
              "}});\n",
              "\n",
              "// Listen for the removal of the full notebook cells\n",
              "var notebookContainer = gd.closest('#notebook-container');\n",
              "if (notebookContainer) {{\n",
              "    x.observe(notebookContainer, {childList: true});\n",
              "}}\n",
              "\n",
              "// Listen for the clearing of the current output cell\n",
              "var outputEl = gd.closest('.output');\n",
              "if (outputEl) {{\n",
              "    x.observe(outputEl, {childList: true});\n",
              "}}\n",
              "\n",
              "                        })                };                            </script>        </div>\n",
              "</body>\n",
              "</html>"
            ]
          },
          "metadata": {}
        }
      ]
    },
    {
      "cell_type": "markdown",
      "source": [
        "It demonstrates that the number of bike rides for both casual and member riders is at its lowest level during the winter (December to March), and we may observe a rise in the number of rides throughout the summer (May to September)"
      ],
      "metadata": {
        "id": "7HyncNtqBQwW"
      }
    },
    {
      "cell_type": "markdown",
      "source": [
        "# Act"
      ],
      "metadata": {
        "id": "4OfuxeeXBsnS"
      }
    },
    {
      "cell_type": "markdown",
      "source": [
        "**Conclusion**:\n",
        "\n",
        "* The majority of the riders are member users.\n",
        "\n",
        "* The average ride duration for an casuals rider is longer than the average ride duration of the member riders.\n",
        "\n",
        "* Classic bikes are the most popular kind.\n",
        "\n",
        "* Only casual riders use docked bikes, Classic bikes are more popular among members and both use electric bikes equally.\n",
        "\n",
        "* During summer months number of rides at its highest level for both casual and member riders."
      ],
      "metadata": {
        "id": "c_Z_SP3AiHHB"
      }
    },
    {
      "cell_type": "markdown",
      "source": [
        "**Deliverable**\n",
        "* Build a marketing campaign to provide information on the advantages of using a annual membership.\n",
        "\n",
        "* Offering some kind of promotion or launching marketing campaigns during summer, or occasionally in weekends would be profitable to the company.\n",
        "* Increased advantages for riding bike in the winter months. One option is to distribute discounts and coupons.\n",
        "\n",
        "* For casual riders who are unwilling to sign up for an annual membership, a special \"Summer Membership\" program should be introduced.\n"
      ],
      "metadata": {
        "id": "xrX0Za1_nw0V"
      }
    }
  ]
}