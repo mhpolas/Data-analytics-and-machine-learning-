{
 "cells": [
  {
   "cell_type": "markdown",
   "id": "dedf7aee",
   "metadata": {},
   "source": [
    "Dogecoin is a cryptocurrency, like Ethereum or Bitcoin — despite the fact that it’s totally different than both of these famous coins. Dogecoin was initially made to some extent as a joke for crypto devotees and took its name from a previously well-known meme.\n",
    "\n",
    "In this Notebook, I will be implementing a machine learning model which can predict the pattern or forecast the price of the coin in the upcoming days. "
   ]
  },
  {
   "cell_type": "markdown",
   "id": "e1c1193f",
   "metadata": {},
   "source": [
    "## Importing Libraries and Dataset\n"
   ]
  },
  {
   "cell_type": "code",
   "execution_count": 1,
   "id": "d3e4bfe2",
   "metadata": {},
   "outputs": [],
   "source": [
    "import pandas as pd \n",
    "import numpy as np \n",
    "import matplotlib.pyplot as plt \n",
    "import seaborn as sns \n",
    "from sklearn.ensemble import RandomForestRegressor \n"
   ]
  },
  {
   "cell_type": "code",
   "execution_count": 26,
   "id": "b6e7246d",
   "metadata": {},
   "outputs": [
    {
     "data": {
      "text/html": [
       "<div>\n",
       "<style scoped>\n",
       "    .dataframe tbody tr th:only-of-type {\n",
       "        vertical-align: middle;\n",
       "    }\n",
       "\n",
       "    .dataframe tbody tr th {\n",
       "        vertical-align: top;\n",
       "    }\n",
       "\n",
       "    .dataframe thead th {\n",
       "        text-align: right;\n",
       "    }\n",
       "</style>\n",
       "<table border=\"1\" class=\"dataframe\">\n",
       "  <thead>\n",
       "    <tr style=\"text-align: right;\">\n",
       "      <th></th>\n",
       "      <th>Date</th>\n",
       "      <th>Open</th>\n",
       "      <th>High</th>\n",
       "      <th>Low</th>\n",
       "      <th>Close</th>\n",
       "      <th>Adj Close</th>\n",
       "      <th>Volume</th>\n",
       "    </tr>\n",
       "  </thead>\n",
       "  <tbody>\n",
       "    <tr>\n",
       "      <th>0</th>\n",
       "      <td>2017-11-09</td>\n",
       "      <td>0.001207</td>\n",
       "      <td>0.001415</td>\n",
       "      <td>0.001181</td>\n",
       "      <td>0.001415</td>\n",
       "      <td>0.001415</td>\n",
       "      <td>6259550.0</td>\n",
       "    </tr>\n",
       "    <tr>\n",
       "      <th>1</th>\n",
       "      <td>2017-11-10</td>\n",
       "      <td>0.001421</td>\n",
       "      <td>0.001431</td>\n",
       "      <td>0.001125</td>\n",
       "      <td>0.001163</td>\n",
       "      <td>0.001163</td>\n",
       "      <td>4246520.0</td>\n",
       "    </tr>\n",
       "    <tr>\n",
       "      <th>2</th>\n",
       "      <td>2017-11-11</td>\n",
       "      <td>0.001146</td>\n",
       "      <td>0.001257</td>\n",
       "      <td>0.001141</td>\n",
       "      <td>0.001201</td>\n",
       "      <td>0.001201</td>\n",
       "      <td>2231080.0</td>\n",
       "    </tr>\n",
       "    <tr>\n",
       "      <th>3</th>\n",
       "      <td>2017-11-12</td>\n",
       "      <td>0.001189</td>\n",
       "      <td>0.001210</td>\n",
       "      <td>0.001002</td>\n",
       "      <td>0.001038</td>\n",
       "      <td>0.001038</td>\n",
       "      <td>3288960.0</td>\n",
       "    </tr>\n",
       "    <tr>\n",
       "      <th>4</th>\n",
       "      <td>2017-11-13</td>\n",
       "      <td>0.001046</td>\n",
       "      <td>0.001212</td>\n",
       "      <td>0.001019</td>\n",
       "      <td>0.001211</td>\n",
       "      <td>0.001211</td>\n",
       "      <td>2481270.0</td>\n",
       "    </tr>\n",
       "  </tbody>\n",
       "</table>\n",
       "</div>"
      ],
      "text/plain": [
       "         Date      Open      High       Low     Close  Adj Close     Volume\n",
       "0  2017-11-09  0.001207  0.001415  0.001181  0.001415   0.001415  6259550.0\n",
       "1  2017-11-10  0.001421  0.001431  0.001125  0.001163   0.001163  4246520.0\n",
       "2  2017-11-11  0.001146  0.001257  0.001141  0.001201   0.001201  2231080.0\n",
       "3  2017-11-12  0.001189  0.001210  0.001002  0.001038   0.001038  3288960.0\n",
       "4  2017-11-13  0.001046  0.001212  0.001019  0.001211   0.001211  2481270.0"
      ]
     },
     "execution_count": 26,
     "metadata": {},
     "output_type": "execute_result"
    }
   ],
   "source": [
    "data = pd.read_csv(\"DOGE-USD.csv\") \n",
    "data.head() \n",
    "\n"
   ]
  },
  {
   "cell_type": "markdown",
   "id": "effa66d2",
   "metadata": {},
   "source": [
    "### Now, let’s check the correlation\n",
    "A correlation matrix is a table that shows the correlation coefficients between several variables in a data set. A correlation coefficient is a number between -1 and 1 that measures the strength and direction of the linear relationship between two variables\n",
    "\n",
    "* If the relationship is 1, then the relationship is strong.\n",
    "* If the relationship is 0, then it means the relationship is neutral.\n",
    "* If the relationship is -1, then it means the relationship is negative or not strong\n"
   ]
  },
  {
   "cell_type": "code",
   "execution_count": 9,
   "id": "647b4c60",
   "metadata": {},
   "outputs": [
    {
     "data": {
      "text/html": [
       "<div>\n",
       "<style scoped>\n",
       "    .dataframe tbody tr th:only-of-type {\n",
       "        vertical-align: middle;\n",
       "    }\n",
       "\n",
       "    .dataframe tbody tr th {\n",
       "        vertical-align: top;\n",
       "    }\n",
       "\n",
       "    .dataframe thead th {\n",
       "        text-align: right;\n",
       "    }\n",
       "</style>\n",
       "<table border=\"1\" class=\"dataframe\">\n",
       "  <thead>\n",
       "    <tr style=\"text-align: right;\">\n",
       "      <th></th>\n",
       "      <th>Open</th>\n",
       "      <th>High</th>\n",
       "      <th>Low</th>\n",
       "      <th>Close</th>\n",
       "      <th>Adj Close</th>\n",
       "      <th>Volume</th>\n",
       "    </tr>\n",
       "  </thead>\n",
       "  <tbody>\n",
       "    <tr>\n",
       "      <th>Open</th>\n",
       "      <td>1.000000</td>\n",
       "      <td>0.993904</td>\n",
       "      <td>0.993707</td>\n",
       "      <td>0.992514</td>\n",
       "      <td>0.992514</td>\n",
       "      <td>0.554850</td>\n",
       "    </tr>\n",
       "    <tr>\n",
       "      <th>High</th>\n",
       "      <td>0.993904</td>\n",
       "      <td>1.000000</td>\n",
       "      <td>0.986497</td>\n",
       "      <td>0.995104</td>\n",
       "      <td>0.995104</td>\n",
       "      <td>0.619321</td>\n",
       "    </tr>\n",
       "    <tr>\n",
       "      <th>Low</th>\n",
       "      <td>0.993707</td>\n",
       "      <td>0.986497</td>\n",
       "      <td>1.000000</td>\n",
       "      <td>0.994575</td>\n",
       "      <td>0.994575</td>\n",
       "      <td>0.519991</td>\n",
       "    </tr>\n",
       "    <tr>\n",
       "      <th>Close</th>\n",
       "      <td>0.992514</td>\n",
       "      <td>0.995104</td>\n",
       "      <td>0.994575</td>\n",
       "      <td>1.000000</td>\n",
       "      <td>1.000000</td>\n",
       "      <td>0.588678</td>\n",
       "    </tr>\n",
       "    <tr>\n",
       "      <th>Adj Close</th>\n",
       "      <td>0.992514</td>\n",
       "      <td>0.995104</td>\n",
       "      <td>0.994575</td>\n",
       "      <td>1.000000</td>\n",
       "      <td>1.000000</td>\n",
       "      <td>0.588678</td>\n",
       "    </tr>\n",
       "    <tr>\n",
       "      <th>Volume</th>\n",
       "      <td>0.554850</td>\n",
       "      <td>0.619321</td>\n",
       "      <td>0.519991</td>\n",
       "      <td>0.588678</td>\n",
       "      <td>0.588678</td>\n",
       "      <td>1.000000</td>\n",
       "    </tr>\n",
       "  </tbody>\n",
       "</table>\n",
       "</div>"
      ],
      "text/plain": [
       "               Open      High       Low     Close  Adj Close    Volume\n",
       "Open       1.000000  0.993904  0.993707  0.992514   0.992514  0.554850\n",
       "High       0.993904  1.000000  0.986497  0.995104   0.995104  0.619321\n",
       "Low        0.993707  0.986497  1.000000  0.994575   0.994575  0.519991\n",
       "Close      0.992514  0.995104  0.994575  1.000000   1.000000  0.588678\n",
       "Adj Close  0.992514  0.995104  0.994575  1.000000   1.000000  0.588678\n",
       "Volume     0.554850  0.619321  0.519991  0.588678   0.588678  1.000000"
      ]
     },
     "execution_count": 9,
     "metadata": {},
     "output_type": "execute_result"
    }
   ],
   "source": [
    "corrMatrix=data.corr(numeric_only=True)\n",
    "corrMatrix"
   ]
  },
  {
   "cell_type": "code",
   "execution_count": 7,
   "id": "e9b95a6f",
   "metadata": {},
   "outputs": [
    {
     "data": {
      "text/plain": [
       "<Axes: >"
      ]
     },
     "execution_count": 7,
     "metadata": {},
     "output_type": "execute_result"
    },
    {
     "data": {
      "image/png": "[encoded data removed]",
      "text/plain": [
       "<Figure size 640x480 with 2 Axes>"
      ]
     },
     "metadata": {},
     "output_type": "display_data"
    }
   ],
   "source": [
    "sns.heatmap(corrMatrix,annot=True)"
   ]
  },
  {
   "cell_type": "markdown",
   "id": "5bd5ed8d",
   "metadata": {},
   "source": [
    "I will now Convert the string date & time in proper date & time format with the help of pandas. After that i will check is there any null value is present or not."
   ]
  },
  {
   "cell_type": "code",
   "execution_count": 34,
   "id": "e78ca8c4",
   "metadata": {
    "scrolled": false
   },
   "outputs": [
    {
     "data": {
      "text/plain": [
       "Open         True\n",
       "High         True\n",
       "Low          True\n",
       "Close        True\n",
       "Adj Close    True\n",
       "Volume       True\n",
       "dtype: bool"
      ]
     },
     "execution_count": 34,
     "metadata": {},
     "output_type": "execute_result"
    }
   ],
   "source": [
    "data[\"Date\"] = pd.to_datetime(data['Date'])\n",
    "data.set_index('Date', inplace=True)\n",
    "data.isnull().any() \n",
    "\n",
    "\n"
   ]
  },
  {
   "cell_type": "code",
   "execution_count": 35,
   "id": "332db7f9",
   "metadata": {},
   "outputs": [
    {
     "data": {
      "text/html": [
       "<div>\n",
       "<style scoped>\n",
       "    .dataframe tbody tr th:only-of-type {\n",
       "        vertical-align: middle;\n",
       "    }\n",
       "\n",
       "    .dataframe tbody tr th {\n",
       "        vertical-align: top;\n",
       "    }\n",
       "\n",
       "    .dataframe thead th {\n",
       "        text-align: right;\n",
       "    }\n",
       "</style>\n",
       "<table border=\"1\" class=\"dataframe\">\n",
       "  <thead>\n",
       "    <tr style=\"text-align: right;\">\n",
       "      <th></th>\n",
       "      <th>Open</th>\n",
       "      <th>High</th>\n",
       "      <th>Low</th>\n",
       "      <th>Close</th>\n",
       "      <th>Adj Close</th>\n",
       "      <th>Volume</th>\n",
       "    </tr>\n",
       "    <tr>\n",
       "      <th>Date</th>\n",
       "      <th></th>\n",
       "      <th></th>\n",
       "      <th></th>\n",
       "      <th></th>\n",
       "      <th></th>\n",
       "      <th></th>\n",
       "    </tr>\n",
       "  </thead>\n",
       "  <tbody>\n",
       "    <tr>\n",
       "      <th>2017-11-09</th>\n",
       "      <td>0.001207</td>\n",
       "      <td>0.001415</td>\n",
       "      <td>0.001181</td>\n",
       "      <td>0.001415</td>\n",
       "      <td>0.001415</td>\n",
       "      <td>6259550.0</td>\n",
       "    </tr>\n",
       "    <tr>\n",
       "      <th>2017-11-10</th>\n",
       "      <td>0.001421</td>\n",
       "      <td>0.001431</td>\n",
       "      <td>0.001125</td>\n",
       "      <td>0.001163</td>\n",
       "      <td>0.001163</td>\n",
       "      <td>4246520.0</td>\n",
       "    </tr>\n",
       "    <tr>\n",
       "      <th>2017-11-11</th>\n",
       "      <td>0.001146</td>\n",
       "      <td>0.001257</td>\n",
       "      <td>0.001141</td>\n",
       "      <td>0.001201</td>\n",
       "      <td>0.001201</td>\n",
       "      <td>2231080.0</td>\n",
       "    </tr>\n",
       "    <tr>\n",
       "      <th>2017-11-12</th>\n",
       "      <td>0.001189</td>\n",
       "      <td>0.001210</td>\n",
       "      <td>0.001002</td>\n",
       "      <td>0.001038</td>\n",
       "      <td>0.001038</td>\n",
       "      <td>3288960.0</td>\n",
       "    </tr>\n",
       "    <tr>\n",
       "      <th>2017-11-13</th>\n",
       "      <td>0.001046</td>\n",
       "      <td>0.001212</td>\n",
       "      <td>0.001019</td>\n",
       "      <td>0.001211</td>\n",
       "      <td>0.001211</td>\n",
       "      <td>2481270.0</td>\n",
       "    </tr>\n",
       "  </tbody>\n",
       "</table>\n",
       "</div>"
      ],
      "text/plain": [
       "                Open      High       Low     Close  Adj Close     Volume\n",
       "Date                                                                    \n",
       "2017-11-09  0.001207  0.001415  0.001181  0.001415   0.001415  6259550.0\n",
       "2017-11-10  0.001421  0.001431  0.001125  0.001163   0.001163  4246520.0\n",
       "2017-11-11  0.001146  0.001257  0.001141  0.001201   0.001201  2231080.0\n",
       "2017-11-12  0.001189  0.001210  0.001002  0.001038   0.001038  3288960.0\n",
       "2017-11-13  0.001046  0.001212  0.001019  0.001211   0.001211  2481270.0"
      ]
     },
     "execution_count": 35,
     "metadata": {},
     "output_type": "execute_result"
    }
   ],
   "source": [
    "data.head()"
   ]
  },
  {
   "cell_type": "code",
   "execution_count": 36,
   "id": "6d4d6a49",
   "metadata": {},
   "outputs": [
    {
     "data": {
      "text/plain": [
       "Open         1\n",
       "High         1\n",
       "Low          1\n",
       "Close        1\n",
       "Adj Close    1\n",
       "Volume       1\n",
       "dtype: int64"
      ]
     },
     "execution_count": 36,
     "metadata": {},
     "output_type": "execute_result"
    }
   ],
   "source": [
    "#Now, let’s check for the presence of null values in the dataset.\n",
    "data.isnull().sum() \n"
   ]
  },
  {
   "cell_type": "code",
   "execution_count": 37,
   "id": "dd8ec93f",
   "metadata": {},
   "outputs": [],
   "source": [
    "#Dropping those missing values so that i do not have any errors while analyzing.\n",
    "data = data.dropna()\n"
   ]
  },
  {
   "cell_type": "code",
   "execution_count": 38,
   "id": "6c6f6730",
   "metadata": {},
   "outputs": [
    {
     "data": {
      "text/html": [
       "<div>\n",
       "<style scoped>\n",
       "    .dataframe tbody tr th:only-of-type {\n",
       "        vertical-align: middle;\n",
       "    }\n",
       "\n",
       "    .dataframe tbody tr th {\n",
       "        vertical-align: top;\n",
       "    }\n",
       "\n",
       "    .dataframe thead th {\n",
       "        text-align: right;\n",
       "    }\n",
       "</style>\n",
       "<table border=\"1\" class=\"dataframe\">\n",
       "  <thead>\n",
       "    <tr style=\"text-align: right;\">\n",
       "      <th></th>\n",
       "      <th>Open</th>\n",
       "      <th>High</th>\n",
       "      <th>Low</th>\n",
       "      <th>Close</th>\n",
       "      <th>Adj Close</th>\n",
       "      <th>Volume</th>\n",
       "    </tr>\n",
       "  </thead>\n",
       "  <tbody>\n",
       "    <tr>\n",
       "      <th>count</th>\n",
       "      <td>1760.000000</td>\n",
       "      <td>1760.000000</td>\n",
       "      <td>1760.000000</td>\n",
       "      <td>1760.000000</td>\n",
       "      <td>1760.000000</td>\n",
       "      <td>1.760000e+03</td>\n",
       "    </tr>\n",
       "    <tr>\n",
       "      <th>mean</th>\n",
       "      <td>0.059575</td>\n",
       "      <td>0.063096</td>\n",
       "      <td>0.056126</td>\n",
       "      <td>0.059619</td>\n",
       "      <td>0.059619</td>\n",
       "      <td>1.016258e+09</td>\n",
       "    </tr>\n",
       "    <tr>\n",
       "      <th>std</th>\n",
       "      <td>0.101325</td>\n",
       "      <td>0.109152</td>\n",
       "      <td>0.093695</td>\n",
       "      <td>0.101379</td>\n",
       "      <td>0.101379</td>\n",
       "      <td>3.563999e+09</td>\n",
       "    </tr>\n",
       "    <tr>\n",
       "      <th>min</th>\n",
       "      <td>0.001046</td>\n",
       "      <td>0.001210</td>\n",
       "      <td>0.001002</td>\n",
       "      <td>0.001038</td>\n",
       "      <td>0.001038</td>\n",
       "      <td>1.431720e+06</td>\n",
       "    </tr>\n",
       "    <tr>\n",
       "      <th>25%</th>\n",
       "      <td>0.002550</td>\n",
       "      <td>0.002616</td>\n",
       "      <td>0.002500</td>\n",
       "      <td>0.002548</td>\n",
       "      <td>0.002548</td>\n",
       "      <td>2.307671e+07</td>\n",
       "    </tr>\n",
       "    <tr>\n",
       "      <th>50%</th>\n",
       "      <td>0.003476</td>\n",
       "      <td>0.003603</td>\n",
       "      <td>0.003356</td>\n",
       "      <td>0.003495</td>\n",
       "      <td>0.003495</td>\n",
       "      <td>8.981855e+07</td>\n",
       "    </tr>\n",
       "    <tr>\n",
       "      <th>75%</th>\n",
       "      <td>0.070633</td>\n",
       "      <td>0.075035</td>\n",
       "      <td>0.068478</td>\n",
       "      <td>0.070657</td>\n",
       "      <td>0.070657</td>\n",
       "      <td>6.565853e+08</td>\n",
       "    </tr>\n",
       "    <tr>\n",
       "      <th>max</th>\n",
       "      <td>0.687801</td>\n",
       "      <td>0.737567</td>\n",
       "      <td>0.608168</td>\n",
       "      <td>0.684777</td>\n",
       "      <td>0.684777</td>\n",
       "      <td>6.941068e+10</td>\n",
       "    </tr>\n",
       "  </tbody>\n",
       "</table>\n",
       "</div>"
      ],
      "text/plain": [
       "              Open         High          Low        Close    Adj Close  \\\n",
       "count  1760.000000  1760.000000  1760.000000  1760.000000  1760.000000   \n",
       "mean      0.059575     0.063096     0.056126     0.059619     0.059619   \n",
       "std       0.101325     0.109152     0.093695     0.101379     0.101379   \n",
       "min       0.001046     0.001210     0.001002     0.001038     0.001038   \n",
       "25%       0.002550     0.002616     0.002500     0.002548     0.002548   \n",
       "50%       0.003476     0.003603     0.003356     0.003495     0.003495   \n",
       "75%       0.070633     0.075035     0.068478     0.070657     0.070657   \n",
       "max       0.687801     0.737567     0.608168     0.684777     0.684777   \n",
       "\n",
       "             Volume  \n",
       "count  1.760000e+03  \n",
       "mean   1.016258e+09  \n",
       "std    3.563999e+09  \n",
       "min    1.431720e+06  \n",
       "25%    2.307671e+07  \n",
       "50%    8.981855e+07  \n",
       "75%    6.565853e+08  \n",
       "max    6.941068e+10  "
      ]
     },
     "execution_count": 38,
     "metadata": {},
     "output_type": "execute_result"
    }
   ],
   "source": [
    "#Now, I will check the statistical analysis of the data using describe() method.\n",
    "data.describe() \n"
   ]
  },
  {
   "cell_type": "markdown",
   "id": "604c667f",
   "metadata": {},
   "source": [
    "Now, firstly we will analyze the closing price as we need it to perform the prediction."
   ]
  },
  {
   "cell_type": "code",
   "execution_count": 40,
   "id": "444f58f7",
   "metadata": {},
   "outputs": [
    {
     "data": {
      "text/plain": [
       "Date\n",
       "2017-11-09    0.001415\n",
       "2017-11-10    0.001163\n",
       "2017-11-11    0.001201\n",
       "2017-11-12    0.001038\n",
       "2017-11-13    0.001211\n",
       "                ...   \n",
       "2022-08-30    0.061525\n",
       "2022-08-31    0.061330\n",
       "2022-09-01    0.062372\n",
       "2022-09-02    0.061635\n",
       "2022-09-04    0.062696\n",
       "Name: Close, Length: 1760, dtype: float64"
      ]
     },
     "execution_count": 40,
     "metadata": {},
     "output_type": "execute_result"
    }
   ],
   "source": [
    " \n",
    "x = data.groupby('Date')['Close'].mean() \n",
    "x\n"
   ]
  },
  {
   "cell_type": "code",
   "execution_count": 41,
   "id": "90a489ba",
   "metadata": {},
   "outputs": [
    {
     "data": {
      "text/plain": [
       "Text(0.5, 1.0, 'Date vs Close of 2021')"
      ]
     },
     "execution_count": 41,
     "metadata": {},
     "output_type": "execute_result"
    },
    {
     "data": {
      "image/png": "[encoded data removed]",
      "text/plain": [
       "<Figure size 2000x700 with 1 Axes>"
      ]
     },
     "metadata": {},
     "output_type": "display_data"
    }
   ],
   "source": [
    "plt.figure(figsize=(20, 7))\n",
    "x.plot(linewidth=2.5, color='b') \n",
    "plt.xlabel('Date') \n",
    "plt.ylabel('Volume') \n",
    "plt.title(\"Date vs Close of 2021\") "
   ]
  },
  {
   "cell_type": "markdown",
   "id": "5b47d991",
   "metadata": {},
   "source": [
    "The column ‘Close’ is my predicted feature. I am taking different factors from the predefined factors for my own calculation and naming them suitably. Also, i am checking each factor while correlating with the ‘Close’ column while sorting it in descending order."
   ]
  },
  {
   "cell_type": "code",
   "execution_count": 42,
   "id": "c77c4aaa",
   "metadata": {},
   "outputs": [
    {
     "data": {
      "text/plain": [
       "Close        1.000000\n",
       "Adj Close    1.000000\n",
       "High         0.995104\n",
       "Low          0.994575\n",
       "Open         0.992514\n",
       "Volume       0.588678\n",
       "b            0.456479\n",
       "gap          0.383333\n",
       "a            0.172057\n",
       "z            0.063251\n",
       "y            0.063868\n",
       "Name: Close, dtype: float64"
      ]
     },
     "execution_count": 42,
     "metadata": {},
     "output_type": "execute_result"
    }
   ],
   "source": [
    "data[\"gap\"] = (data[\"High\"] - data[\"Low\"]) * data[\"Volume\"] \n",
    "data[\"y\"] = data[\"High\"] / data[\"Volume\"] \n",
    "data[\"z\"] = data[\"Low\"] / data[\"Volume\"] \n",
    "data[\"a\"] = data[\"High\"] / data[\"Low\"] \n",
    "data[\"b\"] = (data[\"High\"] / data[\"Low\"]) * data[\"Volume\"] \n",
    "abs(data.corr()[\"Close\"].sort_values(ascending=False)) \n"
   ]
  },
  {
   "cell_type": "markdown",
   "id": "86b86c0c",
   "metadata": {},
   "source": [
    "By, observing the correlating factors, i can choose a few of them. I am excluding High, Low, and Open as they are highly correlated from the beginning."
   ]
  },
  {
   "cell_type": "code",
   "execution_count": 43,
   "id": "4252faac",
   "metadata": {},
   "outputs": [
    {
     "data": {
      "text/html": [
       "<div>\n",
       "<style scoped>\n",
       "    .dataframe tbody tr th:only-of-type {\n",
       "        vertical-align: middle;\n",
       "    }\n",
       "\n",
       "    .dataframe tbody tr th {\n",
       "        vertical-align: top;\n",
       "    }\n",
       "\n",
       "    .dataframe thead th {\n",
       "        text-align: right;\n",
       "    }\n",
       "</style>\n",
       "<table border=\"1\" class=\"dataframe\">\n",
       "  <thead>\n",
       "    <tr style=\"text-align: right;\">\n",
       "      <th></th>\n",
       "      <th>Close</th>\n",
       "      <th>Volume</th>\n",
       "      <th>gap</th>\n",
       "      <th>a</th>\n",
       "      <th>b</th>\n",
       "    </tr>\n",
       "    <tr>\n",
       "      <th>Date</th>\n",
       "      <th></th>\n",
       "      <th></th>\n",
       "      <th></th>\n",
       "      <th></th>\n",
       "      <th></th>\n",
       "    </tr>\n",
       "  </thead>\n",
       "  <tbody>\n",
       "    <tr>\n",
       "      <th>2017-11-09</th>\n",
       "      <td>0.001415</td>\n",
       "      <td>6259550.0</td>\n",
       "      <td>1464.73470</td>\n",
       "      <td>1.198137</td>\n",
       "      <td>7.499800e+06</td>\n",
       "    </tr>\n",
       "    <tr>\n",
       "      <th>2017-11-10</th>\n",
       "      <td>0.001163</td>\n",
       "      <td>4246520.0</td>\n",
       "      <td>1299.43512</td>\n",
       "      <td>1.272000</td>\n",
       "      <td>5.401573e+06</td>\n",
       "    </tr>\n",
       "    <tr>\n",
       "      <th>2017-11-11</th>\n",
       "      <td>0.001201</td>\n",
       "      <td>2231080.0</td>\n",
       "      <td>258.80528</td>\n",
       "      <td>1.101665</td>\n",
       "      <td>2.457903e+06</td>\n",
       "    </tr>\n",
       "    <tr>\n",
       "      <th>2017-11-12</th>\n",
       "      <td>0.001038</td>\n",
       "      <td>3288960.0</td>\n",
       "      <td>684.10368</td>\n",
       "      <td>1.207585</td>\n",
       "      <td>3.971698e+06</td>\n",
       "    </tr>\n",
       "    <tr>\n",
       "      <th>2017-11-13</th>\n",
       "      <td>0.001211</td>\n",
       "      <td>2481270.0</td>\n",
       "      <td>478.88511</td>\n",
       "      <td>1.189401</td>\n",
       "      <td>2.951226e+06</td>\n",
       "    </tr>\n",
       "  </tbody>\n",
       "</table>\n",
       "</div>"
      ],
      "text/plain": [
       "               Close     Volume         gap         a             b\n",
       "Date                                                               \n",
       "2017-11-09  0.001415  6259550.0  1464.73470  1.198137  7.499800e+06\n",
       "2017-11-10  0.001163  4246520.0  1299.43512  1.272000  5.401573e+06\n",
       "2017-11-11  0.001201  2231080.0   258.80528  1.101665  2.457903e+06\n",
       "2017-11-12  0.001038  3288960.0   684.10368  1.207585  3.971698e+06\n",
       "2017-11-13  0.001211  2481270.0   478.88511  1.189401  2.951226e+06"
      ]
     },
     "execution_count": 43,
     "metadata": {},
     "output_type": "execute_result"
    }
   ],
   "source": [
    "data = data[[\"Close\", \"Volume\", \"gap\", \"a\", \"b\"]] \n",
    "data.head() \n"
   ]
  },
  {
   "cell_type": "markdown",
   "id": "ded7dcf3",
   "metadata": {},
   "source": [
    "Introducing the ARIMA model for Time Series Analysis. ARIMA stands for autoregressive integrated moving average model and is specified by three order parameters: (p, d, q) where AR stands for Autoregression i.e. p, I stands for Integration i.e. d, MA stands for Moving Average i.e. q. Whereas, SARIMAX is Seasonal ARIMA with exogenous variables."
   ]
  },
  {
   "cell_type": "code",
   "execution_count": 44,
   "id": "f745ec48",
   "metadata": {},
   "outputs": [
    {
     "name": "stdout",
     "output_type": "stream",
     "text": [
      "(11, 5) (19, 5)\n"
     ]
    }
   ],
   "source": [
    "df2 = data.tail(30) \n",
    "train = df2[:11] \n",
    "test = df2[-19:] \n",
    "\n",
    "print(train.shape, test.shape) \n"
   ]
  },
  {
   "cell_type": "markdown",
   "id": "84812915",
   "metadata": {},
   "source": [
    "## Model Development\n"
   ]
  },
  {
   "cell_type": "code",
   "execution_count": 45,
   "id": "593662ce",
   "metadata": {},
   "outputs": [
    {
     "name": "stderr",
     "output_type": "stream",
     "text": [
      "E:\\DataScience\\lib\\site-packages\\statsmodels\\tsa\\base\\tsa_model.py:471: ValueWarning: No frequency information was provided, so inferred frequency D will be used.\n",
      "  self._init_dates(dates, freq)\n",
      "E:\\DataScience\\lib\\site-packages\\statsmodels\\tsa\\base\\tsa_model.py:471: ValueWarning: No frequency information was provided, so inferred frequency D will be used.\n",
      "  self._init_dates(dates, freq)\n",
      "E:\\DataScience\\lib\\site-packages\\statsmodels\\tsa\\statespace\\sarimax.py:966: UserWarning: Non-stationary starting autoregressive parameters found. Using zeros as starting parameters.\n",
      "  warn('Non-stationary starting autoregressive parameters'\n",
      "E:\\DataScience\\lib\\site-packages\\statsmodels\\base\\model.py:604: ConvergenceWarning: Maximum Likelihood optimization failed to converge. Check mle_retvals\n",
      "  warnings.warn(\"Maximum Likelihood optimization failed to \"\n"
     ]
    },
    {
     "name": "stdout",
     "output_type": "stream",
     "text": [
      "                               SARIMAX Results                                \n",
      "==============================================================================\n",
      "Dep. Variable:                  Close   No. Observations:                   11\n",
      "Model:               SARIMAX(2, 1, 1)   Log Likelihood                  47.663\n",
      "Date:                Thu, 01 Feb 2024   AIC                            -79.326\n",
      "Time:                        02:04:32   BIC                            -76.905\n",
      "Sample:                    08-05-2022   HQIC                           -81.981\n",
      "                         - 08-15-2022                                         \n",
      "Covariance Type:                  opg                                         \n",
      "==============================================================================\n",
      "                 coef    std err          z      P>|z|      [0.025      0.975]\n",
      "------------------------------------------------------------------------------\n",
      "Volume      7.491e-10   1.84e-10      4.077      0.000    3.89e-10    1.11e-09\n",
      "gap          1.13e-08   2.45e-09      4.615      0.000     6.5e-09    1.61e-08\n",
      "a             -0.0073   5.05e-15  -1.44e+12      0.000      -0.007      -0.007\n",
      "b          -7.541e-10   1.83e-10     -4.126      0.000   -1.11e-09   -3.96e-10\n",
      "ar.L1              -0   8.45e-15         -0      1.000   -1.66e-14    1.66e-14\n",
      "ar.L2               0   2.59e-14          0      1.000   -5.07e-14    5.07e-14\n",
      "ma.L1         -0.5015   1.87e-14  -2.68e+13      0.000      -0.501      -0.501\n",
      "sigma2      3.673e-07   5.67e-08      6.481      0.000    2.56e-07    4.78e-07\n",
      "===================================================================================\n",
      "Ljung-Box (L1) (Q):                   0.15   Jarque-Bera (JB):                 0.51\n",
      "Prob(Q):                              0.70   Prob(JB):                         0.77\n",
      "Heteroskedasticity (H):               0.40   Skew:                            -0.54\n",
      "Prob(H) (two-sided):                  0.47   Kurtosis:                         2.72\n",
      "===================================================================================\n",
      "\n",
      "Warnings:\n",
      "[1] Covariance matrix calculated using the outer product of gradients (complex-step).\n",
      "[2] Covariance matrix is singular or near-singular, with condition number 4.63e+29. Standard errors may be unstable.\n"
     ]
    }
   ],
   "source": [
    "from statsmodels.tsa.statespace.sarimax import SARIMAX \n",
    "model = SARIMAX(endog=train[\"Close\"], exog=train.drop( \"Close\", axis=1), order=(2, 1, 1)) \n",
    "results = model.fit() \n",
    "print(results.summary()) \n"
   ]
  },
  {
   "cell_type": "code",
   "execution_count": 46,
   "id": "abfaeed8",
   "metadata": {},
   "outputs": [
    {
     "data": {
      "text/plain": [
       "2022-08-16    0.097293\n",
       "2022-08-17    0.083717\n",
       "2022-08-18    0.075957\n",
       "2022-08-19    0.069575\n",
       "2022-08-20    0.071583\n",
       "2022-08-21    0.072099\n",
       "2022-08-22    0.071244\n",
       "2022-08-23    0.072458\n",
       "2022-08-24    0.072406\n",
       "2022-08-25    0.071893\n",
       "2022-08-26    0.068140\n",
       "2022-08-27    0.071804\n",
       "2022-08-28    0.071866\n",
       "2022-08-29    0.071522\n",
       "2022-08-30    0.070720\n",
       "2022-08-31    0.071736\n",
       "2022-09-01    0.071452\n",
       "2022-09-02    0.072203\n",
       "2022-09-03    0.072785\n",
       "Freq: D, Name: predicted_mean, dtype: float64"
      ]
     },
     "execution_count": 46,
     "metadata": {},
     "output_type": "execute_result"
    }
   ],
   "source": [
    "start = 11\n",
    "end = 29\n",
    "predictions = results.predict( start=start, end=end, exog=test.drop(\"Close\", axis=1)) \n",
    "predictions \n"
   ]
  },
  {
   "cell_type": "code",
   "execution_count": 48,
   "id": "a7983441",
   "metadata": {},
   "outputs": [
    {
     "data": {
      "text/plain": [
       "<Axes: xlabel='Date'>"
      ]
     },
     "execution_count": 48,
     "metadata": {},
     "output_type": "execute_result"
    },
    {
     "data": {
      "image/png": "[encoded data removed]",
      "text/plain": [
       "<Figure size 1200x600 with 1 Axes>"
      ]
     },
     "metadata": {},
     "output_type": "display_data"
    }
   ],
   "source": [
    "#Now, observe the prediction in time series.\n",
    "\n",
    "test[\"Close\"].plot(legend=True, figsize=(12, 6)) \n",
    "predictions.plot(label='TimeSeries', legend=True) \n"
   ]
  },
  {
   "cell_type": "code",
   "execution_count": null,
   "id": "8fc96547",
   "metadata": {},
   "outputs": [],
   "source": []
  }
 ],
 "metadata": {
  "kernelspec": {
   "display_name": "Python 3 (ipykernel)",
   "language": "python",
   "name": "python3"
  },
  "language_info": {
   "codemirror_mode": {
    "name": "ipython",
    "version": 3
   },
   "file_extension": ".py",
   "mimetype": "text/x-python",
   "name": "python",
   "nbconvert_exporter": "python",
   "pygments_lexer": "ipython3",
   "version": "3.10.10"
  }
 },
 "nbformat": 4,
 "nbformat_minor": 5
}
