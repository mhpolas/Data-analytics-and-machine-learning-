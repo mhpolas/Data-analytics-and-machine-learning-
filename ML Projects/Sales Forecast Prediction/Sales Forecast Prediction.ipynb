{
 "cells": [
  {
   "cell_type": "code",
   "execution_count": null,
   "id": "827f3fca",
   "metadata": {},
   "outputs": [],
   "source": [
    "import pandas as pd\t\t\t\t\t # to extract data from dataset(.csv file)\n",
    "import csv\t\t\t\t\t\t\t #used to read and write to csv files\n",
    "import numpy as np\t\t\t\t\t #used to convert input into numpy arrays to be fed to the model\n",
    "import matplotlib.pyplot as plt\t\t #to plot/visualize sales data and sales forecasting\n",
    "import tensorflow as tf\t\t\t\t # acts as the framework upon which this model is built\n",
    "from tensorflow import keras\t\t #defines layers and functions in the model\n",
    "\n",
    "#here the csv file has been copied into three lists to allow better availability\n",
    "list_row,date,traffic = get_data('/home/abh/Documents/Python/Untitled Folder/Sales_dataset')\n"
   ]
  }
 ],
 "metadata": {
  "kernelspec": {
   "display_name": "Python 3 (ipykernel)",
   "language": "python",
   "name": "python3"
  },
  "language_info": {
   "codemirror_mode": {
    "name": "ipython",
    "version": 3
   },
   "file_extension": ".py",
   "mimetype": "text/x-python",
   "name": "python",
   "nbconvert_exporter": "python",
   "pygments_lexer": "ipython3",
   "version": "3.10.10"
  }
 },
 "nbformat": 4,
 "nbformat_minor": 5
}
