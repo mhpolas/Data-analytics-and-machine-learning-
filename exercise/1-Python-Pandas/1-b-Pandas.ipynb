{
  "cells": [
    {
      "cell_type": "markdown",
      "metadata": {
        "id": "vdcH6yGjEX6t"
      },
      "source": [
        "# Brief Introduction to pandas"
      ]
    },
    {
      "cell_type": "markdown",
      "metadata": {
        "id": "8NUV95P-EX6x"
      },
      "source": [
        "pandas is an open-source library providing intuitive data structures for data analysis, data transformation, cleaning, and, with the help of matplotlib, simple data visualizations.\n",
        "\n",
        "Most pandas' functionality is based on the numpy library, which is a optimized library providing efficient data structures and mathematical functions.\n",
        "\n",
        "Note that this JupyterNotebook merely gives an overview and is by no means complete. Yet, this notebook introduces pandas' central data structures (Series and DataFrame), how to index and select data from a DataFrame, as well as operations for data cleaning, sorting, aggregating, and grouping data.\n",
        "For detailed explanations and further topics like time series and date functionality refer to the extensive [user guide](https://pandas.pydata.org/docs/user_guide/index.html) and [API](https://pandas.pydata.org/docs/reference/index.html)."
      ]
    },
    {
      "cell_type": "markdown",
      "metadata": {
        "id": "oA5Z2dMDEX6y"
      },
      "source": [
        "To use pandas simply import it like in the following code cell. Typically, this library is aliased with `pd`. It became the de-facto standard to import it with this alias."
      ]
    },
    {
      "cell_type": "code",
      "execution_count": 1,
      "metadata": {
        "id": "-GmlSxpnEX6z"
      },
      "outputs": [],
      "source": [
        "import pandas as pd"
      ]
    },
    {
      "cell_type": "markdown",
      "metadata": {
        "id": "B5N9G58OEX60"
      },
      "source": [
        "## Content\n",
        "\n",
        "1. [Central Data Structures: Series and DataFrame](#data_structures)\n",
        "2. [Indexing and Selection](#index_selection)\n",
        "3. [Content Modification](#modification)\n",
        "4. [Sort DataFrame by Index](#sort)\n",
        "5. [Statistics, Aggregation, and Grouping](#stats_aggregation_grouping)\n",
        "6. [Data Cleaning Operations](#cleaning)\n",
        "7. [Read and Write Data](#read_write)\n",
        "8. [Database Access](#database_access)"
      ]
    },
    {
      "cell_type": "markdown",
      "metadata": {
        "id": "p9d_14ofEX61"
      },
      "source": [
        "## 1. Central Data Structures: Series and DataFrame <a id='data_structures'></a>\n"
      ]
    },
    {
      "cell_type": "markdown",
      "metadata": {
        "id": "mRVNH_WQEX62"
      },
      "source": [
        "pandas represents data in a table format called `DataFrame` in which every column represents a `Series`. A `Series` holds data of a specific type such as String or integer. Under the hood, a `Series` is nothing more than a one-dimensional numpy array with a heading (column name). In this way, a `DataFrame` is a table with several columns (`Series`) that has column names. \n",
        "\n",
        "![DataFrame](https://github.com/FAU-CS6/KDD/blob/main/exercise/1-Python-Pandas/img/01_table_dataframe.svg?raw=1)\n",
        "\n",
        "<div class=\"alert alert-danger\" role=\"alert\">\n",
        "\n",
        "### Difference: pandas vs. numpy\n",
        "\n",
        "- pandas may have trouble with extremely large DataFrames. It becomes sluggish and slow compared to numpy arrays.\n",
        "- pandas `DataFrame`s hold tabular data of mixed types, whereas numpy arrays do not support mixed types.    \n",
        "- numpy arrays are different to Python lists. A numpy array can only hold values of the same type whereas a Python list can hold mixed data types.\n",
        "- numpy arrays are optimized and thus consume less (memory) storage.\n",
        "- numpy library is written in C and provides an API for Python. Thus, code is already compiled which makes access and computations faster. Python code is merely interpreted and thus slower.\n",
        "- Mathematical operations on numpy arrays behave just like mathematical operations on matrices and vectors (e. g. multiplication, addition).\n",
        "- numpy provides more or less the same functionality as pandas.\n",
        "\n",
        "</div>"
      ]
    },
    {
      "cell_type": "markdown",
      "metadata": {
        "id": "VSngmP6yEX63"
      },
      "source": [
        "### Object Creation\n",
        "\n",
        "Different ways exist to create a pandas `DataFrame`. These include, for instance, creation from a list, numpy array, dictionary and list of dictionaries."
      ]
    },
    {
      "cell_type": "markdown",
      "metadata": {
        "id": "uYrSLuaBEX64"
      },
      "source": [
        "1. `DataFrame` Creation From a List"
      ]
    },
    {
      "cell_type": "code",
      "execution_count": 2,
      "metadata": {
        "id": "fy4G4kjhEX65",
        "outputId": "9e9dec2c-0063-4245-8329-279243280119",
        "colab": {
          "base_uri": "https://localhost:8080/",
          "height": 332
        }
      },
      "outputs": [
        {
          "output_type": "execute_result",
          "data": {
            "text/plain": [
              "   0                          1      2\n",
              "0  1        Course Introduction   True\n",
              "1  2           KDD Introduction   True\n",
              "2  3  Getting To Know Your Data  False\n",
              "3  4         Data Preprocessing  False\n",
              "4  5                       OLAP  False\n",
              "5  6           Frequent Pattern  False\n",
              "6  7             Classification  False\n",
              "7  8                    Cluster  False\n",
              "8  9                    Outlier  False"
            ],
            "text/html": [
              "\n",
              "  <div id=\"df-ea284c01-2c6d-4064-821e-2478753647f3\">\n",
              "    <div class=\"colab-df-container\">\n",
              "      <div>\n",
              "<style scoped>\n",
              "    .dataframe tbody tr th:only-of-type {\n",
              "        vertical-align: middle;\n",
              "    }\n",
              "\n",
              "    .dataframe tbody tr th {\n",
              "        vertical-align: top;\n",
              "    }\n",
              "\n",
              "    .dataframe thead th {\n",
              "        text-align: right;\n",
              "    }\n",
              "</style>\n",
              "<table border=\"1\" class=\"dataframe\">\n",
              "  <thead>\n",
              "    <tr style=\"text-align: right;\">\n",
              "      <th></th>\n",
              "      <th>0</th>\n",
              "      <th>1</th>\n",
              "      <th>2</th>\n",
              "    </tr>\n",
              "  </thead>\n",
              "  <tbody>\n",
              "    <tr>\n",
              "      <th>0</th>\n",
              "      <td>1</td>\n",
              "      <td>Course Introduction</td>\n",
              "      <td>True</td>\n",
              "    </tr>\n",
              "    <tr>\n",
              "      <th>1</th>\n",
              "      <td>2</td>\n",
              "      <td>KDD Introduction</td>\n",
              "      <td>True</td>\n",
              "    </tr>\n",
              "    <tr>\n",
              "      <th>2</th>\n",
              "      <td>3</td>\n",
              "      <td>Getting To Know Your Data</td>\n",
              "      <td>False</td>\n",
              "    </tr>\n",
              "    <tr>\n",
              "      <th>3</th>\n",
              "      <td>4</td>\n",
              "      <td>Data Preprocessing</td>\n",
              "      <td>False</td>\n",
              "    </tr>\n",
              "    <tr>\n",
              "      <th>4</th>\n",
              "      <td>5</td>\n",
              "      <td>OLAP</td>\n",
              "      <td>False</td>\n",
              "    </tr>\n",
              "    <tr>\n",
              "      <th>5</th>\n",
              "      <td>6</td>\n",
              "      <td>Frequent Pattern</td>\n",
              "      <td>False</td>\n",
              "    </tr>\n",
              "    <tr>\n",
              "      <th>6</th>\n",
              "      <td>7</td>\n",
              "      <td>Classification</td>\n",
              "      <td>False</td>\n",
              "    </tr>\n",
              "    <tr>\n",
              "      <th>7</th>\n",
              "      <td>8</td>\n",
              "      <td>Cluster</td>\n",
              "      <td>False</td>\n",
              "    </tr>\n",
              "    <tr>\n",
              "      <th>8</th>\n",
              "      <td>9</td>\n",
              "      <td>Outlier</td>\n",
              "      <td>False</td>\n",
              "    </tr>\n",
              "  </tbody>\n",
              "</table>\n",
              "</div>\n",
              "      <button class=\"colab-df-convert\" onclick=\"convertToInteractive('df-ea284c01-2c6d-4064-821e-2478753647f3')\"\n",
              "              title=\"Convert this dataframe to an interactive table.\"\n",
              "              style=\"display:none;\">\n",
              "        \n",
              "  <svg xmlns=\"http://www.w3.org/2000/svg\" height=\"24px\"viewBox=\"0 0 24 24\"\n",
              "       width=\"24px\">\n",
              "    <path d=\"M0 0h24v24H0V0z\" fill=\"none\"/>\n",
              "    <path d=\"M18.56 5.44l.94 2.06.94-2.06 2.06-.94-2.06-.94-.94-2.06-.94 2.06-2.06.94zm-11 1L8.5 8.5l.94-2.06 2.06-.94-2.06-.94L8.5 2.5l-.94 2.06-2.06.94zm10 10l.94 2.06.94-2.06 2.06-.94-2.06-.94-.94-2.06-.94 2.06-2.06.94z\"/><path d=\"M17.41 7.96l-1.37-1.37c-.4-.4-.92-.59-1.43-.59-.52 0-1.04.2-1.43.59L10.3 9.45l-7.72 7.72c-.78.78-.78 2.05 0 2.83L4 21.41c.39.39.9.59 1.41.59.51 0 1.02-.2 1.41-.59l7.78-7.78 2.81-2.81c.8-.78.8-2.07 0-2.86zM5.41 20L4 18.59l7.72-7.72 1.47 1.35L5.41 20z\"/>\n",
              "  </svg>\n",
              "      </button>\n",
              "      \n",
              "  <style>\n",
              "    .colab-df-container {\n",
              "      display:flex;\n",
              "      flex-wrap:wrap;\n",
              "      gap: 12px;\n",
              "    }\n",
              "\n",
              "    .colab-df-convert {\n",
              "      background-color: #E8F0FE;\n",
              "      border: none;\n",
              "      border-radius: 50%;\n",
              "      cursor: pointer;\n",
              "      display: none;\n",
              "      fill: #1967D2;\n",
              "      height: 32px;\n",
              "      padding: 0 0 0 0;\n",
              "      width: 32px;\n",
              "    }\n",
              "\n",
              "    .colab-df-convert:hover {\n",
              "      background-color: #E2EBFA;\n",
              "      box-shadow: 0px 1px 2px rgba(60, 64, 67, 0.3), 0px 1px 3px 1px rgba(60, 64, 67, 0.15);\n",
              "      fill: #174EA6;\n",
              "    }\n",
              "\n",
              "    [theme=dark] .colab-df-convert {\n",
              "      background-color: #3B4455;\n",
              "      fill: #D2E3FC;\n",
              "    }\n",
              "\n",
              "    [theme=dark] .colab-df-convert:hover {\n",
              "      background-color: #434B5C;\n",
              "      box-shadow: 0px 1px 3px 1px rgba(0, 0, 0, 0.15);\n",
              "      filter: drop-shadow(0px 1px 2px rgba(0, 0, 0, 0.3));\n",
              "      fill: #FFFFFF;\n",
              "    }\n",
              "  </style>\n",
              "\n",
              "      <script>\n",
              "        const buttonEl =\n",
              "          document.querySelector('#df-ea284c01-2c6d-4064-821e-2478753647f3 button.colab-df-convert');\n",
              "        buttonEl.style.display =\n",
              "          google.colab.kernel.accessAllowed ? 'block' : 'none';\n",
              "\n",
              "        async function convertToInteractive(key) {\n",
              "          const element = document.querySelector('#df-ea284c01-2c6d-4064-821e-2478753647f3');\n",
              "          const dataTable =\n",
              "            await google.colab.kernel.invokeFunction('convertToInteractive',\n",
              "                                                     [key], {});\n",
              "          if (!dataTable) return;\n",
              "\n",
              "          const docLinkHtml = 'Like what you see? Visit the ' +\n",
              "            '<a target=\"_blank\" href=https://colab.research.google.com/notebooks/data_table.ipynb>data table notebook</a>'\n",
              "            + ' to learn more about interactive tables.';\n",
              "          element.innerHTML = '';\n",
              "          dataTable['output_type'] = 'display_data';\n",
              "          await google.colab.output.renderOutput(dataTable, element);\n",
              "          const docLink = document.createElement('div');\n",
              "          docLink.innerHTML = docLinkHtml;\n",
              "          element.appendChild(docLink);\n",
              "        }\n",
              "      </script>\n",
              "    </div>\n",
              "  </div>\n",
              "  "
            ]
          },
          "metadata": {},
          "execution_count": 2
        }
      ],
      "source": [
        "df = pd.DataFrame(\n",
        "    data=[\n",
        "        [1, \"Course Introduction\", True],\n",
        "        [2, \"KDD Introduction\", True],\n",
        "        [3, \"Getting To Know Your Data\", False],\n",
        "        [4, \"Data Preprocessing\", False],\n",
        "        [5, \"OLAP\", False],\n",
        "        [6, \"Frequent Pattern\", False],\n",
        "        [7, \"Classification\", False],\n",
        "        [8, \"Cluster\", False],\n",
        "        [9, \"Outlier\", False],\n",
        "    ]\n",
        ")\n",
        "df"
      ]
    },
    {
      "cell_type": "markdown",
      "metadata": {
        "id": "0oURoga6EX65"
      },
      "source": [
        "2. `DataFrame` Creation From a Dictionary"
      ]
    },
    {
      "cell_type": "code",
      "execution_count": 3,
      "metadata": {
        "id": "aY2nSJw2EX66",
        "outputId": "2b7a9d8a-fd48-4993-cf30-f969c01b0468",
        "colab": {
          "base_uri": "https://localhost:8080/",
          "height": 332
        }
      },
      "outputs": [
        {
          "output_type": "execute_result",
          "data": {
            "text/plain": [
              "   Number               Lecture Name   Done\n",
              "0       1        Course Introduction   True\n",
              "1       2           KDD Introduction   True\n",
              "2       3  Getting To Know Your Data  False\n",
              "3       4         Data Preprocessing  False\n",
              "4       5                       OLAP  False\n",
              "5       6           Frequent Pattern  False\n",
              "6       7             Classification  False\n",
              "7       8                    Cluster  False\n",
              "8       9                    Outlier  False"
            ],
            "text/html": [
              "\n",
              "  <div id=\"df-c861d080-55b5-40d4-b36c-14ddc470bf66\">\n",
              "    <div class=\"colab-df-container\">\n",
              "      <div>\n",
              "<style scoped>\n",
              "    .dataframe tbody tr th:only-of-type {\n",
              "        vertical-align: middle;\n",
              "    }\n",
              "\n",
              "    .dataframe tbody tr th {\n",
              "        vertical-align: top;\n",
              "    }\n",
              "\n",
              "    .dataframe thead th {\n",
              "        text-align: right;\n",
              "    }\n",
              "</style>\n",
              "<table border=\"1\" class=\"dataframe\">\n",
              "  <thead>\n",
              "    <tr style=\"text-align: right;\">\n",
              "      <th></th>\n",
              "      <th>Number</th>\n",
              "      <th>Lecture Name</th>\n",
              "      <th>Done</th>\n",
              "    </tr>\n",
              "  </thead>\n",
              "  <tbody>\n",
              "    <tr>\n",
              "      <th>0</th>\n",
              "      <td>1</td>\n",
              "      <td>Course Introduction</td>\n",
              "      <td>True</td>\n",
              "    </tr>\n",
              "    <tr>\n",
              "      <th>1</th>\n",
              "      <td>2</td>\n",
              "      <td>KDD Introduction</td>\n",
              "      <td>True</td>\n",
              "    </tr>\n",
              "    <tr>\n",
              "      <th>2</th>\n",
              "      <td>3</td>\n",
              "      <td>Getting To Know Your Data</td>\n",
              "      <td>False</td>\n",
              "    </tr>\n",
              "    <tr>\n",
              "      <th>3</th>\n",
              "      <td>4</td>\n",
              "      <td>Data Preprocessing</td>\n",
              "      <td>False</td>\n",
              "    </tr>\n",
              "    <tr>\n",
              "      <th>4</th>\n",
              "      <td>5</td>\n",
              "      <td>OLAP</td>\n",
              "      <td>False</td>\n",
              "    </tr>\n",
              "    <tr>\n",
              "      <th>5</th>\n",
              "      <td>6</td>\n",
              "      <td>Frequent Pattern</td>\n",
              "      <td>False</td>\n",
              "    </tr>\n",
              "    <tr>\n",
              "      <th>6</th>\n",
              "      <td>7</td>\n",
              "      <td>Classification</td>\n",
              "      <td>False</td>\n",
              "    </tr>\n",
              "    <tr>\n",
              "      <th>7</th>\n",
              "      <td>8</td>\n",
              "      <td>Cluster</td>\n",
              "      <td>False</td>\n",
              "    </tr>\n",
              "    <tr>\n",
              "      <th>8</th>\n",
              "      <td>9</td>\n",
              "      <td>Outlier</td>\n",
              "      <td>False</td>\n",
              "    </tr>\n",
              "  </tbody>\n",
              "</table>\n",
              "</div>\n",
              "      <button class=\"colab-df-convert\" onclick=\"convertToInteractive('df-c861d080-55b5-40d4-b36c-14ddc470bf66')\"\n",
              "              title=\"Convert this dataframe to an interactive table.\"\n",
              "              style=\"display:none;\">\n",
              "        \n",
              "  <svg xmlns=\"http://www.w3.org/2000/svg\" height=\"24px\"viewBox=\"0 0 24 24\"\n",
              "       width=\"24px\">\n",
              "    <path d=\"M0 0h24v24H0V0z\" fill=\"none\"/>\n",
              "    <path d=\"M18.56 5.44l.94 2.06.94-2.06 2.06-.94-2.06-.94-.94-2.06-.94 2.06-2.06.94zm-11 1L8.5 8.5l.94-2.06 2.06-.94-2.06-.94L8.5 2.5l-.94 2.06-2.06.94zm10 10l.94 2.06.94-2.06 2.06-.94-2.06-.94-.94-2.06-.94 2.06-2.06.94z\"/><path d=\"M17.41 7.96l-1.37-1.37c-.4-.4-.92-.59-1.43-.59-.52 0-1.04.2-1.43.59L10.3 9.45l-7.72 7.72c-.78.78-.78 2.05 0 2.83L4 21.41c.39.39.9.59 1.41.59.51 0 1.02-.2 1.41-.59l7.78-7.78 2.81-2.81c.8-.78.8-2.07 0-2.86zM5.41 20L4 18.59l7.72-7.72 1.47 1.35L5.41 20z\"/>\n",
              "  </svg>\n",
              "      </button>\n",
              "      \n",
              "  <style>\n",
              "    .colab-df-container {\n",
              "      display:flex;\n",
              "      flex-wrap:wrap;\n",
              "      gap: 12px;\n",
              "    }\n",
              "\n",
              "    .colab-df-convert {\n",
              "      background-color: #E8F0FE;\n",
              "      border: none;\n",
              "      border-radius: 50%;\n",
              "      cursor: pointer;\n",
              "      display: none;\n",
              "      fill: #1967D2;\n",
              "      height: 32px;\n",
              "      padding: 0 0 0 0;\n",
              "      width: 32px;\n",
              "    }\n",
              "\n",
              "    .colab-df-convert:hover {\n",
              "      background-color: #E2EBFA;\n",
              "      box-shadow: 0px 1px 2px rgba(60, 64, 67, 0.3), 0px 1px 3px 1px rgba(60, 64, 67, 0.15);\n",
              "      fill: #174EA6;\n",
              "    }\n",
              "\n",
              "    [theme=dark] .colab-df-convert {\n",
              "      background-color: #3B4455;\n",
              "      fill: #D2E3FC;\n",
              "    }\n",
              "\n",
              "    [theme=dark] .colab-df-convert:hover {\n",
              "      background-color: #434B5C;\n",
              "      box-shadow: 0px 1px 3px 1px rgba(0, 0, 0, 0.15);\n",
              "      filter: drop-shadow(0px 1px 2px rgba(0, 0, 0, 0.3));\n",
              "      fill: #FFFFFF;\n",
              "    }\n",
              "  </style>\n",
              "\n",
              "      <script>\n",
              "        const buttonEl =\n",
              "          document.querySelector('#df-c861d080-55b5-40d4-b36c-14ddc470bf66 button.colab-df-convert');\n",
              "        buttonEl.style.display =\n",
              "          google.colab.kernel.accessAllowed ? 'block' : 'none';\n",
              "\n",
              "        async function convertToInteractive(key) {\n",
              "          const element = document.querySelector('#df-c861d080-55b5-40d4-b36c-14ddc470bf66');\n",
              "          const dataTable =\n",
              "            await google.colab.kernel.invokeFunction('convertToInteractive',\n",
              "                                                     [key], {});\n",
              "          if (!dataTable) return;\n",
              "\n",
              "          const docLinkHtml = 'Like what you see? Visit the ' +\n",
              "            '<a target=\"_blank\" href=https://colab.research.google.com/notebooks/data_table.ipynb>data table notebook</a>'\n",
              "            + ' to learn more about interactive tables.';\n",
              "          element.innerHTML = '';\n",
              "          dataTable['output_type'] = 'display_data';\n",
              "          await google.colab.output.renderOutput(dataTable, element);\n",
              "          const docLink = document.createElement('div');\n",
              "          docLink.innerHTML = docLinkHtml;\n",
              "          element.appendChild(docLink);\n",
              "        }\n",
              "      </script>\n",
              "    </div>\n",
              "  </div>\n",
              "  "
            ]
          },
          "metadata": {},
          "execution_count": 3
        }
      ],
      "source": [
        "df = pd.DataFrame(\n",
        "    data={\n",
        "        \"Number\": [1, 2, 3, 4, 5, 6, 7, 8, 9],\n",
        "        \"Lecture Name\": [\n",
        "            \"Course Introduction\",\n",
        "            \"KDD Introduction\",\n",
        "            \"Getting To Know Your Data\",\n",
        "            \"Data Preprocessing\",\n",
        "            \"OLAP\",\n",
        "            \"Frequent Pattern\",\n",
        "            \"Classification\",\n",
        "            \"Cluster\",\n",
        "            \"Outlier\",\n",
        "        ],\n",
        "        \"Done\": [True, True, False, False, False, False, False, False, False],\n",
        "    }\n",
        ")\n",
        "df"
      ]
    },
    {
      "cell_type": "markdown",
      "metadata": {
        "id": "uEPyfrqOEX66"
      },
      "source": [
        "Another way of creating a `DataFrame` from a dictionary:"
      ]
    },
    {
      "cell_type": "code",
      "execution_count": 4,
      "metadata": {
        "id": "0d5fBIFmEX67",
        "outputId": "3ab59635-106d-4841-c9c9-16a8e610f261",
        "colab": {
          "base_uri": "https://localhost:8080/",
          "height": 332
        }
      },
      "outputs": [
        {
          "output_type": "execute_result",
          "data": {
            "text/plain": [
              "   Number               Lecture Name   Done\n",
              "0       1        Course Introduction   True\n",
              "1       2           KDD Introduction   True\n",
              "2       3  Getting To Know Your Data  False\n",
              "3       4         Data Preprocessing  False\n",
              "4       5                       OLAP  False\n",
              "5       6           Frequent Pattern  False\n",
              "6       7             Classification  False\n",
              "7       8                    Cluster  False\n",
              "8       9                    Outlier  False"
            ],
            "text/html": [
              "\n",
              "  <div id=\"df-3fad7437-6935-4f03-8350-9bbf2db835e8\">\n",
              "    <div class=\"colab-df-container\">\n",
              "      <div>\n",
              "<style scoped>\n",
              "    .dataframe tbody tr th:only-of-type {\n",
              "        vertical-align: middle;\n",
              "    }\n",
              "\n",
              "    .dataframe tbody tr th {\n",
              "        vertical-align: top;\n",
              "    }\n",
              "\n",
              "    .dataframe thead th {\n",
              "        text-align: right;\n",
              "    }\n",
              "</style>\n",
              "<table border=\"1\" class=\"dataframe\">\n",
              "  <thead>\n",
              "    <tr style=\"text-align: right;\">\n",
              "      <th></th>\n",
              "      <th>Number</th>\n",
              "      <th>Lecture Name</th>\n",
              "      <th>Done</th>\n",
              "    </tr>\n",
              "  </thead>\n",
              "  <tbody>\n",
              "    <tr>\n",
              "      <th>0</th>\n",
              "      <td>1</td>\n",
              "      <td>Course Introduction</td>\n",
              "      <td>True</td>\n",
              "    </tr>\n",
              "    <tr>\n",
              "      <th>1</th>\n",
              "      <td>2</td>\n",
              "      <td>KDD Introduction</td>\n",
              "      <td>True</td>\n",
              "    </tr>\n",
              "    <tr>\n",
              "      <th>2</th>\n",
              "      <td>3</td>\n",
              "      <td>Getting To Know Your Data</td>\n",
              "      <td>False</td>\n",
              "    </tr>\n",
              "    <tr>\n",
              "      <th>3</th>\n",
              "      <td>4</td>\n",
              "      <td>Data Preprocessing</td>\n",
              "      <td>False</td>\n",
              "    </tr>\n",
              "    <tr>\n",
              "      <th>4</th>\n",
              "      <td>5</td>\n",
              "      <td>OLAP</td>\n",
              "      <td>False</td>\n",
              "    </tr>\n",
              "    <tr>\n",
              "      <th>5</th>\n",
              "      <td>6</td>\n",
              "      <td>Frequent Pattern</td>\n",
              "      <td>False</td>\n",
              "    </tr>\n",
              "    <tr>\n",
              "      <th>6</th>\n",
              "      <td>7</td>\n",
              "      <td>Classification</td>\n",
              "      <td>False</td>\n",
              "    </tr>\n",
              "    <tr>\n",
              "      <th>7</th>\n",
              "      <td>8</td>\n",
              "      <td>Cluster</td>\n",
              "      <td>False</td>\n",
              "    </tr>\n",
              "    <tr>\n",
              "      <th>8</th>\n",
              "      <td>9</td>\n",
              "      <td>Outlier</td>\n",
              "      <td>False</td>\n",
              "    </tr>\n",
              "  </tbody>\n",
              "</table>\n",
              "</div>\n",
              "      <button class=\"colab-df-convert\" onclick=\"convertToInteractive('df-3fad7437-6935-4f03-8350-9bbf2db835e8')\"\n",
              "              title=\"Convert this dataframe to an interactive table.\"\n",
              "              style=\"display:none;\">\n",
              "        \n",
              "  <svg xmlns=\"http://www.w3.org/2000/svg\" height=\"24px\"viewBox=\"0 0 24 24\"\n",
              "       width=\"24px\">\n",
              "    <path d=\"M0 0h24v24H0V0z\" fill=\"none\"/>\n",
              "    <path d=\"M18.56 5.44l.94 2.06.94-2.06 2.06-.94-2.06-.94-.94-2.06-.94 2.06-2.06.94zm-11 1L8.5 8.5l.94-2.06 2.06-.94-2.06-.94L8.5 2.5l-.94 2.06-2.06.94zm10 10l.94 2.06.94-2.06 2.06-.94-2.06-.94-.94-2.06-.94 2.06-2.06.94z\"/><path d=\"M17.41 7.96l-1.37-1.37c-.4-.4-.92-.59-1.43-.59-.52 0-1.04.2-1.43.59L10.3 9.45l-7.72 7.72c-.78.78-.78 2.05 0 2.83L4 21.41c.39.39.9.59 1.41.59.51 0 1.02-.2 1.41-.59l7.78-7.78 2.81-2.81c.8-.78.8-2.07 0-2.86zM5.41 20L4 18.59l7.72-7.72 1.47 1.35L5.41 20z\"/>\n",
              "  </svg>\n",
              "      </button>\n",
              "      \n",
              "  <style>\n",
              "    .colab-df-container {\n",
              "      display:flex;\n",
              "      flex-wrap:wrap;\n",
              "      gap: 12px;\n",
              "    }\n",
              "\n",
              "    .colab-df-convert {\n",
              "      background-color: #E8F0FE;\n",
              "      border: none;\n",
              "      border-radius: 50%;\n",
              "      cursor: pointer;\n",
              "      display: none;\n",
              "      fill: #1967D2;\n",
              "      height: 32px;\n",
              "      padding: 0 0 0 0;\n",
              "      width: 32px;\n",
              "    }\n",
              "\n",
              "    .colab-df-convert:hover {\n",
              "      background-color: #E2EBFA;\n",
              "      box-shadow: 0px 1px 2px rgba(60, 64, 67, 0.3), 0px 1px 3px 1px rgba(60, 64, 67, 0.15);\n",
              "      fill: #174EA6;\n",
              "    }\n",
              "\n",
              "    [theme=dark] .colab-df-convert {\n",
              "      background-color: #3B4455;\n",
              "      fill: #D2E3FC;\n",
              "    }\n",
              "\n",
              "    [theme=dark] .colab-df-convert:hover {\n",
              "      background-color: #434B5C;\n",
              "      box-shadow: 0px 1px 3px 1px rgba(0, 0, 0, 0.15);\n",
              "      filter: drop-shadow(0px 1px 2px rgba(0, 0, 0, 0.3));\n",
              "      fill: #FFFFFF;\n",
              "    }\n",
              "  </style>\n",
              "\n",
              "      <script>\n",
              "        const buttonEl =\n",
              "          document.querySelector('#df-3fad7437-6935-4f03-8350-9bbf2db835e8 button.colab-df-convert');\n",
              "        buttonEl.style.display =\n",
              "          google.colab.kernel.accessAllowed ? 'block' : 'none';\n",
              "\n",
              "        async function convertToInteractive(key) {\n",
              "          const element = document.querySelector('#df-3fad7437-6935-4f03-8350-9bbf2db835e8');\n",
              "          const dataTable =\n",
              "            await google.colab.kernel.invokeFunction('convertToInteractive',\n",
              "                                                     [key], {});\n",
              "          if (!dataTable) return;\n",
              "\n",
              "          const docLinkHtml = 'Like what you see? Visit the ' +\n",
              "            '<a target=\"_blank\" href=https://colab.research.google.com/notebooks/data_table.ipynb>data table notebook</a>'\n",
              "            + ' to learn more about interactive tables.';\n",
              "          element.innerHTML = '';\n",
              "          dataTable['output_type'] = 'display_data';\n",
              "          await google.colab.output.renderOutput(dataTable, element);\n",
              "          const docLink = document.createElement('div');\n",
              "          docLink.innerHTML = docLinkHtml;\n",
              "          element.appendChild(docLink);\n",
              "        }\n",
              "      </script>\n",
              "    </div>\n",
              "  </div>\n",
              "  "
            ]
          },
          "metadata": {},
          "execution_count": 4
        }
      ],
      "source": [
        "df = pd.DataFrame(\n",
        "    data=[\n",
        "        {\"Number\": 1, \"Lecture Name\": \"Course Introduction\", \"Done\": True},\n",
        "        {\n",
        "            \"Number\": 2,\n",
        "            \"Lecture Name\": \"KDD Introduction\",\n",
        "            \"Done\": True,\n",
        "        },\n",
        "        {\n",
        "            \"Number\": 3,\n",
        "            \"Lecture Name\": \"Getting To Know Your Data\",\n",
        "            \"Done\": False,\n",
        "        },\n",
        "        {\n",
        "            \"Number\": 4,\n",
        "            \"Lecture Name\": \"Data Preprocessing\",\n",
        "            \"Done\": False,\n",
        "        },\n",
        "        {\n",
        "            \"Number\": 5,\n",
        "            \"Lecture Name\": \"OLAP\",\n",
        "            \"Done\": False,\n",
        "        },\n",
        "        {\n",
        "            \"Number\": 6,\n",
        "            \"Lecture Name\": \"Frequent Pattern\",\n",
        "            \"Done\": False,\n",
        "        },\n",
        "        {\n",
        "            \"Number\": 7,\n",
        "            \"Lecture Name\": \"Classification\",\n",
        "            \"Done\": False,\n",
        "        },\n",
        "        {\n",
        "            \"Number\": 8,\n",
        "            \"Lecture Name\": \"Cluster\",\n",
        "            \"Done\": False,\n",
        "        },\n",
        "        {\n",
        "            \"Number\": 9,\n",
        "            \"Lecture Name\": \"Outlier\",\n",
        "            \"Done\": False,\n",
        "        },\n",
        "    ]\n",
        ")\n",
        "df"
      ]
    },
    {
      "cell_type": "code",
      "execution_count": 5,
      "metadata": {
        "id": "fcDvjJqhEX67"
      },
      "outputs": [],
      "source": [
        "# we copy this DataFrame for later use\n",
        "df_original = df.copy()"
      ]
    },
    {
      "cell_type": "markdown",
      "metadata": {
        "id": "Kpq4INKxEX68"
      },
      "source": [
        "pandas automatically derives data types. You can view them with the function `dtypes`:"
      ]
    },
    {
      "cell_type": "code",
      "execution_count": 6,
      "metadata": {
        "id": "VD3VNfPLEX68",
        "outputId": "caa144a9-958d-462f-b7cb-6faed234bb9a",
        "colab": {
          "base_uri": "https://localhost:8080/"
        }
      },
      "outputs": [
        {
          "output_type": "execute_result",
          "data": {
            "text/plain": [
              "Number           int64\n",
              "Lecture Name    object\n",
              "Done              bool\n",
              "dtype: object"
            ]
          },
          "metadata": {},
          "execution_count": 6
        }
      ],
      "source": [
        "df.dtypes"
      ]
    },
    {
      "cell_type": "markdown",
      "metadata": {
        "id": "moV9NnciEX68"
      },
      "source": [
        "Note that the data type of column \"Lecture Name\" is of type `object`. [Documentation of `dtypes`](https://pandas.pydata.org/docs/reference/api/pandas.DataFrame.dtypes.html) reveals that \"[c]olumns with mixed types are stored with the `object` dtype\". Generally, pandas has two ways to store strings: in an `object` dtype capable of holding any Python object, or `StringDtype`. It is, however, recommended to use `StringDtype` for strings. Conversion of dtype can be achieved with the function `astype`, which is available for both `DataFrame` and `Series`. \n",
        "\n",
        "Changing dtype of a specific column of a `DataFrame`:"
      ]
    },
    {
      "cell_type": "code",
      "execution_count": 7,
      "metadata": {
        "id": "p1fJzQcXEX69",
        "outputId": "79631c71-ad4e-4494-d897-bf8323241e30",
        "colab": {
          "base_uri": "https://localhost:8080/"
        }
      },
      "outputs": [
        {
          "output_type": "execute_result",
          "data": {
            "text/plain": [
              "Number           int64\n",
              "Lecture Name    string\n",
              "Done              bool\n",
              "dtype: object"
            ]
          },
          "metadata": {},
          "execution_count": 7
        }
      ],
      "source": [
        "df = df.astype({\"Lecture Name\": \"string\"})\n",
        "df.dtypes"
      ]
    },
    {
      "cell_type": "markdown",
      "metadata": {
        "id": "JLT4nDJ6EX69"
      },
      "source": [
        "<div class=\"alert alert-info\" role=\"alert\">\n",
        "\n",
        "### Exercise: Create a pandas Series Using the Variable `lectures`.\n",
        "\n",
        "</div>"
      ]
    },
    {
      "cell_type": "code",
      "execution_count": 8,
      "metadata": {
        "id": "7I9diYmZEX69"
      },
      "outputs": [],
      "source": [
        "lectures = [\n",
        "    \"Course Introduction\",\n",
        "    \"KDD Introduction\",\n",
        "    \"Getting To Know Your Data\",\n",
        "    \"Data Preprocessing\",\n",
        "    \"OLAP\",\n",
        "    \"Frequent Pattern\",\n",
        "    \"Classification\",\n",
        "    \"Cluster\",\n",
        "    \"Outlier\",\n",
        "]"
      ]
    },
    {
      "cell_type": "code",
      "execution_count": 9,
      "metadata": {
        "tags": [
          "student"
        ],
        "id": "hcfufnp3EX6-"
      },
      "outputs": [],
      "source": [
        "# TODO type your solution here"
      ]
    },
    {
      "cell_type": "code",
      "execution_count": 10,
      "metadata": {
        "tags": [
          "solution"
        ],
        "id": "RtLlbMm8EX6-",
        "outputId": "b1bb0c93-63ac-44bf-e7af-cf6d29d8cb09",
        "colab": {
          "base_uri": "https://localhost:8080/"
        }
      },
      "outputs": [
        {
          "output_type": "execute_result",
          "data": {
            "text/plain": [
              "0          Course Introduction\n",
              "1             KDD Introduction\n",
              "2    Getting To Know Your Data\n",
              "3           Data Preprocessing\n",
              "4                         OLAP\n",
              "5             Frequent Pattern\n",
              "6               Classification\n",
              "7                      Cluster\n",
              "8                      Outlier\n",
              "dtype: object"
            ]
          },
          "metadata": {},
          "execution_count": 10
        }
      ],
      "source": [
        "lecture_series = pd.Series(lectures)\n",
        "lecture_series"
      ]
    },
    {
      "cell_type": "markdown",
      "metadata": {
        "id": "4KH_spmnEX6-"
      },
      "source": [
        "<div class=\"alert alert-info\" role=\"alert\">\n",
        "\n",
        "### Exercise: Create a pandas DataFrame Using The Created Series. \n",
        "\n",
        "</div>"
      ]
    },
    {
      "cell_type": "code",
      "execution_count": 11,
      "metadata": {
        "tags": [
          "student"
        ],
        "id": "MndW4R4UEX6-"
      },
      "outputs": [],
      "source": [
        "# TODO type your solution here"
      ]
    },
    {
      "cell_type": "code",
      "execution_count": 12,
      "metadata": {
        "tags": [
          "solution"
        ],
        "id": "av_VFtvuEX6-",
        "outputId": "8dbce3ef-f093-4559-bcc7-f2f7d9a26f7b",
        "colab": {
          "base_uri": "https://localhost:8080/",
          "height": 0
        }
      },
      "outputs": [
        {
          "output_type": "execute_result",
          "data": {
            "text/plain": [
              "                Lecture Name\n",
              "0        Course Introduction\n",
              "1           KDD Introduction\n",
              "2  Getting To Know Your Data\n",
              "3         Data Preprocessing\n",
              "4                       OLAP\n",
              "5           Frequent Pattern\n",
              "6             Classification\n",
              "7                    Cluster\n",
              "8                    Outlier"
            ],
            "text/html": [
              "\n",
              "  <div id=\"df-f505ffc6-b691-4783-80e8-620f3138aa62\">\n",
              "    <div class=\"colab-df-container\">\n",
              "      <div>\n",
              "<style scoped>\n",
              "    .dataframe tbody tr th:only-of-type {\n",
              "        vertical-align: middle;\n",
              "    }\n",
              "\n",
              "    .dataframe tbody tr th {\n",
              "        vertical-align: top;\n",
              "    }\n",
              "\n",
              "    .dataframe thead th {\n",
              "        text-align: right;\n",
              "    }\n",
              "</style>\n",
              "<table border=\"1\" class=\"dataframe\">\n",
              "  <thead>\n",
              "    <tr style=\"text-align: right;\">\n",
              "      <th></th>\n",
              "      <th>Lecture Name</th>\n",
              "    </tr>\n",
              "  </thead>\n",
              "  <tbody>\n",
              "    <tr>\n",
              "      <th>0</th>\n",
              "      <td>Course Introduction</td>\n",
              "    </tr>\n",
              "    <tr>\n",
              "      <th>1</th>\n",
              "      <td>KDD Introduction</td>\n",
              "    </tr>\n",
              "    <tr>\n",
              "      <th>2</th>\n",
              "      <td>Getting To Know Your Data</td>\n",
              "    </tr>\n",
              "    <tr>\n",
              "      <th>3</th>\n",
              "      <td>Data Preprocessing</td>\n",
              "    </tr>\n",
              "    <tr>\n",
              "      <th>4</th>\n",
              "      <td>OLAP</td>\n",
              "    </tr>\n",
              "    <tr>\n",
              "      <th>5</th>\n",
              "      <td>Frequent Pattern</td>\n",
              "    </tr>\n",
              "    <tr>\n",
              "      <th>6</th>\n",
              "      <td>Classification</td>\n",
              "    </tr>\n",
              "    <tr>\n",
              "      <th>7</th>\n",
              "      <td>Cluster</td>\n",
              "    </tr>\n",
              "    <tr>\n",
              "      <th>8</th>\n",
              "      <td>Outlier</td>\n",
              "    </tr>\n",
              "  </tbody>\n",
              "</table>\n",
              "</div>\n",
              "      <button class=\"colab-df-convert\" onclick=\"convertToInteractive('df-f505ffc6-b691-4783-80e8-620f3138aa62')\"\n",
              "              title=\"Convert this dataframe to an interactive table.\"\n",
              "              style=\"display:none;\">\n",
              "        \n",
              "  <svg xmlns=\"http://www.w3.org/2000/svg\" height=\"24px\"viewBox=\"0 0 24 24\"\n",
              "       width=\"24px\">\n",
              "    <path d=\"M0 0h24v24H0V0z\" fill=\"none\"/>\n",
              "    <path d=\"M18.56 5.44l.94 2.06.94-2.06 2.06-.94-2.06-.94-.94-2.06-.94 2.06-2.06.94zm-11 1L8.5 8.5l.94-2.06 2.06-.94-2.06-.94L8.5 2.5l-.94 2.06-2.06.94zm10 10l.94 2.06.94-2.06 2.06-.94-2.06-.94-.94-2.06-.94 2.06-2.06.94z\"/><path d=\"M17.41 7.96l-1.37-1.37c-.4-.4-.92-.59-1.43-.59-.52 0-1.04.2-1.43.59L10.3 9.45l-7.72 7.72c-.78.78-.78 2.05 0 2.83L4 21.41c.39.39.9.59 1.41.59.51 0 1.02-.2 1.41-.59l7.78-7.78 2.81-2.81c.8-.78.8-2.07 0-2.86zM5.41 20L4 18.59l7.72-7.72 1.47 1.35L5.41 20z\"/>\n",
              "  </svg>\n",
              "      </button>\n",
              "      \n",
              "  <style>\n",
              "    .colab-df-container {\n",
              "      display:flex;\n",
              "      flex-wrap:wrap;\n",
              "      gap: 12px;\n",
              "    }\n",
              "\n",
              "    .colab-df-convert {\n",
              "      background-color: #E8F0FE;\n",
              "      border: none;\n",
              "      border-radius: 50%;\n",
              "      cursor: pointer;\n",
              "      display: none;\n",
              "      fill: #1967D2;\n",
              "      height: 32px;\n",
              "      padding: 0 0 0 0;\n",
              "      width: 32px;\n",
              "    }\n",
              "\n",
              "    .colab-df-convert:hover {\n",
              "      background-color: #E2EBFA;\n",
              "      box-shadow: 0px 1px 2px rgba(60, 64, 67, 0.3), 0px 1px 3px 1px rgba(60, 64, 67, 0.15);\n",
              "      fill: #174EA6;\n",
              "    }\n",
              "\n",
              "    [theme=dark] .colab-df-convert {\n",
              "      background-color: #3B4455;\n",
              "      fill: #D2E3FC;\n",
              "    }\n",
              "\n",
              "    [theme=dark] .colab-df-convert:hover {\n",
              "      background-color: #434B5C;\n",
              "      box-shadow: 0px 1px 3px 1px rgba(0, 0, 0, 0.15);\n",
              "      filter: drop-shadow(0px 1px 2px rgba(0, 0, 0, 0.3));\n",
              "      fill: #FFFFFF;\n",
              "    }\n",
              "  </style>\n",
              "\n",
              "      <script>\n",
              "        const buttonEl =\n",
              "          document.querySelector('#df-f505ffc6-b691-4783-80e8-620f3138aa62 button.colab-df-convert');\n",
              "        buttonEl.style.display =\n",
              "          google.colab.kernel.accessAllowed ? 'block' : 'none';\n",
              "\n",
              "        async function convertToInteractive(key) {\n",
              "          const element = document.querySelector('#df-f505ffc6-b691-4783-80e8-620f3138aa62');\n",
              "          const dataTable =\n",
              "            await google.colab.kernel.invokeFunction('convertToInteractive',\n",
              "                                                     [key], {});\n",
              "          if (!dataTable) return;\n",
              "\n",
              "          const docLinkHtml = 'Like what you see? Visit the ' +\n",
              "            '<a target=\"_blank\" href=https://colab.research.google.com/notebooks/data_table.ipynb>data table notebook</a>'\n",
              "            + ' to learn more about interactive tables.';\n",
              "          element.innerHTML = '';\n",
              "          dataTable['output_type'] = 'display_data';\n",
              "          await google.colab.output.renderOutput(dataTable, element);\n",
              "          const docLink = document.createElement('div');\n",
              "          docLink.innerHTML = docLinkHtml;\n",
              "          element.appendChild(docLink);\n",
              "        }\n",
              "      </script>\n",
              "    </div>\n",
              "  </div>\n",
              "  "
            ]
          },
          "metadata": {},
          "execution_count": 12
        }
      ],
      "source": [
        "lecture_df = pd.DataFrame(lecture_series, columns=[\"Lecture Name\"])\n",
        "lecture_df"
      ]
    },
    {
      "cell_type": "markdown",
      "metadata": {
        "id": "daAv6tXgEX6_"
      },
      "source": [
        "### Accessing First or Last Rows of a DataFrame\n",
        "\n",
        "A `DataFrame` may hold many rows. Viewing the whole `DataFrame` at once might not always be the best idea. However, it is possible to only view the first or the last couple of rows. A default of five rows will be displayed each."
      ]
    },
    {
      "cell_type": "code",
      "execution_count": 13,
      "metadata": {
        "id": "697K6UrGEX6_",
        "outputId": "dba0761c-59e8-4888-8d9a-812b8bfd1bc3",
        "colab": {
          "base_uri": "https://localhost:8080/",
          "height": 206
        }
      },
      "outputs": [
        {
          "output_type": "execute_result",
          "data": {
            "text/plain": [
              "   Number               Lecture Name   Done\n",
              "0       1        Course Introduction   True\n",
              "1       2           KDD Introduction   True\n",
              "2       3  Getting To Know Your Data  False\n",
              "3       4         Data Preprocessing  False\n",
              "4       5                       OLAP  False"
            ],
            "text/html": [
              "\n",
              "  <div id=\"df-b2c65b22-f440-4432-bd50-ecfaeacf0068\">\n",
              "    <div class=\"colab-df-container\">\n",
              "      <div>\n",
              "<style scoped>\n",
              "    .dataframe tbody tr th:only-of-type {\n",
              "        vertical-align: middle;\n",
              "    }\n",
              "\n",
              "    .dataframe tbody tr th {\n",
              "        vertical-align: top;\n",
              "    }\n",
              "\n",
              "    .dataframe thead th {\n",
              "        text-align: right;\n",
              "    }\n",
              "</style>\n",
              "<table border=\"1\" class=\"dataframe\">\n",
              "  <thead>\n",
              "    <tr style=\"text-align: right;\">\n",
              "      <th></th>\n",
              "      <th>Number</th>\n",
              "      <th>Lecture Name</th>\n",
              "      <th>Done</th>\n",
              "    </tr>\n",
              "  </thead>\n",
              "  <tbody>\n",
              "    <tr>\n",
              "      <th>0</th>\n",
              "      <td>1</td>\n",
              "      <td>Course Introduction</td>\n",
              "      <td>True</td>\n",
              "    </tr>\n",
              "    <tr>\n",
              "      <th>1</th>\n",
              "      <td>2</td>\n",
              "      <td>KDD Introduction</td>\n",
              "      <td>True</td>\n",
              "    </tr>\n",
              "    <tr>\n",
              "      <th>2</th>\n",
              "      <td>3</td>\n",
              "      <td>Getting To Know Your Data</td>\n",
              "      <td>False</td>\n",
              "    </tr>\n",
              "    <tr>\n",
              "      <th>3</th>\n",
              "      <td>4</td>\n",
              "      <td>Data Preprocessing</td>\n",
              "      <td>False</td>\n",
              "    </tr>\n",
              "    <tr>\n",
              "      <th>4</th>\n",
              "      <td>5</td>\n",
              "      <td>OLAP</td>\n",
              "      <td>False</td>\n",
              "    </tr>\n",
              "  </tbody>\n",
              "</table>\n",
              "</div>\n",
              "      <button class=\"colab-df-convert\" onclick=\"convertToInteractive('df-b2c65b22-f440-4432-bd50-ecfaeacf0068')\"\n",
              "              title=\"Convert this dataframe to an interactive table.\"\n",
              "              style=\"display:none;\">\n",
              "        \n",
              "  <svg xmlns=\"http://www.w3.org/2000/svg\" height=\"24px\"viewBox=\"0 0 24 24\"\n",
              "       width=\"24px\">\n",
              "    <path d=\"M0 0h24v24H0V0z\" fill=\"none\"/>\n",
              "    <path d=\"M18.56 5.44l.94 2.06.94-2.06 2.06-.94-2.06-.94-.94-2.06-.94 2.06-2.06.94zm-11 1L8.5 8.5l.94-2.06 2.06-.94-2.06-.94L8.5 2.5l-.94 2.06-2.06.94zm10 10l.94 2.06.94-2.06 2.06-.94-2.06-.94-.94-2.06-.94 2.06-2.06.94z\"/><path d=\"M17.41 7.96l-1.37-1.37c-.4-.4-.92-.59-1.43-.59-.52 0-1.04.2-1.43.59L10.3 9.45l-7.72 7.72c-.78.78-.78 2.05 0 2.83L4 21.41c.39.39.9.59 1.41.59.51 0 1.02-.2 1.41-.59l7.78-7.78 2.81-2.81c.8-.78.8-2.07 0-2.86zM5.41 20L4 18.59l7.72-7.72 1.47 1.35L5.41 20z\"/>\n",
              "  </svg>\n",
              "      </button>\n",
              "      \n",
              "  <style>\n",
              "    .colab-df-container {\n",
              "      display:flex;\n",
              "      flex-wrap:wrap;\n",
              "      gap: 12px;\n",
              "    }\n",
              "\n",
              "    .colab-df-convert {\n",
              "      background-color: #E8F0FE;\n",
              "      border: none;\n",
              "      border-radius: 50%;\n",
              "      cursor: pointer;\n",
              "      display: none;\n",
              "      fill: #1967D2;\n",
              "      height: 32px;\n",
              "      padding: 0 0 0 0;\n",
              "      width: 32px;\n",
              "    }\n",
              "\n",
              "    .colab-df-convert:hover {\n",
              "      background-color: #E2EBFA;\n",
              "      box-shadow: 0px 1px 2px rgba(60, 64, 67, 0.3), 0px 1px 3px 1px rgba(60, 64, 67, 0.15);\n",
              "      fill: #174EA6;\n",
              "    }\n",
              "\n",
              "    [theme=dark] .colab-df-convert {\n",
              "      background-color: #3B4455;\n",
              "      fill: #D2E3FC;\n",
              "    }\n",
              "\n",
              "    [theme=dark] .colab-df-convert:hover {\n",
              "      background-color: #434B5C;\n",
              "      box-shadow: 0px 1px 3px 1px rgba(0, 0, 0, 0.15);\n",
              "      filter: drop-shadow(0px 1px 2px rgba(0, 0, 0, 0.3));\n",
              "      fill: #FFFFFF;\n",
              "    }\n",
              "  </style>\n",
              "\n",
              "      <script>\n",
              "        const buttonEl =\n",
              "          document.querySelector('#df-b2c65b22-f440-4432-bd50-ecfaeacf0068 button.colab-df-convert');\n",
              "        buttonEl.style.display =\n",
              "          google.colab.kernel.accessAllowed ? 'block' : 'none';\n",
              "\n",
              "        async function convertToInteractive(key) {\n",
              "          const element = document.querySelector('#df-b2c65b22-f440-4432-bd50-ecfaeacf0068');\n",
              "          const dataTable =\n",
              "            await google.colab.kernel.invokeFunction('convertToInteractive',\n",
              "                                                     [key], {});\n",
              "          if (!dataTable) return;\n",
              "\n",
              "          const docLinkHtml = 'Like what you see? Visit the ' +\n",
              "            '<a target=\"_blank\" href=https://colab.research.google.com/notebooks/data_table.ipynb>data table notebook</a>'\n",
              "            + ' to learn more about interactive tables.';\n",
              "          element.innerHTML = '';\n",
              "          dataTable['output_type'] = 'display_data';\n",
              "          await google.colab.output.renderOutput(dataTable, element);\n",
              "          const docLink = document.createElement('div');\n",
              "          docLink.innerHTML = docLinkHtml;\n",
              "          element.appendChild(docLink);\n",
              "        }\n",
              "      </script>\n",
              "    </div>\n",
              "  </div>\n",
              "  "
            ]
          },
          "metadata": {},
          "execution_count": 13
        }
      ],
      "source": [
        "df = df_original.copy()\n",
        "df.head()"
      ]
    },
    {
      "cell_type": "code",
      "execution_count": 14,
      "metadata": {
        "id": "fxnZTHaCEX6_",
        "outputId": "90c0eb62-4d58-4764-dc58-c5f53b3d316c",
        "colab": {
          "base_uri": "https://localhost:8080/",
          "height": 112
        }
      },
      "outputs": [
        {
          "output_type": "execute_result",
          "data": {
            "text/plain": [
              "   Number         Lecture Name  Done\n",
              "0       1  Course Introduction  True\n",
              "1       2     KDD Introduction  True"
            ],
            "text/html": [
              "\n",
              "  <div id=\"df-3c82d139-bb4f-4194-a591-5649d0578f0c\">\n",
              "    <div class=\"colab-df-container\">\n",
              "      <div>\n",
              "<style scoped>\n",
              "    .dataframe tbody tr th:only-of-type {\n",
              "        vertical-align: middle;\n",
              "    }\n",
              "\n",
              "    .dataframe tbody tr th {\n",
              "        vertical-align: top;\n",
              "    }\n",
              "\n",
              "    .dataframe thead th {\n",
              "        text-align: right;\n",
              "    }\n",
              "</style>\n",
              "<table border=\"1\" class=\"dataframe\">\n",
              "  <thead>\n",
              "    <tr style=\"text-align: right;\">\n",
              "      <th></th>\n",
              "      <th>Number</th>\n",
              "      <th>Lecture Name</th>\n",
              "      <th>Done</th>\n",
              "    </tr>\n",
              "  </thead>\n",
              "  <tbody>\n",
              "    <tr>\n",
              "      <th>0</th>\n",
              "      <td>1</td>\n",
              "      <td>Course Introduction</td>\n",
              "      <td>True</td>\n",
              "    </tr>\n",
              "    <tr>\n",
              "      <th>1</th>\n",
              "      <td>2</td>\n",
              "      <td>KDD Introduction</td>\n",
              "      <td>True</td>\n",
              "    </tr>\n",
              "  </tbody>\n",
              "</table>\n",
              "</div>\n",
              "      <button class=\"colab-df-convert\" onclick=\"convertToInteractive('df-3c82d139-bb4f-4194-a591-5649d0578f0c')\"\n",
              "              title=\"Convert this dataframe to an interactive table.\"\n",
              "              style=\"display:none;\">\n",
              "        \n",
              "  <svg xmlns=\"http://www.w3.org/2000/svg\" height=\"24px\"viewBox=\"0 0 24 24\"\n",
              "       width=\"24px\">\n",
              "    <path d=\"M0 0h24v24H0V0z\" fill=\"none\"/>\n",
              "    <path d=\"M18.56 5.44l.94 2.06.94-2.06 2.06-.94-2.06-.94-.94-2.06-.94 2.06-2.06.94zm-11 1L8.5 8.5l.94-2.06 2.06-.94-2.06-.94L8.5 2.5l-.94 2.06-2.06.94zm10 10l.94 2.06.94-2.06 2.06-.94-2.06-.94-.94-2.06-.94 2.06-2.06.94z\"/><path d=\"M17.41 7.96l-1.37-1.37c-.4-.4-.92-.59-1.43-.59-.52 0-1.04.2-1.43.59L10.3 9.45l-7.72 7.72c-.78.78-.78 2.05 0 2.83L4 21.41c.39.39.9.59 1.41.59.51 0 1.02-.2 1.41-.59l7.78-7.78 2.81-2.81c.8-.78.8-2.07 0-2.86zM5.41 20L4 18.59l7.72-7.72 1.47 1.35L5.41 20z\"/>\n",
              "  </svg>\n",
              "      </button>\n",
              "      \n",
              "  <style>\n",
              "    .colab-df-container {\n",
              "      display:flex;\n",
              "      flex-wrap:wrap;\n",
              "      gap: 12px;\n",
              "    }\n",
              "\n",
              "    .colab-df-convert {\n",
              "      background-color: #E8F0FE;\n",
              "      border: none;\n",
              "      border-radius: 50%;\n",
              "      cursor: pointer;\n",
              "      display: none;\n",
              "      fill: #1967D2;\n",
              "      height: 32px;\n",
              "      padding: 0 0 0 0;\n",
              "      width: 32px;\n",
              "    }\n",
              "\n",
              "    .colab-df-convert:hover {\n",
              "      background-color: #E2EBFA;\n",
              "      box-shadow: 0px 1px 2px rgba(60, 64, 67, 0.3), 0px 1px 3px 1px rgba(60, 64, 67, 0.15);\n",
              "      fill: #174EA6;\n",
              "    }\n",
              "\n",
              "    [theme=dark] .colab-df-convert {\n",
              "      background-color: #3B4455;\n",
              "      fill: #D2E3FC;\n",
              "    }\n",
              "\n",
              "    [theme=dark] .colab-df-convert:hover {\n",
              "      background-color: #434B5C;\n",
              "      box-shadow: 0px 1px 3px 1px rgba(0, 0, 0, 0.15);\n",
              "      filter: drop-shadow(0px 1px 2px rgba(0, 0, 0, 0.3));\n",
              "      fill: #FFFFFF;\n",
              "    }\n",
              "  </style>\n",
              "\n",
              "      <script>\n",
              "        const buttonEl =\n",
              "          document.querySelector('#df-3c82d139-bb4f-4194-a591-5649d0578f0c button.colab-df-convert');\n",
              "        buttonEl.style.display =\n",
              "          google.colab.kernel.accessAllowed ? 'block' : 'none';\n",
              "\n",
              "        async function convertToInteractive(key) {\n",
              "          const element = document.querySelector('#df-3c82d139-bb4f-4194-a591-5649d0578f0c');\n",
              "          const dataTable =\n",
              "            await google.colab.kernel.invokeFunction('convertToInteractive',\n",
              "                                                     [key], {});\n",
              "          if (!dataTable) return;\n",
              "\n",
              "          const docLinkHtml = 'Like what you see? Visit the ' +\n",
              "            '<a target=\"_blank\" href=https://colab.research.google.com/notebooks/data_table.ipynb>data table notebook</a>'\n",
              "            + ' to learn more about interactive tables.';\n",
              "          element.innerHTML = '';\n",
              "          dataTable['output_type'] = 'display_data';\n",
              "          await google.colab.output.renderOutput(dataTable, element);\n",
              "          const docLink = document.createElement('div');\n",
              "          docLink.innerHTML = docLinkHtml;\n",
              "          element.appendChild(docLink);\n",
              "        }\n",
              "      </script>\n",
              "    </div>\n",
              "  </div>\n",
              "  "
            ]
          },
          "metadata": {},
          "execution_count": 14
        }
      ],
      "source": [
        "df.head(2)"
      ]
    },
    {
      "cell_type": "code",
      "execution_count": 15,
      "metadata": {
        "id": "2xGlMRZfEX6_",
        "outputId": "0e4711ba-338f-4936-cef1-fc4223455a15",
        "colab": {
          "base_uri": "https://localhost:8080/",
          "height": 206
        }
      },
      "outputs": [
        {
          "output_type": "execute_result",
          "data": {
            "text/plain": [
              "   Number      Lecture Name   Done\n",
              "4       5              OLAP  False\n",
              "5       6  Frequent Pattern  False\n",
              "6       7    Classification  False\n",
              "7       8           Cluster  False\n",
              "8       9           Outlier  False"
            ],
            "text/html": [
              "\n",
              "  <div id=\"df-a859bdf2-c3ba-4a52-8402-83929ac5dadc\">\n",
              "    <div class=\"colab-df-container\">\n",
              "      <div>\n",
              "<style scoped>\n",
              "    .dataframe tbody tr th:only-of-type {\n",
              "        vertical-align: middle;\n",
              "    }\n",
              "\n",
              "    .dataframe tbody tr th {\n",
              "        vertical-align: top;\n",
              "    }\n",
              "\n",
              "    .dataframe thead th {\n",
              "        text-align: right;\n",
              "    }\n",
              "</style>\n",
              "<table border=\"1\" class=\"dataframe\">\n",
              "  <thead>\n",
              "    <tr style=\"text-align: right;\">\n",
              "      <th></th>\n",
              "      <th>Number</th>\n",
              "      <th>Lecture Name</th>\n",
              "      <th>Done</th>\n",
              "    </tr>\n",
              "  </thead>\n",
              "  <tbody>\n",
              "    <tr>\n",
              "      <th>4</th>\n",
              "      <td>5</td>\n",
              "      <td>OLAP</td>\n",
              "      <td>False</td>\n",
              "    </tr>\n",
              "    <tr>\n",
              "      <th>5</th>\n",
              "      <td>6</td>\n",
              "      <td>Frequent Pattern</td>\n",
              "      <td>False</td>\n",
              "    </tr>\n",
              "    <tr>\n",
              "      <th>6</th>\n",
              "      <td>7</td>\n",
              "      <td>Classification</td>\n",
              "      <td>False</td>\n",
              "    </tr>\n",
              "    <tr>\n",
              "      <th>7</th>\n",
              "      <td>8</td>\n",
              "      <td>Cluster</td>\n",
              "      <td>False</td>\n",
              "    </tr>\n",
              "    <tr>\n",
              "      <th>8</th>\n",
              "      <td>9</td>\n",
              "      <td>Outlier</td>\n",
              "      <td>False</td>\n",
              "    </tr>\n",
              "  </tbody>\n",
              "</table>\n",
              "</div>\n",
              "      <button class=\"colab-df-convert\" onclick=\"convertToInteractive('df-a859bdf2-c3ba-4a52-8402-83929ac5dadc')\"\n",
              "              title=\"Convert this dataframe to an interactive table.\"\n",
              "              style=\"display:none;\">\n",
              "        \n",
              "  <svg xmlns=\"http://www.w3.org/2000/svg\" height=\"24px\"viewBox=\"0 0 24 24\"\n",
              "       width=\"24px\">\n",
              "    <path d=\"M0 0h24v24H0V0z\" fill=\"none\"/>\n",
              "    <path d=\"M18.56 5.44l.94 2.06.94-2.06 2.06-.94-2.06-.94-.94-2.06-.94 2.06-2.06.94zm-11 1L8.5 8.5l.94-2.06 2.06-.94-2.06-.94L8.5 2.5l-.94 2.06-2.06.94zm10 10l.94 2.06.94-2.06 2.06-.94-2.06-.94-.94-2.06-.94 2.06-2.06.94z\"/><path d=\"M17.41 7.96l-1.37-1.37c-.4-.4-.92-.59-1.43-.59-.52 0-1.04.2-1.43.59L10.3 9.45l-7.72 7.72c-.78.78-.78 2.05 0 2.83L4 21.41c.39.39.9.59 1.41.59.51 0 1.02-.2 1.41-.59l7.78-7.78 2.81-2.81c.8-.78.8-2.07 0-2.86zM5.41 20L4 18.59l7.72-7.72 1.47 1.35L5.41 20z\"/>\n",
              "  </svg>\n",
              "      </button>\n",
              "      \n",
              "  <style>\n",
              "    .colab-df-container {\n",
              "      display:flex;\n",
              "      flex-wrap:wrap;\n",
              "      gap: 12px;\n",
              "    }\n",
              "\n",
              "    .colab-df-convert {\n",
              "      background-color: #E8F0FE;\n",
              "      border: none;\n",
              "      border-radius: 50%;\n",
              "      cursor: pointer;\n",
              "      display: none;\n",
              "      fill: #1967D2;\n",
              "      height: 32px;\n",
              "      padding: 0 0 0 0;\n",
              "      width: 32px;\n",
              "    }\n",
              "\n",
              "    .colab-df-convert:hover {\n",
              "      background-color: #E2EBFA;\n",
              "      box-shadow: 0px 1px 2px rgba(60, 64, 67, 0.3), 0px 1px 3px 1px rgba(60, 64, 67, 0.15);\n",
              "      fill: #174EA6;\n",
              "    }\n",
              "\n",
              "    [theme=dark] .colab-df-convert {\n",
              "      background-color: #3B4455;\n",
              "      fill: #D2E3FC;\n",
              "    }\n",
              "\n",
              "    [theme=dark] .colab-df-convert:hover {\n",
              "      background-color: #434B5C;\n",
              "      box-shadow: 0px 1px 3px 1px rgba(0, 0, 0, 0.15);\n",
              "      filter: drop-shadow(0px 1px 2px rgba(0, 0, 0, 0.3));\n",
              "      fill: #FFFFFF;\n",
              "    }\n",
              "  </style>\n",
              "\n",
              "      <script>\n",
              "        const buttonEl =\n",
              "          document.querySelector('#df-a859bdf2-c3ba-4a52-8402-83929ac5dadc button.colab-df-convert');\n",
              "        buttonEl.style.display =\n",
              "          google.colab.kernel.accessAllowed ? 'block' : 'none';\n",
              "\n",
              "        async function convertToInteractive(key) {\n",
              "          const element = document.querySelector('#df-a859bdf2-c3ba-4a52-8402-83929ac5dadc');\n",
              "          const dataTable =\n",
              "            await google.colab.kernel.invokeFunction('convertToInteractive',\n",
              "                                                     [key], {});\n",
              "          if (!dataTable) return;\n",
              "\n",
              "          const docLinkHtml = 'Like what you see? Visit the ' +\n",
              "            '<a target=\"_blank\" href=https://colab.research.google.com/notebooks/data_table.ipynb>data table notebook</a>'\n",
              "            + ' to learn more about interactive tables.';\n",
              "          element.innerHTML = '';\n",
              "          dataTable['output_type'] = 'display_data';\n",
              "          await google.colab.output.renderOutput(dataTable, element);\n",
              "          const docLink = document.createElement('div');\n",
              "          docLink.innerHTML = docLinkHtml;\n",
              "          element.appendChild(docLink);\n",
              "        }\n",
              "      </script>\n",
              "    </div>\n",
              "  </div>\n",
              "  "
            ]
          },
          "metadata": {},
          "execution_count": 15
        }
      ],
      "source": [
        "df.tail()"
      ]
    },
    {
      "cell_type": "markdown",
      "metadata": {
        "id": "Qnb2QId6EX6_"
      },
      "source": [
        "### Get Number of Rows and Columns"
      ]
    },
    {
      "cell_type": "code",
      "execution_count": 16,
      "metadata": {
        "id": "PVaykigiEX6_",
        "outputId": "13811b3c-2f31-4248-fc88-60220237ce93",
        "colab": {
          "base_uri": "https://localhost:8080/"
        }
      },
      "outputs": [
        {
          "output_type": "execute_result",
          "data": {
            "text/plain": [
              "(9, 3)"
            ]
          },
          "metadata": {},
          "execution_count": 16
        }
      ],
      "source": [
        "df.shape"
      ]
    },
    {
      "cell_type": "code",
      "execution_count": 17,
      "metadata": {
        "id": "9Nh0nKasEX6_",
        "outputId": "1c90e87b-b772-4494-a6d9-fba48f3c93aa",
        "colab": {
          "base_uri": "https://localhost:8080/"
        }
      },
      "outputs": [
        {
          "output_type": "stream",
          "name": "stdout",
          "text": [
            "Number of rows: 9\n",
            "Number of columns: 3\n"
          ]
        }
      ],
      "source": [
        "print(f\"Number of rows: {df.shape[0]}\", f\"Number of columns: {df.shape[1]}\", sep=\"\\n\")"
      ]
    },
    {
      "cell_type": "markdown",
      "metadata": {
        "id": "dPpLqQo2EX6_"
      },
      "source": [
        "### Get Number of Cells in a DataFrame or Series"
      ]
    },
    {
      "cell_type": "code",
      "execution_count": 18,
      "metadata": {
        "id": "BARKXhBIEX7A",
        "outputId": "07093ebc-e731-4d2f-cc87-09130feccb67",
        "colab": {
          "base_uri": "https://localhost:8080/"
        }
      },
      "outputs": [
        {
          "output_type": "execute_result",
          "data": {
            "text/plain": [
              "27"
            ]
          },
          "metadata": {},
          "execution_count": 18
        }
      ],
      "source": [
        "df.size"
      ]
    },
    {
      "cell_type": "markdown",
      "metadata": {
        "id": "ATikUF6GEX7A"
      },
      "source": [
        "### Get Memory Consumption in Bytes"
      ]
    },
    {
      "cell_type": "code",
      "execution_count": 19,
      "metadata": {
        "id": "KC5AhNoOEX7A",
        "outputId": "7d9122c2-36ee-4444-9b5a-fab79b6f6d2e",
        "colab": {
          "base_uri": "https://localhost:8080/"
        }
      },
      "outputs": [
        {
          "output_type": "execute_result",
          "data": {
            "text/plain": [
              "Index           128\n",
              "Number           72\n",
              "Lecture Name     72\n",
              "Done              9\n",
              "dtype: int64"
            ]
          },
          "metadata": {},
          "execution_count": 19
        }
      ],
      "source": [
        "df.memory_usage()"
      ]
    },
    {
      "cell_type": "markdown",
      "metadata": {
        "id": "LgrFJynbEX7A"
      },
      "source": [
        "### Get Useful DataFrame Information"
      ]
    },
    {
      "cell_type": "code",
      "execution_count": 20,
      "metadata": {
        "id": "nSnRPvWqEX7A",
        "outputId": "d61189d9-c4e0-4491-c122-f0e8d24cd98a",
        "colab": {
          "base_uri": "https://localhost:8080/"
        }
      },
      "outputs": [
        {
          "output_type": "stream",
          "name": "stdout",
          "text": [
            "<class 'pandas.core.frame.DataFrame'>\n",
            "RangeIndex: 9 entries, 0 to 8\n",
            "Data columns (total 3 columns):\n",
            " #   Column        Non-Null Count  Dtype \n",
            "---  ------        --------------  ----- \n",
            " 0   Number        9 non-null      int64 \n",
            " 1   Lecture Name  9 non-null      object\n",
            " 2   Done          9 non-null      bool  \n",
            "dtypes: bool(1), int64(1), object(1)\n",
            "memory usage: 281.0+ bytes\n"
          ]
        }
      ],
      "source": [
        "df.info()"
      ]
    },
    {
      "cell_type": "markdown",
      "metadata": {
        "id": "Cact0h6rEX7A"
      },
      "source": [
        "## 2. Indexing and Selection <a id='indexing_selection'></a>"
      ]
    },
    {
      "cell_type": "markdown",
      "metadata": {
        "id": "ItfymoSbEX7A"
      },
      "source": [
        "A `DataFrame` consists of one or more columns with one or more rows. pandas provides the data type `Index` and automatically creates an row index (called `index`) and column index (called `columns`) for you when creating a `DataFrame`. Many pandas functions operate on these indices and are often refered to as `axis` where `axis=0` corresponds to columns and `axis=1`corresponds to rows."
      ]
    },
    {
      "cell_type": "markdown",
      "metadata": {
        "id": "qJPjIIOrEX7B"
      },
      "source": [
        "The first example of `DataFrame` creation used a simple Python list without any column names, whereas later dictionary examples set column names based on dictionary keys. It is also possible to explicitly define column names at `DataFrame` creation with the parameter `columns`:"
      ]
    },
    {
      "cell_type": "code",
      "execution_count": 21,
      "metadata": {
        "id": "KHjd_O_4EX7B",
        "outputId": "3062bb45-0800-4631-8a49-7ce3082ea009",
        "colab": {
          "base_uri": "https://localhost:8080/",
          "height": 332
        }
      },
      "outputs": [
        {
          "output_type": "execute_result",
          "data": {
            "text/plain": [
              "   Number               Lecture Name   Done\n",
              "0       1        Course Introduction   True\n",
              "1       2           KDD Introduction   True\n",
              "2       3  Getting To Know Your Data  False\n",
              "3       4         Data Preprocessing  False\n",
              "4       5                       OLAP  False\n",
              "5       6           Frequent Pattern  False\n",
              "6       7             Classification  False\n",
              "7       8                    Cluster  False\n",
              "8       9                    Outlier  False"
            ],
            "text/html": [
              "\n",
              "  <div id=\"df-2cb8c66a-1c78-4915-9315-b2a4278619b9\">\n",
              "    <div class=\"colab-df-container\">\n",
              "      <div>\n",
              "<style scoped>\n",
              "    .dataframe tbody tr th:only-of-type {\n",
              "        vertical-align: middle;\n",
              "    }\n",
              "\n",
              "    .dataframe tbody tr th {\n",
              "        vertical-align: top;\n",
              "    }\n",
              "\n",
              "    .dataframe thead th {\n",
              "        text-align: right;\n",
              "    }\n",
              "</style>\n",
              "<table border=\"1\" class=\"dataframe\">\n",
              "  <thead>\n",
              "    <tr style=\"text-align: right;\">\n",
              "      <th></th>\n",
              "      <th>Number</th>\n",
              "      <th>Lecture Name</th>\n",
              "      <th>Done</th>\n",
              "    </tr>\n",
              "  </thead>\n",
              "  <tbody>\n",
              "    <tr>\n",
              "      <th>0</th>\n",
              "      <td>1</td>\n",
              "      <td>Course Introduction</td>\n",
              "      <td>True</td>\n",
              "    </tr>\n",
              "    <tr>\n",
              "      <th>1</th>\n",
              "      <td>2</td>\n",
              "      <td>KDD Introduction</td>\n",
              "      <td>True</td>\n",
              "    </tr>\n",
              "    <tr>\n",
              "      <th>2</th>\n",
              "      <td>3</td>\n",
              "      <td>Getting To Know Your Data</td>\n",
              "      <td>False</td>\n",
              "    </tr>\n",
              "    <tr>\n",
              "      <th>3</th>\n",
              "      <td>4</td>\n",
              "      <td>Data Preprocessing</td>\n",
              "      <td>False</td>\n",
              "    </tr>\n",
              "    <tr>\n",
              "      <th>4</th>\n",
              "      <td>5</td>\n",
              "      <td>OLAP</td>\n",
              "      <td>False</td>\n",
              "    </tr>\n",
              "    <tr>\n",
              "      <th>5</th>\n",
              "      <td>6</td>\n",
              "      <td>Frequent Pattern</td>\n",
              "      <td>False</td>\n",
              "    </tr>\n",
              "    <tr>\n",
              "      <th>6</th>\n",
              "      <td>7</td>\n",
              "      <td>Classification</td>\n",
              "      <td>False</td>\n",
              "    </tr>\n",
              "    <tr>\n",
              "      <th>7</th>\n",
              "      <td>8</td>\n",
              "      <td>Cluster</td>\n",
              "      <td>False</td>\n",
              "    </tr>\n",
              "    <tr>\n",
              "      <th>8</th>\n",
              "      <td>9</td>\n",
              "      <td>Outlier</td>\n",
              "      <td>False</td>\n",
              "    </tr>\n",
              "  </tbody>\n",
              "</table>\n",
              "</div>\n",
              "      <button class=\"colab-df-convert\" onclick=\"convertToInteractive('df-2cb8c66a-1c78-4915-9315-b2a4278619b9')\"\n",
              "              title=\"Convert this dataframe to an interactive table.\"\n",
              "              style=\"display:none;\">\n",
              "        \n",
              "  <svg xmlns=\"http://www.w3.org/2000/svg\" height=\"24px\"viewBox=\"0 0 24 24\"\n",
              "       width=\"24px\">\n",
              "    <path d=\"M0 0h24v24H0V0z\" fill=\"none\"/>\n",
              "    <path d=\"M18.56 5.44l.94 2.06.94-2.06 2.06-.94-2.06-.94-.94-2.06-.94 2.06-2.06.94zm-11 1L8.5 8.5l.94-2.06 2.06-.94-2.06-.94L8.5 2.5l-.94 2.06-2.06.94zm10 10l.94 2.06.94-2.06 2.06-.94-2.06-.94-.94-2.06-.94 2.06-2.06.94z\"/><path d=\"M17.41 7.96l-1.37-1.37c-.4-.4-.92-.59-1.43-.59-.52 0-1.04.2-1.43.59L10.3 9.45l-7.72 7.72c-.78.78-.78 2.05 0 2.83L4 21.41c.39.39.9.59 1.41.59.51 0 1.02-.2 1.41-.59l7.78-7.78 2.81-2.81c.8-.78.8-2.07 0-2.86zM5.41 20L4 18.59l7.72-7.72 1.47 1.35L5.41 20z\"/>\n",
              "  </svg>\n",
              "      </button>\n",
              "      \n",
              "  <style>\n",
              "    .colab-df-container {\n",
              "      display:flex;\n",
              "      flex-wrap:wrap;\n",
              "      gap: 12px;\n",
              "    }\n",
              "\n",
              "    .colab-df-convert {\n",
              "      background-color: #E8F0FE;\n",
              "      border: none;\n",
              "      border-radius: 50%;\n",
              "      cursor: pointer;\n",
              "      display: none;\n",
              "      fill: #1967D2;\n",
              "      height: 32px;\n",
              "      padding: 0 0 0 0;\n",
              "      width: 32px;\n",
              "    }\n",
              "\n",
              "    .colab-df-convert:hover {\n",
              "      background-color: #E2EBFA;\n",
              "      box-shadow: 0px 1px 2px rgba(60, 64, 67, 0.3), 0px 1px 3px 1px rgba(60, 64, 67, 0.15);\n",
              "      fill: #174EA6;\n",
              "    }\n",
              "\n",
              "    [theme=dark] .colab-df-convert {\n",
              "      background-color: #3B4455;\n",
              "      fill: #D2E3FC;\n",
              "    }\n",
              "\n",
              "    [theme=dark] .colab-df-convert:hover {\n",
              "      background-color: #434B5C;\n",
              "      box-shadow: 0px 1px 3px 1px rgba(0, 0, 0, 0.15);\n",
              "      filter: drop-shadow(0px 1px 2px rgba(0, 0, 0, 0.3));\n",
              "      fill: #FFFFFF;\n",
              "    }\n",
              "  </style>\n",
              "\n",
              "      <script>\n",
              "        const buttonEl =\n",
              "          document.querySelector('#df-2cb8c66a-1c78-4915-9315-b2a4278619b9 button.colab-df-convert');\n",
              "        buttonEl.style.display =\n",
              "          google.colab.kernel.accessAllowed ? 'block' : 'none';\n",
              "\n",
              "        async function convertToInteractive(key) {\n",
              "          const element = document.querySelector('#df-2cb8c66a-1c78-4915-9315-b2a4278619b9');\n",
              "          const dataTable =\n",
              "            await google.colab.kernel.invokeFunction('convertToInteractive',\n",
              "                                                     [key], {});\n",
              "          if (!dataTable) return;\n",
              "\n",
              "          const docLinkHtml = 'Like what you see? Visit the ' +\n",
              "            '<a target=\"_blank\" href=https://colab.research.google.com/notebooks/data_table.ipynb>data table notebook</a>'\n",
              "            + ' to learn more about interactive tables.';\n",
              "          element.innerHTML = '';\n",
              "          dataTable['output_type'] = 'display_data';\n",
              "          await google.colab.output.renderOutput(dataTable, element);\n",
              "          const docLink = document.createElement('div');\n",
              "          docLink.innerHTML = docLinkHtml;\n",
              "          element.appendChild(docLink);\n",
              "        }\n",
              "      </script>\n",
              "    </div>\n",
              "  </div>\n",
              "  "
            ]
          },
          "metadata": {},
          "execution_count": 21
        }
      ],
      "source": [
        "df"
      ]
    },
    {
      "cell_type": "markdown",
      "metadata": {
        "id": "gW4ww_pFEX7B"
      },
      "source": [
        "Of course, indices `columns` and `index` of a `DataFrame` is accessible via their respective variable:"
      ]
    },
    {
      "cell_type": "code",
      "execution_count": 22,
      "metadata": {
        "id": "myLmXMmaEX7B",
        "outputId": "0da8c96d-221a-433c-f023-2388872174c6",
        "colab": {
          "base_uri": "https://localhost:8080/"
        }
      },
      "outputs": [
        {
          "output_type": "execute_result",
          "data": {
            "text/plain": [
              "Index(['Number', 'Lecture Name', 'Done'], dtype='object')"
            ]
          },
          "metadata": {},
          "execution_count": 22
        }
      ],
      "source": [
        "df.columns"
      ]
    },
    {
      "cell_type": "code",
      "execution_count": 23,
      "metadata": {
        "id": "9VggJP4XEX7B",
        "outputId": "fde8fbdc-ef08-4d67-ae18-ff96551ec0f2",
        "colab": {
          "base_uri": "https://localhost:8080/"
        }
      },
      "outputs": [
        {
          "output_type": "execute_result",
          "data": {
            "text/plain": [
              "RangeIndex(start=0, stop=9, step=1)"
            ]
          },
          "metadata": {},
          "execution_count": 23
        }
      ],
      "source": [
        "df.index"
      ]
    },
    {
      "cell_type": "markdown",
      "metadata": {
        "id": "H1qG4giiEX7B"
      },
      "source": [
        "Note that the row index (`index`) is not stored as a list but as a `RangeIndex`."
      ]
    },
    {
      "cell_type": "markdown",
      "metadata": {
        "id": "ga-UOpezEX7B"
      },
      "source": [
        "Both indices are accessible at once via `axes`:"
      ]
    },
    {
      "cell_type": "code",
      "execution_count": 24,
      "metadata": {
        "id": "4l9tjgiMEX7B",
        "outputId": "1e979191-1e93-40df-fece-73382af354e6",
        "colab": {
          "base_uri": "https://localhost:8080/"
        }
      },
      "outputs": [
        {
          "output_type": "execute_result",
          "data": {
            "text/plain": [
              "[RangeIndex(start=0, stop=9, step=1),\n",
              " Index(['Number', 'Lecture Name', 'Done'], dtype='object')]"
            ]
          },
          "metadata": {},
          "execution_count": 24
        }
      ],
      "source": [
        "df.axes"
      ]
    },
    {
      "cell_type": "markdown",
      "metadata": {
        "id": "hXqDYoUxEX7B"
      },
      "source": [
        "### Access Specific Columns\n",
        "\n",
        "It is possible to select one or more specific columns."
      ]
    },
    {
      "cell_type": "code",
      "execution_count": 25,
      "metadata": {
        "id": "lUIJQnh3EX7C",
        "outputId": "50a8765f-b517-40e6-a5f3-eaca0221c2ca",
        "colab": {
          "base_uri": "https://localhost:8080/"
        }
      },
      "outputs": [
        {
          "output_type": "execute_result",
          "data": {
            "text/plain": [
              "0          Course Introduction\n",
              "1             KDD Introduction\n",
              "2    Getting To Know Your Data\n",
              "3           Data Preprocessing\n",
              "4                         OLAP\n",
              "5             Frequent Pattern\n",
              "6               Classification\n",
              "7                      Cluster\n",
              "8                      Outlier\n",
              "Name: Lecture Name, dtype: object"
            ]
          },
          "metadata": {},
          "execution_count": 25
        }
      ],
      "source": [
        "df[\"Lecture Name\"]"
      ]
    },
    {
      "cell_type": "markdown",
      "metadata": {
        "id": "Khsu27UAEX7C"
      },
      "source": [
        "When a column has no whitespaces it is also possible to access a column in the following way:"
      ]
    },
    {
      "cell_type": "code",
      "execution_count": 26,
      "metadata": {
        "id": "VvMJREKFEX7C",
        "outputId": "047502bc-1ddd-425a-e6cd-d74fcd542d21",
        "colab": {
          "base_uri": "https://localhost:8080/"
        }
      },
      "outputs": [
        {
          "output_type": "execute_result",
          "data": {
            "text/plain": [
              "0    1\n",
              "1    2\n",
              "2    3\n",
              "3    4\n",
              "4    5\n",
              "5    6\n",
              "6    7\n",
              "7    8\n",
              "8    9\n",
              "Name: Number, dtype: int64"
            ]
          },
          "metadata": {},
          "execution_count": 26
        }
      ],
      "source": [
        "df.Number"
      ]
    },
    {
      "cell_type": "markdown",
      "metadata": {
        "id": "u8ra7B3lEX7C"
      },
      "source": [
        "Select specific columns by a list of column names:"
      ]
    },
    {
      "cell_type": "code",
      "execution_count": 27,
      "metadata": {
        "id": "cHipDegCEX7C",
        "outputId": "b12c30f8-6a5d-4983-a4d7-7e3c7f79e9bb",
        "colab": {
          "base_uri": "https://localhost:8080/",
          "height": 332
        }
      },
      "outputs": [
        {
          "output_type": "execute_result",
          "data": {
            "text/plain": [
              "   Number               Lecture Name\n",
              "0       1        Course Introduction\n",
              "1       2           KDD Introduction\n",
              "2       3  Getting To Know Your Data\n",
              "3       4         Data Preprocessing\n",
              "4       5                       OLAP\n",
              "5       6           Frequent Pattern\n",
              "6       7             Classification\n",
              "7       8                    Cluster\n",
              "8       9                    Outlier"
            ],
            "text/html": [
              "\n",
              "  <div id=\"df-dec466ed-67e1-45c1-989f-34921ee43389\">\n",
              "    <div class=\"colab-df-container\">\n",
              "      <div>\n",
              "<style scoped>\n",
              "    .dataframe tbody tr th:only-of-type {\n",
              "        vertical-align: middle;\n",
              "    }\n",
              "\n",
              "    .dataframe tbody tr th {\n",
              "        vertical-align: top;\n",
              "    }\n",
              "\n",
              "    .dataframe thead th {\n",
              "        text-align: right;\n",
              "    }\n",
              "</style>\n",
              "<table border=\"1\" class=\"dataframe\">\n",
              "  <thead>\n",
              "    <tr style=\"text-align: right;\">\n",
              "      <th></th>\n",
              "      <th>Number</th>\n",
              "      <th>Lecture Name</th>\n",
              "    </tr>\n",
              "  </thead>\n",
              "  <tbody>\n",
              "    <tr>\n",
              "      <th>0</th>\n",
              "      <td>1</td>\n",
              "      <td>Course Introduction</td>\n",
              "    </tr>\n",
              "    <tr>\n",
              "      <th>1</th>\n",
              "      <td>2</td>\n",
              "      <td>KDD Introduction</td>\n",
              "    </tr>\n",
              "    <tr>\n",
              "      <th>2</th>\n",
              "      <td>3</td>\n",
              "      <td>Getting To Know Your Data</td>\n",
              "    </tr>\n",
              "    <tr>\n",
              "      <th>3</th>\n",
              "      <td>4</td>\n",
              "      <td>Data Preprocessing</td>\n",
              "    </tr>\n",
              "    <tr>\n",
              "      <th>4</th>\n",
              "      <td>5</td>\n",
              "      <td>OLAP</td>\n",
              "    </tr>\n",
              "    <tr>\n",
              "      <th>5</th>\n",
              "      <td>6</td>\n",
              "      <td>Frequent Pattern</td>\n",
              "    </tr>\n",
              "    <tr>\n",
              "      <th>6</th>\n",
              "      <td>7</td>\n",
              "      <td>Classification</td>\n",
              "    </tr>\n",
              "    <tr>\n",
              "      <th>7</th>\n",
              "      <td>8</td>\n",
              "      <td>Cluster</td>\n",
              "    </tr>\n",
              "    <tr>\n",
              "      <th>8</th>\n",
              "      <td>9</td>\n",
              "      <td>Outlier</td>\n",
              "    </tr>\n",
              "  </tbody>\n",
              "</table>\n",
              "</div>\n",
              "      <button class=\"colab-df-convert\" onclick=\"convertToInteractive('df-dec466ed-67e1-45c1-989f-34921ee43389')\"\n",
              "              title=\"Convert this dataframe to an interactive table.\"\n",
              "              style=\"display:none;\">\n",
              "        \n",
              "  <svg xmlns=\"http://www.w3.org/2000/svg\" height=\"24px\"viewBox=\"0 0 24 24\"\n",
              "       width=\"24px\">\n",
              "    <path d=\"M0 0h24v24H0V0z\" fill=\"none\"/>\n",
              "    <path d=\"M18.56 5.44l.94 2.06.94-2.06 2.06-.94-2.06-.94-.94-2.06-.94 2.06-2.06.94zm-11 1L8.5 8.5l.94-2.06 2.06-.94-2.06-.94L8.5 2.5l-.94 2.06-2.06.94zm10 10l.94 2.06.94-2.06 2.06-.94-2.06-.94-.94-2.06-.94 2.06-2.06.94z\"/><path d=\"M17.41 7.96l-1.37-1.37c-.4-.4-.92-.59-1.43-.59-.52 0-1.04.2-1.43.59L10.3 9.45l-7.72 7.72c-.78.78-.78 2.05 0 2.83L4 21.41c.39.39.9.59 1.41.59.51 0 1.02-.2 1.41-.59l7.78-7.78 2.81-2.81c.8-.78.8-2.07 0-2.86zM5.41 20L4 18.59l7.72-7.72 1.47 1.35L5.41 20z\"/>\n",
              "  </svg>\n",
              "      </button>\n",
              "      \n",
              "  <style>\n",
              "    .colab-df-container {\n",
              "      display:flex;\n",
              "      flex-wrap:wrap;\n",
              "      gap: 12px;\n",
              "    }\n",
              "\n",
              "    .colab-df-convert {\n",
              "      background-color: #E8F0FE;\n",
              "      border: none;\n",
              "      border-radius: 50%;\n",
              "      cursor: pointer;\n",
              "      display: none;\n",
              "      fill: #1967D2;\n",
              "      height: 32px;\n",
              "      padding: 0 0 0 0;\n",
              "      width: 32px;\n",
              "    }\n",
              "\n",
              "    .colab-df-convert:hover {\n",
              "      background-color: #E2EBFA;\n",
              "      box-shadow: 0px 1px 2px rgba(60, 64, 67, 0.3), 0px 1px 3px 1px rgba(60, 64, 67, 0.15);\n",
              "      fill: #174EA6;\n",
              "    }\n",
              "\n",
              "    [theme=dark] .colab-df-convert {\n",
              "      background-color: #3B4455;\n",
              "      fill: #D2E3FC;\n",
              "    }\n",
              "\n",
              "    [theme=dark] .colab-df-convert:hover {\n",
              "      background-color: #434B5C;\n",
              "      box-shadow: 0px 1px 3px 1px rgba(0, 0, 0, 0.15);\n",
              "      filter: drop-shadow(0px 1px 2px rgba(0, 0, 0, 0.3));\n",
              "      fill: #FFFFFF;\n",
              "    }\n",
              "  </style>\n",
              "\n",
              "      <script>\n",
              "        const buttonEl =\n",
              "          document.querySelector('#df-dec466ed-67e1-45c1-989f-34921ee43389 button.colab-df-convert');\n",
              "        buttonEl.style.display =\n",
              "          google.colab.kernel.accessAllowed ? 'block' : 'none';\n",
              "\n",
              "        async function convertToInteractive(key) {\n",
              "          const element = document.querySelector('#df-dec466ed-67e1-45c1-989f-34921ee43389');\n",
              "          const dataTable =\n",
              "            await google.colab.kernel.invokeFunction('convertToInteractive',\n",
              "                                                     [key], {});\n",
              "          if (!dataTable) return;\n",
              "\n",
              "          const docLinkHtml = 'Like what you see? Visit the ' +\n",
              "            '<a target=\"_blank\" href=https://colab.research.google.com/notebooks/data_table.ipynb>data table notebook</a>'\n",
              "            + ' to learn more about interactive tables.';\n",
              "          element.innerHTML = '';\n",
              "          dataTable['output_type'] = 'display_data';\n",
              "          await google.colab.output.renderOutput(dataTable, element);\n",
              "          const docLink = document.createElement('div');\n",
              "          docLink.innerHTML = docLinkHtml;\n",
              "          element.appendChild(docLink);\n",
              "        }\n",
              "      </script>\n",
              "    </div>\n",
              "  </div>\n",
              "  "
            ]
          },
          "metadata": {},
          "execution_count": 27
        }
      ],
      "source": [
        "df[[\"Number\", \"Lecture Name\"]]"
      ]
    },
    {
      "cell_type": "markdown",
      "metadata": {
        "id": "JPtt906HEX7C"
      },
      "source": [
        "Note that selecting a single column always returns a `Series` whereas selecting multiple columns returns a `DataFrame`."
      ]
    },
    {
      "cell_type": "code",
      "execution_count": 28,
      "metadata": {
        "id": "FcQLUg2TEX7C",
        "outputId": "cece2fcd-8f4e-4aed-b729-13cac4b3317e",
        "colab": {
          "base_uri": "https://localhost:8080/"
        }
      },
      "outputs": [
        {
          "output_type": "execute_result",
          "data": {
            "text/plain": [
              "pandas.core.series.Series"
            ]
          },
          "metadata": {},
          "execution_count": 28
        }
      ],
      "source": [
        "type(df.Number)"
      ]
    },
    {
      "cell_type": "code",
      "execution_count": 29,
      "metadata": {
        "id": "lYOrcZ25EX7C",
        "outputId": "93107296-8722-4587-b3bc-b75b0059583b",
        "colab": {
          "base_uri": "https://localhost:8080/"
        }
      },
      "outputs": [
        {
          "output_type": "execute_result",
          "data": {
            "text/plain": [
              "pandas.core.frame.DataFrame"
            ]
          },
          "metadata": {},
          "execution_count": 29
        }
      ],
      "source": [
        "type(df[[\"Number\", \"Lecture Name\"]])"
      ]
    },
    {
      "cell_type": "markdown",
      "metadata": {
        "id": "GrOWe5XYEX7C"
      },
      "source": [
        "### Label-based vs. Integer-based Indexing\n",
        "\n",
        "pandas provides two ways of indexing and selection: label-based and integer-based.\n",
        "\n",
        "**Label-based Indexing** \n",
        "\n",
        "Label-based indexing operates using names of columns or rows. `DataFrame` provides the function `loc` that, according to documentation, primarily operates on names but also works with a boolean array.\n",
        "\n",
        "Following inputs are allowed:\n",
        "1. Single label for a single row/column.\n",
        "2. List of labels for multiple rows/columns.\n",
        "3. A slice object with labels for mulitple rows/columns. A pandas slice object includes both start and end lables, whereas typical Python slice objects exclude the end position/label!.\n",
        "4. Boolean array for multiple rows/columns. Here, value `False` does not include a row/column.\n",
        "5. A `callable` function.\n",
        "\n",
        "Syntax for `loc` differs slightly to the usual function calls as instead of rounded brackets it expects corner brackets: `loc[row_name, col_name]`."
      ]
    },
    {
      "cell_type": "code",
      "execution_count": 51,
      "metadata": {
        "id": "IeN_Qz7qEX7D",
        "outputId": "63dc9325-c077-4268-fa26-9948c3d3fffb",
        "colab": {
          "base_uri": "https://localhost:8080/",
          "height": 332
        }
      },
      "outputs": [
        {
          "output_type": "execute_result",
          "data": {
            "text/plain": [
              "   Number               Lecture Name   Done\n",
              "0       1        Course Introduction   True\n",
              "1       2           KDD Introduction   True\n",
              "2       3  Getting To Know Your Data  False\n",
              "3       4         Data Preprocessing  False\n",
              "4       5                       OLAP  False\n",
              "5       6           Frequent Pattern  False\n",
              "6       7             Classification  False\n",
              "7       8                    Cluster  False\n",
              "8       9                    Outlier  False"
            ],
            "text/html": [
              "\n",
              "  <div id=\"df-c4a1eff0-290e-40e5-9633-e6b8a4f84188\">\n",
              "    <div class=\"colab-df-container\">\n",
              "      <div>\n",
              "<style scoped>\n",
              "    .dataframe tbody tr th:only-of-type {\n",
              "        vertical-align: middle;\n",
              "    }\n",
              "\n",
              "    .dataframe tbody tr th {\n",
              "        vertical-align: top;\n",
              "    }\n",
              "\n",
              "    .dataframe thead th {\n",
              "        text-align: right;\n",
              "    }\n",
              "</style>\n",
              "<table border=\"1\" class=\"dataframe\">\n",
              "  <thead>\n",
              "    <tr style=\"text-align: right;\">\n",
              "      <th></th>\n",
              "      <th>Number</th>\n",
              "      <th>Lecture Name</th>\n",
              "      <th>Done</th>\n",
              "    </tr>\n",
              "  </thead>\n",
              "  <tbody>\n",
              "    <tr>\n",
              "      <th>0</th>\n",
              "      <td>1</td>\n",
              "      <td>Course Introduction</td>\n",
              "      <td>True</td>\n",
              "    </tr>\n",
              "    <tr>\n",
              "      <th>1</th>\n",
              "      <td>2</td>\n",
              "      <td>KDD Introduction</td>\n",
              "      <td>True</td>\n",
              "    </tr>\n",
              "    <tr>\n",
              "      <th>2</th>\n",
              "      <td>3</td>\n",
              "      <td>Getting To Know Your Data</td>\n",
              "      <td>False</td>\n",
              "    </tr>\n",
              "    <tr>\n",
              "      <th>3</th>\n",
              "      <td>4</td>\n",
              "      <td>Data Preprocessing</td>\n",
              "      <td>False</td>\n",
              "    </tr>\n",
              "    <tr>\n",
              "      <th>4</th>\n",
              "      <td>5</td>\n",
              "      <td>OLAP</td>\n",
              "      <td>False</td>\n",
              "    </tr>\n",
              "    <tr>\n",
              "      <th>5</th>\n",
              "      <td>6</td>\n",
              "      <td>Frequent Pattern</td>\n",
              "      <td>False</td>\n",
              "    </tr>\n",
              "    <tr>\n",
              "      <th>6</th>\n",
              "      <td>7</td>\n",
              "      <td>Classification</td>\n",
              "      <td>False</td>\n",
              "    </tr>\n",
              "    <tr>\n",
              "      <th>7</th>\n",
              "      <td>8</td>\n",
              "      <td>Cluster</td>\n",
              "      <td>False</td>\n",
              "    </tr>\n",
              "    <tr>\n",
              "      <th>8</th>\n",
              "      <td>9</td>\n",
              "      <td>Outlier</td>\n",
              "      <td>False</td>\n",
              "    </tr>\n",
              "  </tbody>\n",
              "</table>\n",
              "</div>\n",
              "      <button class=\"colab-df-convert\" onclick=\"convertToInteractive('df-c4a1eff0-290e-40e5-9633-e6b8a4f84188')\"\n",
              "              title=\"Convert this dataframe to an interactive table.\"\n",
              "              style=\"display:none;\">\n",
              "        \n",
              "  <svg xmlns=\"http://www.w3.org/2000/svg\" height=\"24px\"viewBox=\"0 0 24 24\"\n",
              "       width=\"24px\">\n",
              "    <path d=\"M0 0h24v24H0V0z\" fill=\"none\"/>\n",
              "    <path d=\"M18.56 5.44l.94 2.06.94-2.06 2.06-.94-2.06-.94-.94-2.06-.94 2.06-2.06.94zm-11 1L8.5 8.5l.94-2.06 2.06-.94-2.06-.94L8.5 2.5l-.94 2.06-2.06.94zm10 10l.94 2.06.94-2.06 2.06-.94-2.06-.94-.94-2.06-.94 2.06-2.06.94z\"/><path d=\"M17.41 7.96l-1.37-1.37c-.4-.4-.92-.59-1.43-.59-.52 0-1.04.2-1.43.59L10.3 9.45l-7.72 7.72c-.78.78-.78 2.05 0 2.83L4 21.41c.39.39.9.59 1.41.59.51 0 1.02-.2 1.41-.59l7.78-7.78 2.81-2.81c.8-.78.8-2.07 0-2.86zM5.41 20L4 18.59l7.72-7.72 1.47 1.35L5.41 20z\"/>\n",
              "  </svg>\n",
              "      </button>\n",
              "      \n",
              "  <style>\n",
              "    .colab-df-container {\n",
              "      display:flex;\n",
              "      flex-wrap:wrap;\n",
              "      gap: 12px;\n",
              "    }\n",
              "\n",
              "    .colab-df-convert {\n",
              "      background-color: #E8F0FE;\n",
              "      border: none;\n",
              "      border-radius: 50%;\n",
              "      cursor: pointer;\n",
              "      display: none;\n",
              "      fill: #1967D2;\n",
              "      height: 32px;\n",
              "      padding: 0 0 0 0;\n",
              "      width: 32px;\n",
              "    }\n",
              "\n",
              "    .colab-df-convert:hover {\n",
              "      background-color: #E2EBFA;\n",
              "      box-shadow: 0px 1px 2px rgba(60, 64, 67, 0.3), 0px 1px 3px 1px rgba(60, 64, 67, 0.15);\n",
              "      fill: #174EA6;\n",
              "    }\n",
              "\n",
              "    [theme=dark] .colab-df-convert {\n",
              "      background-color: #3B4455;\n",
              "      fill: #D2E3FC;\n",
              "    }\n",
              "\n",
              "    [theme=dark] .colab-df-convert:hover {\n",
              "      background-color: #434B5C;\n",
              "      box-shadow: 0px 1px 3px 1px rgba(0, 0, 0, 0.15);\n",
              "      filter: drop-shadow(0px 1px 2px rgba(0, 0, 0, 0.3));\n",
              "      fill: #FFFFFF;\n",
              "    }\n",
              "  </style>\n",
              "\n",
              "      <script>\n",
              "        const buttonEl =\n",
              "          document.querySelector('#df-c4a1eff0-290e-40e5-9633-e6b8a4f84188 button.colab-df-convert');\n",
              "        buttonEl.style.display =\n",
              "          google.colab.kernel.accessAllowed ? 'block' : 'none';\n",
              "\n",
              "        async function convertToInteractive(key) {\n",
              "          const element = document.querySelector('#df-c4a1eff0-290e-40e5-9633-e6b8a4f84188');\n",
              "          const dataTable =\n",
              "            await google.colab.kernel.invokeFunction('convertToInteractive',\n",
              "                                                     [key], {});\n",
              "          if (!dataTable) return;\n",
              "\n",
              "          const docLinkHtml = 'Like what you see? Visit the ' +\n",
              "            '<a target=\"_blank\" href=https://colab.research.google.com/notebooks/data_table.ipynb>data table notebook</a>'\n",
              "            + ' to learn more about interactive tables.';\n",
              "          element.innerHTML = '';\n",
              "          dataTable['output_type'] = 'display_data';\n",
              "          await google.colab.output.renderOutput(dataTable, element);\n",
              "          const docLink = document.createElement('div');\n",
              "          docLink.innerHTML = docLinkHtml;\n",
              "          element.appendChild(docLink);\n",
              "        }\n",
              "      </script>\n",
              "    </div>\n",
              "  </div>\n",
              "  "
            ]
          },
          "metadata": {},
          "execution_count": 51
        }
      ],
      "source": [
        "df"
      ]
    },
    {
      "cell_type": "markdown",
      "metadata": {
        "id": "Of1s_ZwrEX7D"
      },
      "source": [
        "Let's display the name of lecture 3:"
      ]
    },
    {
      "cell_type": "code",
      "execution_count": 52,
      "metadata": {
        "id": "0DP2B2HLEX7D",
        "outputId": "be15d6ac-a463-435e-d11d-647e3a5d481a",
        "colab": {
          "base_uri": "https://localhost:8080/",
          "height": 36
        }
      },
      "outputs": [
        {
          "output_type": "execute_result",
          "data": {
            "text/plain": [
              "'Getting To Know Your Data'"
            ],
            "application/vnd.google.colaboratory.intrinsic+json": {
              "type": "string"
            }
          },
          "metadata": {},
          "execution_count": 52
        }
      ],
      "source": [
        "df.loc[2, \"Lecture Name\"]"
      ]
    },
    {
      "cell_type": "markdown",
      "metadata": {
        "id": "ZHH6bPdWEX7D"
      },
      "source": [
        "Select multiple rows with a slice object:"
      ]
    },
    {
      "cell_type": "code",
      "execution_count": 53,
      "metadata": {
        "id": "CJpEkv69EX7D",
        "outputId": "45e252cb-eabe-47da-c688-29aa07265d07",
        "colab": {
          "base_uri": "https://localhost:8080/"
        }
      },
      "outputs": [
        {
          "output_type": "execute_result",
          "data": {
            "text/plain": [
              "2    Getting To Know Your Data\n",
              "3           Data Preprocessing\n",
              "4                         OLAP\n",
              "5             Frequent Pattern\n",
              "6               Classification\n",
              "7                      Cluster\n",
              "8                      Outlier\n",
              "Name: Lecture Name, dtype: object"
            ]
          },
          "metadata": {},
          "execution_count": 53
        }
      ],
      "source": [
        "df.loc[2:, \"Lecture Name\"]"
      ]
    },
    {
      "cell_type": "markdown",
      "metadata": {
        "id": "6h9Z3f5KEX7D"
      },
      "source": [
        "Select all lecture names that have already been held with a callable:"
      ]
    },
    {
      "cell_type": "code",
      "execution_count": 54,
      "metadata": {
        "id": "qHKgSPy8EX7D",
        "outputId": "2e921436-83a4-4ed7-8af8-4eecdabab5dd",
        "colab": {
          "base_uri": "https://localhost:8080/"
        }
      },
      "outputs": [
        {
          "output_type": "execute_result",
          "data": {
            "text/plain": [
              "0    Course Introduction\n",
              "1       KDD Introduction\n",
              "Name: Lecture Name, dtype: object"
            ]
          },
          "metadata": {},
          "execution_count": 54
        }
      ],
      "source": [
        "df.loc[lambda df: df.Done, \"Lecture Name\"]"
      ]
    },
    {
      "cell_type": "markdown",
      "metadata": {
        "id": "zUjJEyTIEX7D"
      },
      "source": [
        "**Index-based Indexing** \n",
        "\n",
        "Index-based indexing is similar to its label-based counterpart, yet operates on integer numbers for both row and columns. \n",
        "\n",
        "Following inputs are allowed:\n",
        "1. Single integer for row/column.\n",
        "2. List of integers for mulitple rows/columns.\n",
        "3. A slice object with integers for multiple rows/columns. A pandas slice object includes both start and end lables, whereas typical Python slice objects exclude the end position/label!.\n",
        "4. Boolean array for multiple rows/columns. Here, value `False` does not include a row/column.\n",
        "5. A `callable` function.\n",
        "\n",
        "Index-based indexing is used with `iloc` instead of `loc`."
      ]
    },
    {
      "cell_type": "markdown",
      "metadata": {
        "id": "8inAVw7FEX7D"
      },
      "source": [
        "<div class=\"alert alert-info\" role=\"alert\">\n",
        "\n",
        "### Exercise: Play with Index-based Indexing.\n",
        "\n",
        "- Select a single cell.\n",
        "- Select multiple cells.\n",
        "- Select all lectures whose name contains \"Introduction\". Use a callable. Hint: Lambda.\n",
        "    \n",
        "</div>"
      ]
    },
    {
      "cell_type": "code",
      "execution_count": 34,
      "metadata": {
        "tags": [
          "student"
        ],
        "id": "ZZqlleJDEX7E"
      },
      "outputs": [],
      "source": [
        "# TODO Select a single cell"
      ]
    },
    {
      "cell_type": "code",
      "execution_count": 35,
      "metadata": {
        "tags": [
          "solution"
        ],
        "id": "y2CptY-PEX7E",
        "outputId": "61868ea2-d281-4057-ea32-93c411e75b77",
        "colab": {
          "base_uri": "https://localhost:8080/"
        }
      },
      "outputs": [
        {
          "output_type": "stream",
          "name": "stdout",
          "text": [
            "1\n",
            "Course Introduction\n"
          ]
        }
      ],
      "source": [
        "# Select a single cell\n",
        "print(df.iloc[0, 0])\n",
        "print(df.iloc[0, 1])"
      ]
    },
    {
      "cell_type": "code",
      "execution_count": 36,
      "metadata": {
        "tags": [
          "student"
        ],
        "id": "gPMBbH8kEX7E"
      },
      "outputs": [],
      "source": [
        "# TODO Select multiple cells at once"
      ]
    },
    {
      "cell_type": "code",
      "execution_count": 37,
      "metadata": {
        "tags": [
          "solution"
        ],
        "id": "jYHoMbc8EX7E",
        "outputId": "3680c254-be3b-425d-ba58-af4e9b37b430",
        "colab": {
          "base_uri": "https://localhost:8080/",
          "height": 175
        }
      },
      "outputs": [
        {
          "output_type": "execute_result",
          "data": {
            "text/plain": [
              "                Lecture Name   Done\n",
              "0        Course Introduction   True\n",
              "1           KDD Introduction   True\n",
              "2  Getting To Know Your Data  False\n",
              "3         Data Preprocessing  False"
            ],
            "text/html": [
              "\n",
              "  <div id=\"df-7b46bce2-c6a8-40df-a681-122a49778591\">\n",
              "    <div class=\"colab-df-container\">\n",
              "      <div>\n",
              "<style scoped>\n",
              "    .dataframe tbody tr th:only-of-type {\n",
              "        vertical-align: middle;\n",
              "    }\n",
              "\n",
              "    .dataframe tbody tr th {\n",
              "        vertical-align: top;\n",
              "    }\n",
              "\n",
              "    .dataframe thead th {\n",
              "        text-align: right;\n",
              "    }\n",
              "</style>\n",
              "<table border=\"1\" class=\"dataframe\">\n",
              "  <thead>\n",
              "    <tr style=\"text-align: right;\">\n",
              "      <th></th>\n",
              "      <th>Lecture Name</th>\n",
              "      <th>Done</th>\n",
              "    </tr>\n",
              "  </thead>\n",
              "  <tbody>\n",
              "    <tr>\n",
              "      <th>0</th>\n",
              "      <td>Course Introduction</td>\n",
              "      <td>True</td>\n",
              "    </tr>\n",
              "    <tr>\n",
              "      <th>1</th>\n",
              "      <td>KDD Introduction</td>\n",
              "      <td>True</td>\n",
              "    </tr>\n",
              "    <tr>\n",
              "      <th>2</th>\n",
              "      <td>Getting To Know Your Data</td>\n",
              "      <td>False</td>\n",
              "    </tr>\n",
              "    <tr>\n",
              "      <th>3</th>\n",
              "      <td>Data Preprocessing</td>\n",
              "      <td>False</td>\n",
              "    </tr>\n",
              "  </tbody>\n",
              "</table>\n",
              "</div>\n",
              "      <button class=\"colab-df-convert\" onclick=\"convertToInteractive('df-7b46bce2-c6a8-40df-a681-122a49778591')\"\n",
              "              title=\"Convert this dataframe to an interactive table.\"\n",
              "              style=\"display:none;\">\n",
              "        \n",
              "  <svg xmlns=\"http://www.w3.org/2000/svg\" height=\"24px\"viewBox=\"0 0 24 24\"\n",
              "       width=\"24px\">\n",
              "    <path d=\"M0 0h24v24H0V0z\" fill=\"none\"/>\n",
              "    <path d=\"M18.56 5.44l.94 2.06.94-2.06 2.06-.94-2.06-.94-.94-2.06-.94 2.06-2.06.94zm-11 1L8.5 8.5l.94-2.06 2.06-.94-2.06-.94L8.5 2.5l-.94 2.06-2.06.94zm10 10l.94 2.06.94-2.06 2.06-.94-2.06-.94-.94-2.06-.94 2.06-2.06.94z\"/><path d=\"M17.41 7.96l-1.37-1.37c-.4-.4-.92-.59-1.43-.59-.52 0-1.04.2-1.43.59L10.3 9.45l-7.72 7.72c-.78.78-.78 2.05 0 2.83L4 21.41c.39.39.9.59 1.41.59.51 0 1.02-.2 1.41-.59l7.78-7.78 2.81-2.81c.8-.78.8-2.07 0-2.86zM5.41 20L4 18.59l7.72-7.72 1.47 1.35L5.41 20z\"/>\n",
              "  </svg>\n",
              "      </button>\n",
              "      \n",
              "  <style>\n",
              "    .colab-df-container {\n",
              "      display:flex;\n",
              "      flex-wrap:wrap;\n",
              "      gap: 12px;\n",
              "    }\n",
              "\n",
              "    .colab-df-convert {\n",
              "      background-color: #E8F0FE;\n",
              "      border: none;\n",
              "      border-radius: 50%;\n",
              "      cursor: pointer;\n",
              "      display: none;\n",
              "      fill: #1967D2;\n",
              "      height: 32px;\n",
              "      padding: 0 0 0 0;\n",
              "      width: 32px;\n",
              "    }\n",
              "\n",
              "    .colab-df-convert:hover {\n",
              "      background-color: #E2EBFA;\n",
              "      box-shadow: 0px 1px 2px rgba(60, 64, 67, 0.3), 0px 1px 3px 1px rgba(60, 64, 67, 0.15);\n",
              "      fill: #174EA6;\n",
              "    }\n",
              "\n",
              "    [theme=dark] .colab-df-convert {\n",
              "      background-color: #3B4455;\n",
              "      fill: #D2E3FC;\n",
              "    }\n",
              "\n",
              "    [theme=dark] .colab-df-convert:hover {\n",
              "      background-color: #434B5C;\n",
              "      box-shadow: 0px 1px 3px 1px rgba(0, 0, 0, 0.15);\n",
              "      filter: drop-shadow(0px 1px 2px rgba(0, 0, 0, 0.3));\n",
              "      fill: #FFFFFF;\n",
              "    }\n",
              "  </style>\n",
              "\n",
              "      <script>\n",
              "        const buttonEl =\n",
              "          document.querySelector('#df-7b46bce2-c6a8-40df-a681-122a49778591 button.colab-df-convert');\n",
              "        buttonEl.style.display =\n",
              "          google.colab.kernel.accessAllowed ? 'block' : 'none';\n",
              "\n",
              "        async function convertToInteractive(key) {\n",
              "          const element = document.querySelector('#df-7b46bce2-c6a8-40df-a681-122a49778591');\n",
              "          const dataTable =\n",
              "            await google.colab.kernel.invokeFunction('convertToInteractive',\n",
              "                                                     [key], {});\n",
              "          if (!dataTable) return;\n",
              "\n",
              "          const docLinkHtml = 'Like what you see? Visit the ' +\n",
              "            '<a target=\"_blank\" href=https://colab.research.google.com/notebooks/data_table.ipynb>data table notebook</a>'\n",
              "            + ' to learn more about interactive tables.';\n",
              "          element.innerHTML = '';\n",
              "          dataTable['output_type'] = 'display_data';\n",
              "          await google.colab.output.renderOutput(dataTable, element);\n",
              "          const docLink = document.createElement('div');\n",
              "          docLink.innerHTML = docLinkHtml;\n",
              "          element.appendChild(docLink);\n",
              "        }\n",
              "      </script>\n",
              "    </div>\n",
              "  </div>\n",
              "  "
            ]
          },
          "metadata": {},
          "execution_count": 37
        }
      ],
      "source": [
        "# Select multiple cells at once\n",
        "df.iloc[:4, 1:3]"
      ]
    },
    {
      "cell_type": "code",
      "execution_count": 38,
      "metadata": {
        "tags": [
          "student"
        ],
        "id": "DPwY5ckEEX7E"
      },
      "outputs": [],
      "source": [
        "# TODO Select cells with a callable"
      ]
    },
    {
      "cell_type": "code",
      "execution_count": 39,
      "metadata": {
        "tags": [
          "solution"
        ],
        "id": "xbrbB1wREX7E",
        "outputId": "29e99499-5bb2-4ee0-c3a5-acbb6aab88ab",
        "colab": {
          "base_uri": "https://localhost:8080/"
        }
      },
      "outputs": [
        {
          "output_type": "execute_result",
          "data": {
            "text/plain": [
              "0    Course Introduction\n",
              "1       KDD Introduction\n",
              "Name: Lecture Name, dtype: object"
            ]
          },
          "metadata": {},
          "execution_count": 39
        }
      ],
      "source": [
        "# Select cells with a callable\n",
        "# boolean masks only work when you discard the index and pass only the list itself:\n",
        "df.iloc[lambda df: (df[\"Lecture Name\"].str.contains(\"Introduction\")).values, 1]"
      ]
    },
    {
      "cell_type": "code",
      "execution_count": 40,
      "metadata": {
        "tags": [
          "solution"
        ],
        "id": "NCQsmpCkEX7E",
        "outputId": "1d5a7dc7-6841-49de-a069-95d423c3e9cc",
        "colab": {
          "base_uri": "https://localhost:8080/"
        }
      },
      "outputs": [
        {
          "output_type": "execute_result",
          "data": {
            "text/plain": [
              "array([ True,  True, False, False, False, False, False, False, False])"
            ]
          },
          "metadata": {},
          "execution_count": 40
        }
      ],
      "source": [
        "(df[\"Lecture Name\"].str.contains(\"Introduction\")).values"
      ]
    },
    {
      "cell_type": "code",
      "execution_count": 41,
      "metadata": {
        "tags": [
          "solution"
        ],
        "id": "r36XhFlYEX7E",
        "outputId": "812c987e-86fd-4bbd-f70f-e3a433478321",
        "colab": {
          "base_uri": "https://localhost:8080/"
        }
      },
      "outputs": [
        {
          "output_type": "execute_result",
          "data": {
            "text/plain": [
              "0          Course Introduction\n",
              "1             KDD Introduction\n",
              "2    Getting To Know Your Data\n",
              "3           Data Preprocessing\n",
              "4                         OLAP\n",
              "5             Frequent Pattern\n",
              "6               Classification\n",
              "7                      Cluster\n",
              "8                      Outlier\n",
              "Name: Lecture Name, dtype: object"
            ]
          },
          "metadata": {},
          "execution_count": 41
        }
      ],
      "source": [
        "df.iloc[lambda df: (df.Done == False).index, 1]"
      ]
    },
    {
      "cell_type": "markdown",
      "metadata": {
        "id": "K4wEvHv_EX7E"
      },
      "source": [
        "## 3. Sort a `DataFrame` by Index or Column <a id='sort'></a>"
      ]
    },
    {
      "cell_type": "markdown",
      "metadata": {
        "id": "sOnWvV30EX7F"
      },
      "source": [
        "A `DataFrame`can be sorted by its index as well as column values.\n",
        "\n",
        "### 3.1. Sort By Index\n",
        "\n",
        "Function `sort_index` sorts a `DataFrame` by its index alphanumerically. Following parameters are available (among others, refer to [documentation](https://pandas.pydata.org/docs/reference/api/pandas.DataFrame.sort_index.html)):\n",
        "\n",
        "- `axis`: Default `0`, meaning it sorts rows.\n",
        "- `ascending`: Default `True`, set to `False` for descending sort.\n",
        "- `inplace`: Default `False`.\n",
        "- `na_position`: Default `last`. To place NaNs (Not a Number, `NULL` in SQL) first, set to `first`.\n",
        "- `kind`: Sorting algorithm, default `quicksort`. Choose between: `quicksort`, `mergesort`, `heapsort`, `stable`."
      ]
    },
    {
      "cell_type": "code",
      "execution_count": 55,
      "metadata": {
        "id": "TMUDJ3XEEX7F",
        "outputId": "a43fcf50-c750-47ad-9924-e777556e89ab",
        "colab": {
          "base_uri": "https://localhost:8080/",
          "height": 332
        }
      },
      "outputs": [
        {
          "output_type": "execute_result",
          "data": {
            "text/plain": [
              "   Number               Lecture Name   Done\n",
              "0       1        Course Introduction   True\n",
              "1       2           KDD Introduction   True\n",
              "2       3  Getting To Know Your Data  False\n",
              "3       4         Data Preprocessing  False\n",
              "4       5                       OLAP  False\n",
              "5       6           Frequent Pattern  False\n",
              "6       7             Classification  False\n",
              "7       8                    Cluster  False\n",
              "8       9                    Outlier  False"
            ],
            "text/html": [
              "\n",
              "  <div id=\"df-6ea958ac-be31-43e7-af83-08e740c44f98\">\n",
              "    <div class=\"colab-df-container\">\n",
              "      <div>\n",
              "<style scoped>\n",
              "    .dataframe tbody tr th:only-of-type {\n",
              "        vertical-align: middle;\n",
              "    }\n",
              "\n",
              "    .dataframe tbody tr th {\n",
              "        vertical-align: top;\n",
              "    }\n",
              "\n",
              "    .dataframe thead th {\n",
              "        text-align: right;\n",
              "    }\n",
              "</style>\n",
              "<table border=\"1\" class=\"dataframe\">\n",
              "  <thead>\n",
              "    <tr style=\"text-align: right;\">\n",
              "      <th></th>\n",
              "      <th>Number</th>\n",
              "      <th>Lecture Name</th>\n",
              "      <th>Done</th>\n",
              "    </tr>\n",
              "  </thead>\n",
              "  <tbody>\n",
              "    <tr>\n",
              "      <th>0</th>\n",
              "      <td>1</td>\n",
              "      <td>Course Introduction</td>\n",
              "      <td>True</td>\n",
              "    </tr>\n",
              "    <tr>\n",
              "      <th>1</th>\n",
              "      <td>2</td>\n",
              "      <td>KDD Introduction</td>\n",
              "      <td>True</td>\n",
              "    </tr>\n",
              "    <tr>\n",
              "      <th>2</th>\n",
              "      <td>3</td>\n",
              "      <td>Getting To Know Your Data</td>\n",
              "      <td>False</td>\n",
              "    </tr>\n",
              "    <tr>\n",
              "      <th>3</th>\n",
              "      <td>4</td>\n",
              "      <td>Data Preprocessing</td>\n",
              "      <td>False</td>\n",
              "    </tr>\n",
              "    <tr>\n",
              "      <th>4</th>\n",
              "      <td>5</td>\n",
              "      <td>OLAP</td>\n",
              "      <td>False</td>\n",
              "    </tr>\n",
              "    <tr>\n",
              "      <th>5</th>\n",
              "      <td>6</td>\n",
              "      <td>Frequent Pattern</td>\n",
              "      <td>False</td>\n",
              "    </tr>\n",
              "    <tr>\n",
              "      <th>6</th>\n",
              "      <td>7</td>\n",
              "      <td>Classification</td>\n",
              "      <td>False</td>\n",
              "    </tr>\n",
              "    <tr>\n",
              "      <th>7</th>\n",
              "      <td>8</td>\n",
              "      <td>Cluster</td>\n",
              "      <td>False</td>\n",
              "    </tr>\n",
              "    <tr>\n",
              "      <th>8</th>\n",
              "      <td>9</td>\n",
              "      <td>Outlier</td>\n",
              "      <td>False</td>\n",
              "    </tr>\n",
              "  </tbody>\n",
              "</table>\n",
              "</div>\n",
              "      <button class=\"colab-df-convert\" onclick=\"convertToInteractive('df-6ea958ac-be31-43e7-af83-08e740c44f98')\"\n",
              "              title=\"Convert this dataframe to an interactive table.\"\n",
              "              style=\"display:none;\">\n",
              "        \n",
              "  <svg xmlns=\"http://www.w3.org/2000/svg\" height=\"24px\"viewBox=\"0 0 24 24\"\n",
              "       width=\"24px\">\n",
              "    <path d=\"M0 0h24v24H0V0z\" fill=\"none\"/>\n",
              "    <path d=\"M18.56 5.44l.94 2.06.94-2.06 2.06-.94-2.06-.94-.94-2.06-.94 2.06-2.06.94zm-11 1L8.5 8.5l.94-2.06 2.06-.94-2.06-.94L8.5 2.5l-.94 2.06-2.06.94zm10 10l.94 2.06.94-2.06 2.06-.94-2.06-.94-.94-2.06-.94 2.06-2.06.94z\"/><path d=\"M17.41 7.96l-1.37-1.37c-.4-.4-.92-.59-1.43-.59-.52 0-1.04.2-1.43.59L10.3 9.45l-7.72 7.72c-.78.78-.78 2.05 0 2.83L4 21.41c.39.39.9.59 1.41.59.51 0 1.02-.2 1.41-.59l7.78-7.78 2.81-2.81c.8-.78.8-2.07 0-2.86zM5.41 20L4 18.59l7.72-7.72 1.47 1.35L5.41 20z\"/>\n",
              "  </svg>\n",
              "      </button>\n",
              "      \n",
              "  <style>\n",
              "    .colab-df-container {\n",
              "      display:flex;\n",
              "      flex-wrap:wrap;\n",
              "      gap: 12px;\n",
              "    }\n",
              "\n",
              "    .colab-df-convert {\n",
              "      background-color: #E8F0FE;\n",
              "      border: none;\n",
              "      border-radius: 50%;\n",
              "      cursor: pointer;\n",
              "      display: none;\n",
              "      fill: #1967D2;\n",
              "      height: 32px;\n",
              "      padding: 0 0 0 0;\n",
              "      width: 32px;\n",
              "    }\n",
              "\n",
              "    .colab-df-convert:hover {\n",
              "      background-color: #E2EBFA;\n",
              "      box-shadow: 0px 1px 2px rgba(60, 64, 67, 0.3), 0px 1px 3px 1px rgba(60, 64, 67, 0.15);\n",
              "      fill: #174EA6;\n",
              "    }\n",
              "\n",
              "    [theme=dark] .colab-df-convert {\n",
              "      background-color: #3B4455;\n",
              "      fill: #D2E3FC;\n",
              "    }\n",
              "\n",
              "    [theme=dark] .colab-df-convert:hover {\n",
              "      background-color: #434B5C;\n",
              "      box-shadow: 0px 1px 3px 1px rgba(0, 0, 0, 0.15);\n",
              "      filter: drop-shadow(0px 1px 2px rgba(0, 0, 0, 0.3));\n",
              "      fill: #FFFFFF;\n",
              "    }\n",
              "  </style>\n",
              "\n",
              "      <script>\n",
              "        const buttonEl =\n",
              "          document.querySelector('#df-6ea958ac-be31-43e7-af83-08e740c44f98 button.colab-df-convert');\n",
              "        buttonEl.style.display =\n",
              "          google.colab.kernel.accessAllowed ? 'block' : 'none';\n",
              "\n",
              "        async function convertToInteractive(key) {\n",
              "          const element = document.querySelector('#df-6ea958ac-be31-43e7-af83-08e740c44f98');\n",
              "          const dataTable =\n",
              "            await google.colab.kernel.invokeFunction('convertToInteractive',\n",
              "                                                     [key], {});\n",
              "          if (!dataTable) return;\n",
              "\n",
              "          const docLinkHtml = 'Like what you see? Visit the ' +\n",
              "            '<a target=\"_blank\" href=https://colab.research.google.com/notebooks/data_table.ipynb>data table notebook</a>'\n",
              "            + ' to learn more about interactive tables.';\n",
              "          element.innerHTML = '';\n",
              "          dataTable['output_type'] = 'display_data';\n",
              "          await google.colab.output.renderOutput(dataTable, element);\n",
              "          const docLink = document.createElement('div');\n",
              "          docLink.innerHTML = docLinkHtml;\n",
              "          element.appendChild(docLink);\n",
              "        }\n",
              "      </script>\n",
              "    </div>\n",
              "  </div>\n",
              "  "
            ]
          },
          "metadata": {},
          "execution_count": 55
        }
      ],
      "source": [
        "# let's get our untouched DataFrame\n",
        "df = df_original.copy()\n",
        "df"
      ]
    },
    {
      "cell_type": "markdown",
      "metadata": {
        "id": "5A5kQiv8EX7F"
      },
      "source": [
        "Sort descending:"
      ]
    },
    {
      "cell_type": "code",
      "execution_count": 56,
      "metadata": {
        "id": "j4Tsv8kyEX7F",
        "outputId": "14ee8417-3fe9-4c93-972a-deafad4f65da",
        "colab": {
          "base_uri": "https://localhost:8080/",
          "height": 332
        }
      },
      "outputs": [
        {
          "output_type": "execute_result",
          "data": {
            "text/plain": [
              "   Number               Lecture Name   Done\n",
              "8       9                    Outlier  False\n",
              "7       8                    Cluster  False\n",
              "6       7             Classification  False\n",
              "5       6           Frequent Pattern  False\n",
              "4       5                       OLAP  False\n",
              "3       4         Data Preprocessing  False\n",
              "2       3  Getting To Know Your Data  False\n",
              "1       2           KDD Introduction   True\n",
              "0       1        Course Introduction   True"
            ],
            "text/html": [
              "\n",
              "  <div id=\"df-bc9f619f-626f-4aed-a4eb-ff4ad7cd6508\">\n",
              "    <div class=\"colab-df-container\">\n",
              "      <div>\n",
              "<style scoped>\n",
              "    .dataframe tbody tr th:only-of-type {\n",
              "        vertical-align: middle;\n",
              "    }\n",
              "\n",
              "    .dataframe tbody tr th {\n",
              "        vertical-align: top;\n",
              "    }\n",
              "\n",
              "    .dataframe thead th {\n",
              "        text-align: right;\n",
              "    }\n",
              "</style>\n",
              "<table border=\"1\" class=\"dataframe\">\n",
              "  <thead>\n",
              "    <tr style=\"text-align: right;\">\n",
              "      <th></th>\n",
              "      <th>Number</th>\n",
              "      <th>Lecture Name</th>\n",
              "      <th>Done</th>\n",
              "    </tr>\n",
              "  </thead>\n",
              "  <tbody>\n",
              "    <tr>\n",
              "      <th>8</th>\n",
              "      <td>9</td>\n",
              "      <td>Outlier</td>\n",
              "      <td>False</td>\n",
              "    </tr>\n",
              "    <tr>\n",
              "      <th>7</th>\n",
              "      <td>8</td>\n",
              "      <td>Cluster</td>\n",
              "      <td>False</td>\n",
              "    </tr>\n",
              "    <tr>\n",
              "      <th>6</th>\n",
              "      <td>7</td>\n",
              "      <td>Classification</td>\n",
              "      <td>False</td>\n",
              "    </tr>\n",
              "    <tr>\n",
              "      <th>5</th>\n",
              "      <td>6</td>\n",
              "      <td>Frequent Pattern</td>\n",
              "      <td>False</td>\n",
              "    </tr>\n",
              "    <tr>\n",
              "      <th>4</th>\n",
              "      <td>5</td>\n",
              "      <td>OLAP</td>\n",
              "      <td>False</td>\n",
              "    </tr>\n",
              "    <tr>\n",
              "      <th>3</th>\n",
              "      <td>4</td>\n",
              "      <td>Data Preprocessing</td>\n",
              "      <td>False</td>\n",
              "    </tr>\n",
              "    <tr>\n",
              "      <th>2</th>\n",
              "      <td>3</td>\n",
              "      <td>Getting To Know Your Data</td>\n",
              "      <td>False</td>\n",
              "    </tr>\n",
              "    <tr>\n",
              "      <th>1</th>\n",
              "      <td>2</td>\n",
              "      <td>KDD Introduction</td>\n",
              "      <td>True</td>\n",
              "    </tr>\n",
              "    <tr>\n",
              "      <th>0</th>\n",
              "      <td>1</td>\n",
              "      <td>Course Introduction</td>\n",
              "      <td>True</td>\n",
              "    </tr>\n",
              "  </tbody>\n",
              "</table>\n",
              "</div>\n",
              "      <button class=\"colab-df-convert\" onclick=\"convertToInteractive('df-bc9f619f-626f-4aed-a4eb-ff4ad7cd6508')\"\n",
              "              title=\"Convert this dataframe to an interactive table.\"\n",
              "              style=\"display:none;\">\n",
              "        \n",
              "  <svg xmlns=\"http://www.w3.org/2000/svg\" height=\"24px\"viewBox=\"0 0 24 24\"\n",
              "       width=\"24px\">\n",
              "    <path d=\"M0 0h24v24H0V0z\" fill=\"none\"/>\n",
              "    <path d=\"M18.56 5.44l.94 2.06.94-2.06 2.06-.94-2.06-.94-.94-2.06-.94 2.06-2.06.94zm-11 1L8.5 8.5l.94-2.06 2.06-.94-2.06-.94L8.5 2.5l-.94 2.06-2.06.94zm10 10l.94 2.06.94-2.06 2.06-.94-2.06-.94-.94-2.06-.94 2.06-2.06.94z\"/><path d=\"M17.41 7.96l-1.37-1.37c-.4-.4-.92-.59-1.43-.59-.52 0-1.04.2-1.43.59L10.3 9.45l-7.72 7.72c-.78.78-.78 2.05 0 2.83L4 21.41c.39.39.9.59 1.41.59.51 0 1.02-.2 1.41-.59l7.78-7.78 2.81-2.81c.8-.78.8-2.07 0-2.86zM5.41 20L4 18.59l7.72-7.72 1.47 1.35L5.41 20z\"/>\n",
              "  </svg>\n",
              "      </button>\n",
              "      \n",
              "  <style>\n",
              "    .colab-df-container {\n",
              "      display:flex;\n",
              "      flex-wrap:wrap;\n",
              "      gap: 12px;\n",
              "    }\n",
              "\n",
              "    .colab-df-convert {\n",
              "      background-color: #E8F0FE;\n",
              "      border: none;\n",
              "      border-radius: 50%;\n",
              "      cursor: pointer;\n",
              "      display: none;\n",
              "      fill: #1967D2;\n",
              "      height: 32px;\n",
              "      padding: 0 0 0 0;\n",
              "      width: 32px;\n",
              "    }\n",
              "\n",
              "    .colab-df-convert:hover {\n",
              "      background-color: #E2EBFA;\n",
              "      box-shadow: 0px 1px 2px rgba(60, 64, 67, 0.3), 0px 1px 3px 1px rgba(60, 64, 67, 0.15);\n",
              "      fill: #174EA6;\n",
              "    }\n",
              "\n",
              "    [theme=dark] .colab-df-convert {\n",
              "      background-color: #3B4455;\n",
              "      fill: #D2E3FC;\n",
              "    }\n",
              "\n",
              "    [theme=dark] .colab-df-convert:hover {\n",
              "      background-color: #434B5C;\n",
              "      box-shadow: 0px 1px 3px 1px rgba(0, 0, 0, 0.15);\n",
              "      filter: drop-shadow(0px 1px 2px rgba(0, 0, 0, 0.3));\n",
              "      fill: #FFFFFF;\n",
              "    }\n",
              "  </style>\n",
              "\n",
              "      <script>\n",
              "        const buttonEl =\n",
              "          document.querySelector('#df-bc9f619f-626f-4aed-a4eb-ff4ad7cd6508 button.colab-df-convert');\n",
              "        buttonEl.style.display =\n",
              "          google.colab.kernel.accessAllowed ? 'block' : 'none';\n",
              "\n",
              "        async function convertToInteractive(key) {\n",
              "          const element = document.querySelector('#df-bc9f619f-626f-4aed-a4eb-ff4ad7cd6508');\n",
              "          const dataTable =\n",
              "            await google.colab.kernel.invokeFunction('convertToInteractive',\n",
              "                                                     [key], {});\n",
              "          if (!dataTable) return;\n",
              "\n",
              "          const docLinkHtml = 'Like what you see? Visit the ' +\n",
              "            '<a target=\"_blank\" href=https://colab.research.google.com/notebooks/data_table.ipynb>data table notebook</a>'\n",
              "            + ' to learn more about interactive tables.';\n",
              "          element.innerHTML = '';\n",
              "          dataTable['output_type'] = 'display_data';\n",
              "          await google.colab.output.renderOutput(dataTable, element);\n",
              "          const docLink = document.createElement('div');\n",
              "          docLink.innerHTML = docLinkHtml;\n",
              "          element.appendChild(docLink);\n",
              "        }\n",
              "      </script>\n",
              "    </div>\n",
              "  </div>\n",
              "  "
            ]
          },
          "metadata": {},
          "execution_count": 56
        }
      ],
      "source": [
        "df.sort_index(ascending=False)"
      ]
    },
    {
      "cell_type": "markdown",
      "metadata": {
        "id": "wBc_zH7kEX7F"
      },
      "source": [
        "### 3.2 Sort by Column"
      ]
    },
    {
      "cell_type": "markdown",
      "metadata": {
        "id": "hib-Z47mEX7F"
      },
      "source": [
        "To sort a `DataFrame` by column, use function `sort_values`. It has the following parameters (refer to [documentation](https://pandas.pydata.org/docs/reference/api/pandas.DataFrame.sort_values.html)):\n",
        "- `by`: Column name or list of column names to sort by.\n",
        "- `axis`: Default `0`, meaning it sorts rows.\n",
        "- `inplace`: Default `False`.\n",
        "- `na_position`: Default `last`. To place NaNs (Not a Number, `NULL` in SQL) first, set to `first`.\n",
        "- `kind`: Sorting algorithm, default `quicksort`. Choose between: `quicksort`, `mergesort`, `heapsort`, `stable`.\n",
        "- `ignore_index`: Default `False` to retain current index. Set to `True` to generate a new index."
      ]
    },
    {
      "cell_type": "code",
      "execution_count": 57,
      "metadata": {
        "id": "xj2K8W3nEX7F",
        "outputId": "22f92173-849d-47c1-afb5-865509e3485b",
        "colab": {
          "base_uri": "https://localhost:8080/",
          "height": 332
        }
      },
      "outputs": [
        {
          "output_type": "execute_result",
          "data": {
            "text/plain": [
              "   Number               Lecture Name   Done\n",
              "6       7             Classification  False\n",
              "7       8                    Cluster  False\n",
              "0       1        Course Introduction   True\n",
              "3       4         Data Preprocessing  False\n",
              "5       6           Frequent Pattern  False\n",
              "2       3  Getting To Know Your Data  False\n",
              "1       2           KDD Introduction   True\n",
              "4       5                       OLAP  False\n",
              "8       9                    Outlier  False"
            ],
            "text/html": [
              "\n",
              "  <div id=\"df-03a5e225-21f8-4904-9209-6bbf46ec4be2\">\n",
              "    <div class=\"colab-df-container\">\n",
              "      <div>\n",
              "<style scoped>\n",
              "    .dataframe tbody tr th:only-of-type {\n",
              "        vertical-align: middle;\n",
              "    }\n",
              "\n",
              "    .dataframe tbody tr th {\n",
              "        vertical-align: top;\n",
              "    }\n",
              "\n",
              "    .dataframe thead th {\n",
              "        text-align: right;\n",
              "    }\n",
              "</style>\n",
              "<table border=\"1\" class=\"dataframe\">\n",
              "  <thead>\n",
              "    <tr style=\"text-align: right;\">\n",
              "      <th></th>\n",
              "      <th>Number</th>\n",
              "      <th>Lecture Name</th>\n",
              "      <th>Done</th>\n",
              "    </tr>\n",
              "  </thead>\n",
              "  <tbody>\n",
              "    <tr>\n",
              "      <th>6</th>\n",
              "      <td>7</td>\n",
              "      <td>Classification</td>\n",
              "      <td>False</td>\n",
              "    </tr>\n",
              "    <tr>\n",
              "      <th>7</th>\n",
              "      <td>8</td>\n",
              "      <td>Cluster</td>\n",
              "      <td>False</td>\n",
              "    </tr>\n",
              "    <tr>\n",
              "      <th>0</th>\n",
              "      <td>1</td>\n",
              "      <td>Course Introduction</td>\n",
              "      <td>True</td>\n",
              "    </tr>\n",
              "    <tr>\n",
              "      <th>3</th>\n",
              "      <td>4</td>\n",
              "      <td>Data Preprocessing</td>\n",
              "      <td>False</td>\n",
              "    </tr>\n",
              "    <tr>\n",
              "      <th>5</th>\n",
              "      <td>6</td>\n",
              "      <td>Frequent Pattern</td>\n",
              "      <td>False</td>\n",
              "    </tr>\n",
              "    <tr>\n",
              "      <th>2</th>\n",
              "      <td>3</td>\n",
              "      <td>Getting To Know Your Data</td>\n",
              "      <td>False</td>\n",
              "    </tr>\n",
              "    <tr>\n",
              "      <th>1</th>\n",
              "      <td>2</td>\n",
              "      <td>KDD Introduction</td>\n",
              "      <td>True</td>\n",
              "    </tr>\n",
              "    <tr>\n",
              "      <th>4</th>\n",
              "      <td>5</td>\n",
              "      <td>OLAP</td>\n",
              "      <td>False</td>\n",
              "    </tr>\n",
              "    <tr>\n",
              "      <th>8</th>\n",
              "      <td>9</td>\n",
              "      <td>Outlier</td>\n",
              "      <td>False</td>\n",
              "    </tr>\n",
              "  </tbody>\n",
              "</table>\n",
              "</div>\n",
              "      <button class=\"colab-df-convert\" onclick=\"convertToInteractive('df-03a5e225-21f8-4904-9209-6bbf46ec4be2')\"\n",
              "              title=\"Convert this dataframe to an interactive table.\"\n",
              "              style=\"display:none;\">\n",
              "        \n",
              "  <svg xmlns=\"http://www.w3.org/2000/svg\" height=\"24px\"viewBox=\"0 0 24 24\"\n",
              "       width=\"24px\">\n",
              "    <path d=\"M0 0h24v24H0V0z\" fill=\"none\"/>\n",
              "    <path d=\"M18.56 5.44l.94 2.06.94-2.06 2.06-.94-2.06-.94-.94-2.06-.94 2.06-2.06.94zm-11 1L8.5 8.5l.94-2.06 2.06-.94-2.06-.94L8.5 2.5l-.94 2.06-2.06.94zm10 10l.94 2.06.94-2.06 2.06-.94-2.06-.94-.94-2.06-.94 2.06-2.06.94z\"/><path d=\"M17.41 7.96l-1.37-1.37c-.4-.4-.92-.59-1.43-.59-.52 0-1.04.2-1.43.59L10.3 9.45l-7.72 7.72c-.78.78-.78 2.05 0 2.83L4 21.41c.39.39.9.59 1.41.59.51 0 1.02-.2 1.41-.59l7.78-7.78 2.81-2.81c.8-.78.8-2.07 0-2.86zM5.41 20L4 18.59l7.72-7.72 1.47 1.35L5.41 20z\"/>\n",
              "  </svg>\n",
              "      </button>\n",
              "      \n",
              "  <style>\n",
              "    .colab-df-container {\n",
              "      display:flex;\n",
              "      flex-wrap:wrap;\n",
              "      gap: 12px;\n",
              "    }\n",
              "\n",
              "    .colab-df-convert {\n",
              "      background-color: #E8F0FE;\n",
              "      border: none;\n",
              "      border-radius: 50%;\n",
              "      cursor: pointer;\n",
              "      display: none;\n",
              "      fill: #1967D2;\n",
              "      height: 32px;\n",
              "      padding: 0 0 0 0;\n",
              "      width: 32px;\n",
              "    }\n",
              "\n",
              "    .colab-df-convert:hover {\n",
              "      background-color: #E2EBFA;\n",
              "      box-shadow: 0px 1px 2px rgba(60, 64, 67, 0.3), 0px 1px 3px 1px rgba(60, 64, 67, 0.15);\n",
              "      fill: #174EA6;\n",
              "    }\n",
              "\n",
              "    [theme=dark] .colab-df-convert {\n",
              "      background-color: #3B4455;\n",
              "      fill: #D2E3FC;\n",
              "    }\n",
              "\n",
              "    [theme=dark] .colab-df-convert:hover {\n",
              "      background-color: #434B5C;\n",
              "      box-shadow: 0px 1px 3px 1px rgba(0, 0, 0, 0.15);\n",
              "      filter: drop-shadow(0px 1px 2px rgba(0, 0, 0, 0.3));\n",
              "      fill: #FFFFFF;\n",
              "    }\n",
              "  </style>\n",
              "\n",
              "      <script>\n",
              "        const buttonEl =\n",
              "          document.querySelector('#df-03a5e225-21f8-4904-9209-6bbf46ec4be2 button.colab-df-convert');\n",
              "        buttonEl.style.display =\n",
              "          google.colab.kernel.accessAllowed ? 'block' : 'none';\n",
              "\n",
              "        async function convertToInteractive(key) {\n",
              "          const element = document.querySelector('#df-03a5e225-21f8-4904-9209-6bbf46ec4be2');\n",
              "          const dataTable =\n",
              "            await google.colab.kernel.invokeFunction('convertToInteractive',\n",
              "                                                     [key], {});\n",
              "          if (!dataTable) return;\n",
              "\n",
              "          const docLinkHtml = 'Like what you see? Visit the ' +\n",
              "            '<a target=\"_blank\" href=https://colab.research.google.com/notebooks/data_table.ipynb>data table notebook</a>'\n",
              "            + ' to learn more about interactive tables.';\n",
              "          element.innerHTML = '';\n",
              "          dataTable['output_type'] = 'display_data';\n",
              "          await google.colab.output.renderOutput(dataTable, element);\n",
              "          const docLink = document.createElement('div');\n",
              "          docLink.innerHTML = docLinkHtml;\n",
              "          element.appendChild(docLink);\n",
              "        }\n",
              "      </script>\n",
              "    </div>\n",
              "  </div>\n",
              "  "
            ]
          },
          "metadata": {},
          "execution_count": 57
        }
      ],
      "source": [
        "df.sort_values(by=\"Lecture Name\")"
      ]
    },
    {
      "cell_type": "code",
      "execution_count": 58,
      "metadata": {
        "id": "vL7fKQ_VEX7F",
        "outputId": "65db4e07-3bc1-4e16-9418-fba0d7eede42",
        "colab": {
          "base_uri": "https://localhost:8080/",
          "height": 332
        }
      },
      "outputs": [
        {
          "output_type": "execute_result",
          "data": {
            "text/plain": [
              "   Number               Lecture Name   Done\n",
              "0       7             Classification  False\n",
              "1       8                    Cluster  False\n",
              "2       1        Course Introduction   True\n",
              "3       4         Data Preprocessing  False\n",
              "4       6           Frequent Pattern  False\n",
              "5       3  Getting To Know Your Data  False\n",
              "6       2           KDD Introduction   True\n",
              "7       5                       OLAP  False\n",
              "8       9                    Outlier  False"
            ],
            "text/html": [
              "\n",
              "  <div id=\"df-b297dc50-8301-4920-8381-893c34ef8665\">\n",
              "    <div class=\"colab-df-container\">\n",
              "      <div>\n",
              "<style scoped>\n",
              "    .dataframe tbody tr th:only-of-type {\n",
              "        vertical-align: middle;\n",
              "    }\n",
              "\n",
              "    .dataframe tbody tr th {\n",
              "        vertical-align: top;\n",
              "    }\n",
              "\n",
              "    .dataframe thead th {\n",
              "        text-align: right;\n",
              "    }\n",
              "</style>\n",
              "<table border=\"1\" class=\"dataframe\">\n",
              "  <thead>\n",
              "    <tr style=\"text-align: right;\">\n",
              "      <th></th>\n",
              "      <th>Number</th>\n",
              "      <th>Lecture Name</th>\n",
              "      <th>Done</th>\n",
              "    </tr>\n",
              "  </thead>\n",
              "  <tbody>\n",
              "    <tr>\n",
              "      <th>0</th>\n",
              "      <td>7</td>\n",
              "      <td>Classification</td>\n",
              "      <td>False</td>\n",
              "    </tr>\n",
              "    <tr>\n",
              "      <th>1</th>\n",
              "      <td>8</td>\n",
              "      <td>Cluster</td>\n",
              "      <td>False</td>\n",
              "    </tr>\n",
              "    <tr>\n",
              "      <th>2</th>\n",
              "      <td>1</td>\n",
              "      <td>Course Introduction</td>\n",
              "      <td>True</td>\n",
              "    </tr>\n",
              "    <tr>\n",
              "      <th>3</th>\n",
              "      <td>4</td>\n",
              "      <td>Data Preprocessing</td>\n",
              "      <td>False</td>\n",
              "    </tr>\n",
              "    <tr>\n",
              "      <th>4</th>\n",
              "      <td>6</td>\n",
              "      <td>Frequent Pattern</td>\n",
              "      <td>False</td>\n",
              "    </tr>\n",
              "    <tr>\n",
              "      <th>5</th>\n",
              "      <td>3</td>\n",
              "      <td>Getting To Know Your Data</td>\n",
              "      <td>False</td>\n",
              "    </tr>\n",
              "    <tr>\n",
              "      <th>6</th>\n",
              "      <td>2</td>\n",
              "      <td>KDD Introduction</td>\n",
              "      <td>True</td>\n",
              "    </tr>\n",
              "    <tr>\n",
              "      <th>7</th>\n",
              "      <td>5</td>\n",
              "      <td>OLAP</td>\n",
              "      <td>False</td>\n",
              "    </tr>\n",
              "    <tr>\n",
              "      <th>8</th>\n",
              "      <td>9</td>\n",
              "      <td>Outlier</td>\n",
              "      <td>False</td>\n",
              "    </tr>\n",
              "  </tbody>\n",
              "</table>\n",
              "</div>\n",
              "      <button class=\"colab-df-convert\" onclick=\"convertToInteractive('df-b297dc50-8301-4920-8381-893c34ef8665')\"\n",
              "              title=\"Convert this dataframe to an interactive table.\"\n",
              "              style=\"display:none;\">\n",
              "        \n",
              "  <svg xmlns=\"http://www.w3.org/2000/svg\" height=\"24px\"viewBox=\"0 0 24 24\"\n",
              "       width=\"24px\">\n",
              "    <path d=\"M0 0h24v24H0V0z\" fill=\"none\"/>\n",
              "    <path d=\"M18.56 5.44l.94 2.06.94-2.06 2.06-.94-2.06-.94-.94-2.06-.94 2.06-2.06.94zm-11 1L8.5 8.5l.94-2.06 2.06-.94-2.06-.94L8.5 2.5l-.94 2.06-2.06.94zm10 10l.94 2.06.94-2.06 2.06-.94-2.06-.94-.94-2.06-.94 2.06-2.06.94z\"/><path d=\"M17.41 7.96l-1.37-1.37c-.4-.4-.92-.59-1.43-.59-.52 0-1.04.2-1.43.59L10.3 9.45l-7.72 7.72c-.78.78-.78 2.05 0 2.83L4 21.41c.39.39.9.59 1.41.59.51 0 1.02-.2 1.41-.59l7.78-7.78 2.81-2.81c.8-.78.8-2.07 0-2.86zM5.41 20L4 18.59l7.72-7.72 1.47 1.35L5.41 20z\"/>\n",
              "  </svg>\n",
              "      </button>\n",
              "      \n",
              "  <style>\n",
              "    .colab-df-container {\n",
              "      display:flex;\n",
              "      flex-wrap:wrap;\n",
              "      gap: 12px;\n",
              "    }\n",
              "\n",
              "    .colab-df-convert {\n",
              "      background-color: #E8F0FE;\n",
              "      border: none;\n",
              "      border-radius: 50%;\n",
              "      cursor: pointer;\n",
              "      display: none;\n",
              "      fill: #1967D2;\n",
              "      height: 32px;\n",
              "      padding: 0 0 0 0;\n",
              "      width: 32px;\n",
              "    }\n",
              "\n",
              "    .colab-df-convert:hover {\n",
              "      background-color: #E2EBFA;\n",
              "      box-shadow: 0px 1px 2px rgba(60, 64, 67, 0.3), 0px 1px 3px 1px rgba(60, 64, 67, 0.15);\n",
              "      fill: #174EA6;\n",
              "    }\n",
              "\n",
              "    [theme=dark] .colab-df-convert {\n",
              "      background-color: #3B4455;\n",
              "      fill: #D2E3FC;\n",
              "    }\n",
              "\n",
              "    [theme=dark] .colab-df-convert:hover {\n",
              "      background-color: #434B5C;\n",
              "      box-shadow: 0px 1px 3px 1px rgba(0, 0, 0, 0.15);\n",
              "      filter: drop-shadow(0px 1px 2px rgba(0, 0, 0, 0.3));\n",
              "      fill: #FFFFFF;\n",
              "    }\n",
              "  </style>\n",
              "\n",
              "      <script>\n",
              "        const buttonEl =\n",
              "          document.querySelector('#df-b297dc50-8301-4920-8381-893c34ef8665 button.colab-df-convert');\n",
              "        buttonEl.style.display =\n",
              "          google.colab.kernel.accessAllowed ? 'block' : 'none';\n",
              "\n",
              "        async function convertToInteractive(key) {\n",
              "          const element = document.querySelector('#df-b297dc50-8301-4920-8381-893c34ef8665');\n",
              "          const dataTable =\n",
              "            await google.colab.kernel.invokeFunction('convertToInteractive',\n",
              "                                                     [key], {});\n",
              "          if (!dataTable) return;\n",
              "\n",
              "          const docLinkHtml = 'Like what you see? Visit the ' +\n",
              "            '<a target=\"_blank\" href=https://colab.research.google.com/notebooks/data_table.ipynb>data table notebook</a>'\n",
              "            + ' to learn more about interactive tables.';\n",
              "          element.innerHTML = '';\n",
              "          dataTable['output_type'] = 'display_data';\n",
              "          await google.colab.output.renderOutput(dataTable, element);\n",
              "          const docLink = document.createElement('div');\n",
              "          docLink.innerHTML = docLinkHtml;\n",
              "          element.appendChild(docLink);\n",
              "        }\n",
              "      </script>\n",
              "    </div>\n",
              "  </div>\n",
              "  "
            ]
          },
          "metadata": {},
          "execution_count": 58
        }
      ],
      "source": [
        "df.sort_values(by=\"Lecture Name\", ignore_index=True)"
      ]
    },
    {
      "cell_type": "markdown",
      "metadata": {
        "id": "8F_R_0apEX7G"
      },
      "source": [
        "## 4. Statistics, Aggregation, and Groups <a id='stats_aggregation_groups'></a>"
      ]
    },
    {
      "cell_type": "markdown",
      "metadata": {
        "id": "0Z4T6pOVEX7G"
      },
      "source": [
        "pandas is based on numpy and thus, provides an extensive amount of mathematical functions out of the box. "
      ]
    },
    {
      "cell_type": "code",
      "execution_count": 46,
      "metadata": {
        "id": "UvlHUMe5EX7G",
        "outputId": "9275d4b4-2ab6-4a3d-c3b0-7acb92496354",
        "colab": {
          "base_uri": "https://localhost:8080/",
          "height": 339
        }
      },
      "outputs": [
        {
          "output_type": "error",
          "ename": "ModuleNotFoundError",
          "evalue": "ignored",
          "traceback": [
            "\u001b[0;31m---------------------------------------------------------------------------\u001b[0m",
            "\u001b[0;31mModuleNotFoundError\u001b[0m                       Traceback (most recent call last)",
            "\u001b[0;32m<ipython-input-46-d96b05c76af9>\u001b[0m in \u001b[0;36m<module>\u001b[0;34m()\u001b[0m\n\u001b[0;32m----> 1\u001b[0;31m \u001b[0;32mfrom\u001b[0m \u001b[0morder_example\u001b[0m \u001b[0;32mimport\u001b[0m \u001b[0marticles\u001b[0m\u001b[0;34m\u001b[0m\u001b[0;34m\u001b[0m\u001b[0m\n\u001b[0m\u001b[1;32m      2\u001b[0m \u001b[0;34m\u001b[0m\u001b[0m\n\u001b[1;32m      3\u001b[0m \u001b[0marticles\u001b[0m\u001b[0;34m\u001b[0m\u001b[0;34m\u001b[0m\u001b[0m\n",
            "\u001b[0;31mModuleNotFoundError\u001b[0m: No module named 'order_example'",
            "",
            "\u001b[0;31m---------------------------------------------------------------------------\u001b[0;32m\nNOTE: If your import is failing due to a missing package, you can\nmanually install dependencies using either !pip or !apt.\n\nTo view examples of installing some common dependencies, click the\n\"Open Examples\" button below.\n\u001b[0;31m---------------------------------------------------------------------------\u001b[0m\n"
          ],
          "errorDetails": {
            "actions": [
              {
                "action": "open_url",
                "actionText": "Open Examples",
                "url": "/notebooks/snippets/importing_libraries.ipynb"
              }
            ]
          }
        }
      ],
      "source": [
        "from order_example import articles\n",
        "\n",
        "articles"
      ]
    },
    {
      "cell_type": "markdown",
      "metadata": {
        "id": "7wu6oIBmEX7G"
      },
      "source": [
        "pandas provides functions to describe a distribution:"
      ]
    },
    {
      "cell_type": "code",
      "execution_count": null,
      "metadata": {
        "id": "E2t6_NwoEX7G"
      },
      "outputs": [],
      "source": [
        "# Mean value of column \"PRICE\"\n",
        "articles.PRICE.mean()"
      ]
    },
    {
      "cell_type": "code",
      "execution_count": null,
      "metadata": {
        "id": "Pulm3BvWEX7G"
      },
      "outputs": [],
      "source": [
        "# Median value of column \"PRICE\"\n",
        "articles.PRICE.median()"
      ]
    },
    {
      "cell_type": "code",
      "execution_count": null,
      "metadata": {
        "id": "f9cRmb3EEX7G"
      },
      "outputs": [],
      "source": [
        "# Max value of column \"PRICE\"\n",
        "articles.PRICE.max()"
      ]
    },
    {
      "cell_type": "code",
      "execution_count": null,
      "metadata": {
        "id": "aeqHmXW-EX7G"
      },
      "outputs": [],
      "source": [
        "# Likewise, min value of column \"PRICE\"\n",
        "articles.PRICE.min()"
      ]
    },
    {
      "cell_type": "code",
      "execution_count": null,
      "metadata": {
        "id": "KJCLFAAkEX7G"
      },
      "outputs": [],
      "source": [
        "# Variance of column \"PRICE\"\n",
        "articles.PRICE.var()"
      ]
    },
    {
      "cell_type": "code",
      "execution_count": null,
      "metadata": {
        "id": "Zxek76NjEX7G"
      },
      "outputs": [],
      "source": [
        "# Standard Deviation of column \"PRICE\"\n",
        "articles.PRICE.std()"
      ]
    },
    {
      "cell_type": "markdown",
      "metadata": {
        "id": "6s3UX1fwEX7H"
      },
      "source": [
        "These statistics are automatically calculated at once by `describe`:"
      ]
    },
    {
      "cell_type": "code",
      "execution_count": null,
      "metadata": {
        "id": "NffD5VNEEX7H"
      },
      "outputs": [],
      "source": [
        "articles.PRICE.describe()"
      ]
    },
    {
      "cell_type": "code",
      "execution_count": null,
      "metadata": {
        "id": "MDFhAGa2EX7H"
      },
      "outputs": [],
      "source": [
        "# We can also apply this function on the whole DataFrame\n",
        "articles.describe()"
      ]
    },
    {
      "cell_type": "code",
      "execution_count": null,
      "metadata": {
        "id": "KypLySGGEX7H"
      },
      "outputs": [],
      "source": [
        "# Or transpose the output\n",
        "articles.describe().transpose()"
      ]
    },
    {
      "cell_type": "code",
      "execution_count": null,
      "metadata": {
        "id": "aqcQAr73EX7H"
      },
      "outputs": [],
      "source": [
        "# Sum of all article prices\n",
        "articles.PRICE.sum()"
      ]
    },
    {
      "cell_type": "code",
      "execution_count": null,
      "metadata": {
        "id": "PTKEKyJtEX7H"
      },
      "outputs": [],
      "source": [
        "# Cummulative sum of article prices\n",
        "articles.PRICE.cumsum()"
      ]
    },
    {
      "cell_type": "code",
      "execution_count": null,
      "metadata": {
        "id": "bDjF7X9bEX7H"
      },
      "outputs": [],
      "source": [
        "# Get unique values\n",
        "articles.PRICE.unique()"
      ]
    },
    {
      "cell_type": "code",
      "execution_count": null,
      "metadata": {
        "id": "75lnBJ6MEX7H"
      },
      "outputs": [],
      "source": [
        "# get count of unique values\n",
        "articles.PRICE.nunique()"
      ]
    },
    {
      "cell_type": "markdown",
      "metadata": {
        "id": "q33vAFb5EX7I"
      },
      "source": [
        "It is also possible to calculate several functions in one statement:"
      ]
    },
    {
      "cell_type": "code",
      "execution_count": null,
      "metadata": {
        "id": "9sL2vkeFEX7I"
      },
      "outputs": [],
      "source": [
        "articles.agg({\"PRICE\": [min, max, \"nunique\", \"mean\"]})"
      ]
    },
    {
      "cell_type": "code",
      "execution_count": null,
      "metadata": {
        "id": "mrY0igOgEX7I"
      },
      "outputs": [],
      "source": [
        "# We can also group by some column and apply a function based on this group\n",
        "articles.groupby(\"TYPE\").count().loc[:, \"NAME\"]"
      ]
    },
    {
      "cell_type": "code",
      "execution_count": null,
      "metadata": {
        "id": "unCpQ2K7EX7I"
      },
      "outputs": [],
      "source": [
        "# Get list of all article names in a group\n",
        "articles.groupby(\"TYPE\").agg({\"NAME\": list})"
      ]
    },
    {
      "cell_type": "code",
      "execution_count": null,
      "metadata": {
        "id": "Kkpx6ovtEX7I"
      },
      "outputs": [],
      "source": [
        "# Get article names in a group as a comma separated string\n",
        "articles.groupby(\"TYPE\").agg({\"NAME\": \", \".join})"
      ]
    },
    {
      "cell_type": "code",
      "execution_count": null,
      "metadata": {
        "id": "aCg0WoVwEX7I"
      },
      "outputs": [],
      "source": [
        "articles.groupby(\"TYPE\").mean().loc[:, \"PRICE\"]"
      ]
    },
    {
      "cell_type": "code",
      "source": [
        "from google.colab import drive\n",
        "drive.mount('/content/drive')"
      ],
      "metadata": {
        "id": "rCcZTMuSIvL6"
      },
      "execution_count": null,
      "outputs": []
    },
    {
      "cell_type": "markdown",
      "metadata": {
        "id": "jC23ULmaEX7I"
      },
      "source": [
        "## 5. Content Modification <a id='modification'></a>"
      ]
    },
    {
      "cell_type": "markdown",
      "metadata": {
        "id": "Wb7uBlLhEX7I"
      },
      "source": [
        "More often than not it is desirable to change a `DataFrame`'s content. This could include either adding a new row/column or modify a single or multiple cells at once. Additionally, when having two `DataFrame`s it may be desireable to merge, join, or concatenate these `DataFrame`s.\n",
        "\n",
        "Thus, we take a look at the following:\n",
        "\n",
        "1. Add a new row/column.\n",
        "2. Modify a specific cell or multiple cells.\n",
        "3. Delete row or column.\n",
        "4. Merge or Join two `DataFrame`s.\n",
        "6. Concatenate two or more `DataFrame`s.\n"
      ]
    },
    {
      "cell_type": "code",
      "execution_count": null,
      "metadata": {
        "id": "ONZgT2l5EX7J"
      },
      "outputs": [],
      "source": [
        "df = df_original.copy()"
      ]
    },
    {
      "cell_type": "markdown",
      "metadata": {
        "id": "tcDiBP-mEX7J"
      },
      "source": [
        "### 5.1. Add a New Row or Column"
      ]
    },
    {
      "cell_type": "markdown",
      "metadata": {
        "id": "5BqBmrTiEX7J"
      },
      "source": [
        "Inserting new rows or columns is possible in different ways:\n",
        "1. Select a row or column that does not yet exist and simply assign a value to it.\n",
        "2. Insert a column at a specific position with `insert(loc, column, value)`.\n",
        "3. Append new rows or columns with `concat`. Later more on this method."
      ]
    },
    {
      "cell_type": "markdown",
      "metadata": {
        "id": "_8fLrYTzEX7J"
      },
      "source": [
        "Insert a new row or column by selecting an index that does not yet exist:"
      ]
    },
    {
      "cell_type": "code",
      "execution_count": null,
      "metadata": {
        "id": "j_Bfh5c9EX7J"
      },
      "outputs": [],
      "source": [
        "df.columns"
      ]
    },
    {
      "cell_type": "code",
      "execution_count": null,
      "metadata": {
        "id": "Mw_G4v8eEX7J"
      },
      "outputs": [],
      "source": [
        "df[\"Exam Relevant\"] = [False] + [True] * (df.shape[0] - 1)\n",
        "df"
      ]
    },
    {
      "cell_type": "code",
      "execution_count": null,
      "metadata": {
        "id": "TLkY1LvCEX7J"
      },
      "outputs": [],
      "source": [
        "df.loc[10, \"Lecture Name\"] = \"Unnamed Lecture\"\n",
        "df"
      ]
    },
    {
      "cell_type": "markdown",
      "metadata": {
        "id": "ah0w5PN6EX7J"
      },
      "source": [
        "Add a column with `insert`:"
      ]
    },
    {
      "cell_type": "code",
      "execution_count": null,
      "metadata": {
        "id": "a6MBXXlTEX7K"
      },
      "outputs": [],
      "source": [
        "new_values = [i for i in range(42, 42 + df.shape[0])]\n",
        "df.insert(0, \"Better Number\", new_values)\n",
        "df"
      ]
    },
    {
      "cell_type": "markdown",
      "metadata": {
        "id": "okoEUIZHEX7K"
      },
      "source": [
        "### 5.2. Modify a Specific Cell or Multiple Cells"
      ]
    },
    {
      "cell_type": "markdown",
      "metadata": {
        "id": "hCgz2DNoEX7K"
      },
      "source": [
        "Modifying cells or multiple cells at once can be achieved in various ways: \n",
        "1. using indexing (label-based or index-based), boolean masking or using a callable. For instance, set all lectures \"Done\" column to `True` with boolean masking:"
      ]
    },
    {
      "cell_type": "code",
      "execution_count": null,
      "metadata": {
        "id": "M5rHTrieEX7K"
      },
      "outputs": [],
      "source": [
        "# set all values of attribute \"Done\" to True when False\n",
        "df.loc[df[\"Done\"] == False, \"Done\"] = True\n",
        "df"
      ]
    },
    {
      "cell_type": "markdown",
      "metadata": {
        "id": "hOwN4MGAEX7L"
      },
      "source": [
        "2. `apply` is a useful function able to apply any function along an axis of a `DataFrame`.\n",
        "3. `applymap` applies a function element-wise instead along an axis."
      ]
    },
    {
      "cell_type": "code",
      "execution_count": null,
      "metadata": {
        "id": "ZIZxhS9REX7L"
      },
      "outputs": [],
      "source": [
        "df.loc[:, \"Lecture Name\"] = df.loc[:, \"Lecture Name\"].apply(str.upper)\n",
        "df"
      ]
    },
    {
      "cell_type": "markdown",
      "metadata": {
        "id": "ZuKmrQxYEX7L"
      },
      "source": [
        "It is also possible to use a custom function:"
      ]
    },
    {
      "cell_type": "code",
      "execution_count": null,
      "metadata": {
        "id": "zkZmGIO-EX7L"
      },
      "outputs": [],
      "source": [
        "import random\n",
        "\n",
        "\n",
        "def get_random_weight(x):\n",
        "    return (x - 1) * random.choice(range(10)) / 100\n",
        "\n",
        "\n",
        "df[\"Imaginary Weight\"] = df.loc[:, \"Number\"].apply(get_random_weight)\n",
        "# apply(get_random_weight) is short for apply(lambda x: get_random_weight(x))\n",
        "df"
      ]
    },
    {
      "cell_type": "markdown",
      "metadata": {
        "id": "_8KmTswnEX7M"
      },
      "source": [
        "3. `applymap` is similar to `apply` but is applied elementwise, meaning that it is applied on all cells unlike `apply` which is applied column- or row-wise."
      ]
    },
    {
      "cell_type": "code",
      "execution_count": null,
      "metadata": {
        "id": "nn_u_6muEX7M"
      },
      "outputs": [],
      "source": [
        "length_of_cells = df.applymap(lambda x: len(str(x)))\n",
        "length_of_cells"
      ]
    },
    {
      "cell_type": "markdown",
      "metadata": {
        "id": "5IJb1W4KEX7M"
      },
      "source": [
        "### 5.3. Delete Row or Column"
      ]
    },
    {
      "cell_type": "markdown",
      "metadata": {
        "id": "LM25fATxEX7M"
      },
      "source": [
        "Deleting rows or columns can be done in different ways:\n",
        "1. Selecting everything you want to keep and assign it to the same variable.\n",
        "2. Using function `pop`. This function removes a column from a `DataFrame` and returns the removed row/column as a `Series`.\n",
        "3. Using funciton `drop` to remove a row or column. "
      ]
    },
    {
      "cell_type": "code",
      "execution_count": null,
      "metadata": {
        "id": "sTVXraXEEX7N"
      },
      "outputs": [],
      "source": [
        "df = df.loc[df[\"Exam Relevant\"] == True, :]\n",
        "df"
      ]
    },
    {
      "cell_type": "code",
      "execution_count": null,
      "metadata": {
        "id": "_7cA7MQbEX7N"
      },
      "outputs": [],
      "source": [
        "better_numbers = df.pop(\"Better Number\")\n",
        "df"
      ]
    },
    {
      "cell_type": "code",
      "execution_count": null,
      "metadata": {
        "id": "_x9tyWfOEX7N"
      },
      "outputs": [],
      "source": [
        "better_numbers"
      ]
    },
    {
      "cell_type": "code",
      "execution_count": null,
      "metadata": {
        "id": "FUDZgP8GEX7N"
      },
      "outputs": [],
      "source": [
        "df_wo_exam_relevant = df.drop(\n",
        "    labels=[\"Exam Relevant\"],\n",
        "    axis=1,  # to drop a column. To drop a row set axis=0\n",
        "    inplace=False,  # No inplace drop, this returns the new DataFrame\n",
        ")\n",
        "df_wo_exam_relevant"
      ]
    },
    {
      "cell_type": "markdown",
      "metadata": {
        "id": "6-JxLlgoEX7O"
      },
      "source": [
        "### 5.4. Merge or Join Two `DataFrame`s"
      ]
    },
    {
      "cell_type": "markdown",
      "metadata": {
        "id": "S67YxIm5EX7O"
      },
      "source": [
        "`merge` is a function to join two `DataFrame`s based on some keys (columns). It is similar to `JOIN` in SQL. In pandas another function exists, called `join`. The difference is the following:\n",
        "- `merge` merges or \"joins\" two `DataFrame`s based on columns or indexes.\n",
        "- `merge` can sort join keys lexicographically, add suffixes to columns in result `DataFrame`\n",
        "- Per default, `join` performs a join based on two `DataFrame`s indices.\n",
        "- `join` uses `merge` internally when joining/merging index-on-index or column(s)-on-index.\n",
        "Thus, `join` saves typing time when you want to join or merge two `DataFrame`s by their index.\n",
        "\n",
        "Both `merge` and `join` supports all SQL `JOIN`-operations:\n",
        "\n",
        "| **Method** | **SQL**            | **Description**                                       |\n",
        "|------------|--------------------|-------------------------------------------------------|\n",
        "| `left`     | `LEFT OUTER JOIN`  | Use keys from left `DataFrame` only                   |\n",
        "| `right`    | `RIGHT OUTER JOIN` | Use keys from right `DataFrame` only                  |\n",
        "| `outer`    | `FULL OUTER JOIN`  | Use union of keys on both `DataFrame`s                |\n",
        "| `inner`    | `INNER JOIN`       | Use intersection of keys from both `DataFrame`s       |\n",
        "| `cross`    | `CROSS JOIN`       | Create cartesian product of rows of both `DataFrame`s |\n"
      ]
    },
    {
      "cell_type": "code",
      "execution_count": null,
      "metadata": {
        "id": "a7-J_deQEX7O"
      },
      "outputs": [],
      "source": [
        "# reimport, in case they have been modified\n",
        "from order_example import articles, customers, orders, order_positions"
      ]
    },
    {
      "cell_type": "code",
      "execution_count": null,
      "metadata": {
        "id": "GKMXqfAHEX7O"
      },
      "outputs": [],
      "source": [
        "orders"
      ]
    },
    {
      "cell_type": "code",
      "execution_count": null,
      "metadata": {
        "id": "YdcALqoGEX7O"
      },
      "outputs": [],
      "source": [
        "order_positions"
      ]
    },
    {
      "cell_type": "code",
      "execution_count": null,
      "metadata": {
        "id": "Vl8X-vnnEX7O"
      },
      "outputs": [],
      "source": [
        "customers"
      ]
    },
    {
      "cell_type": "code",
      "execution_count": null,
      "metadata": {
        "id": "6OF9zNPQEX7P"
      },
      "outputs": [],
      "source": [
        "articles"
      ]
    },
    {
      "cell_type": "markdown",
      "metadata": {
        "id": "lgTqCdT1EX7P"
      },
      "source": [
        "Recap:\n",
        "\n",
        "| **Method** | **SQL**            | **Description**                                       |\n",
        "|------------|--------------------|-------------------------------------------------------|\n",
        "| `left`     | `LEFT OUTER JOIN`  | Use keys from left `DataFrame` only                   |\n",
        "| `right`    | `RIGHT OUTER JOIN` | Use keys from right `DataFrame` only                  |\n",
        "| `outer`    | `FULL OUTER JOIN`  | Use union of keys on both `DataFrame`s                |\n",
        "| `inner`    | `INNER JOIN`       | Use intersection of keys from both `DataFrame`s       |\n",
        "| `cross`    | `CROSS JOIN`       | Create cartesian product of rows of both `DataFrame`s |\n"
      ]
    },
    {
      "cell_type": "markdown",
      "metadata": {
        "id": "Kdt2RKP3EX7P"
      },
      "source": [
        "We can easily merge/join the `DataFrame`s `orders` and `customers` to add the names to each order:"
      ]
    },
    {
      "cell_type": "code",
      "execution_count": null,
      "metadata": {
        "id": "tbaphT2xEX7P"
      },
      "outputs": [],
      "source": [
        "pd.merge(orders, customers, on=\"CID\")"
      ]
    },
    {
      "cell_type": "markdown",
      "metadata": {
        "id": "L1mIExFvEX7P"
      },
      "source": [
        "Do we have customers that did not yet buy something?"
      ]
    },
    {
      "cell_type": "code",
      "execution_count": null,
      "metadata": {
        "id": "L5CaNqZcEX7P"
      },
      "outputs": [],
      "source": [
        "outer_join = pd.merge(orders, customers, on=\"CID\", how=\"outer\")\n",
        "customers_no_buy = outer_join[outer_join[\"OID\"].isnull()]\n",
        "customers_no_buy[[\"CID\", \"NAME\"]]"
      ]
    },
    {
      "cell_type": "markdown",
      "metadata": {
        "id": "ZX9Bpm3JEX7Q"
      },
      "source": [
        "<div class=\"alert alert-info\" role=\"alert\">\n",
        "    \n",
        "### Exercise: Join `DataFrame`s `orders` and `order_position`.\n",
        "\n",
        "</div>"
      ]
    },
    {
      "cell_type": "code",
      "execution_count": null,
      "metadata": {
        "tags": [
          "student"
        ],
        "id": "fyIULQs8EX7Q"
      },
      "outputs": [],
      "source": [
        "# TODO type your solution here"
      ]
    },
    {
      "cell_type": "code",
      "execution_count": null,
      "metadata": {
        "tags": [
          "solution"
        ],
        "id": "-u9Z-XYPEX7Q"
      },
      "outputs": [],
      "source": [
        "orders_with_positions = pd.merge(orders, order_positions, on=\"OID\", how=\"inner\")\n",
        "orders_with_positions.head(15)"
      ]
    },
    {
      "cell_type": "markdown",
      "metadata": {
        "id": "PyZ6euIiEX7Q"
      },
      "source": [
        "<div class=\"alert alert-info\" role=\"alert\">\n",
        "\n",
        "### Exercise: Reuse the Previous `DataFrame` and join with `articles`.\n",
        "\n",
        "</div>"
      ]
    },
    {
      "cell_type": "code",
      "execution_count": null,
      "metadata": {
        "tags": [
          "student"
        ],
        "id": "DcHEX-A6EX7Q"
      },
      "outputs": [],
      "source": [
        "# TODO type your solution here"
      ]
    },
    {
      "cell_type": "code",
      "execution_count": null,
      "metadata": {
        "tags": [
          "solution"
        ],
        "id": "fU54MubKEX7Q"
      },
      "outputs": [],
      "source": [
        "op_article = pd.merge(orders_with_positions, articles, on=\"AID\", how=\"inner\")\n",
        "op_article.head(15)"
      ]
    },
    {
      "cell_type": "markdown",
      "metadata": {
        "id": "rZBplCbvEX7Q"
      },
      "source": [
        "<div class=\"alert alert-info\" role=\"alert\">\n",
        "\n",
        "### Exercise: Reuse the Previous `DataFrame` to Calculate Sum of each Order.\n",
        "\n",
        "</div>"
      ]
    },
    {
      "cell_type": "code",
      "execution_count": null,
      "metadata": {
        "tags": [
          "student"
        ],
        "id": "Jpqt3OxGEX7R"
      },
      "outputs": [],
      "source": [
        "# TODO type your solution here"
      ]
    },
    {
      "cell_type": "code",
      "execution_count": null,
      "metadata": {
        "tags": [
          "solution"
        ],
        "id": "Dqji955QEX7R"
      },
      "outputs": [],
      "source": [
        "op_article[\"TOTAL_PRICE\"] = op_article.UNIT * op_article.PRICE\n",
        "order_sums = op_article.groupby(\"OID\").sum()\n",
        "order_sums[[\"TOTAL_PRICE\"]]"
      ]
    },
    {
      "cell_type": "markdown",
      "metadata": {
        "id": "ru72zpnnEX7R"
      },
      "source": [
        "<div class=\"alert alert-info\" role=\"alert\">\n",
        "\n",
        "### Exercise: Reuse the Previous `DataFrame` and Join Customers.\n",
        "\n",
        "</div>"
      ]
    },
    {
      "cell_type": "code",
      "execution_count": null,
      "metadata": {
        "tags": [
          "student"
        ],
        "id": "ME7Cv5y5EX7R"
      },
      "outputs": [],
      "source": [
        "# TODO type your solution here"
      ]
    },
    {
      "cell_type": "code",
      "execution_count": null,
      "metadata": {
        "tags": [
          "solution"
        ],
        "id": "S0d6Lv74EX7R"
      },
      "outputs": [],
      "source": [
        "order_sums = pd.merge(order_sums, customers, on=\"CID\", how=\"inner\")\n",
        "order_sums[[\"NAME\", \"TOTAL_PRICE\"]]"
      ]
    },
    {
      "cell_type": "markdown",
      "metadata": {
        "id": "ZTcGdN3IEX7R"
      },
      "source": [
        "<div class=\"alert alert-info\" role=\"alert\">\n",
        "\n",
        "### Exercise: What Articles Have Not Been Sold Yet?\n",
        "\n",
        "</div>"
      ]
    },
    {
      "cell_type": "code",
      "execution_count": null,
      "metadata": {
        "tags": [
          "student"
        ],
        "id": "9r-PrINDEX7R"
      },
      "outputs": [],
      "source": [
        "# TODO type your solution here"
      ]
    },
    {
      "cell_type": "code",
      "execution_count": null,
      "metadata": {
        "tags": [
          "solution"
        ],
        "id": "hYi5x5gjEX7R"
      },
      "outputs": [],
      "source": [
        "articles_not_sold = pd.merge(order_positions, articles, on=\"AID\", how=\"right\")\n",
        "articles_not_sold = articles_not_sold[articles_not_sold.OID.isna()]\n",
        "articles_not_sold"
      ]
    },
    {
      "cell_type": "code",
      "execution_count": null,
      "metadata": {
        "tags": [
          "solution"
        ],
        "id": "Gp1bNRjTEX7S"
      },
      "outputs": [],
      "source": [
        "# alternatively:\n",
        "articles.loc[~articles.AID.isin(order_positions.AID.unique()), :]"
      ]
    },
    {
      "cell_type": "code",
      "execution_count": null,
      "metadata": {
        "tags": [
          "solution"
        ],
        "id": "ojCUyg5NEX7S"
      },
      "outputs": [],
      "source": [
        "articles.loc[articles.AID.isin(order_positions.AID.unique()) == False, :]"
      ]
    },
    {
      "cell_type": "markdown",
      "metadata": {
        "id": "heb8-uj0EX7S"
      },
      "source": [
        "<div class=\"alert alert-info\" role=\"alert\">\n",
        "\n",
        "### Exercise: What Articles Have Been Sold the Most (Units)?\n",
        "\n",
        "</div>"
      ]
    },
    {
      "cell_type": "code",
      "execution_count": null,
      "metadata": {
        "tags": [
          "student"
        ],
        "id": "id8P0H23EX7S"
      },
      "outputs": [],
      "source": [
        "# TODO type your solution here"
      ]
    },
    {
      "cell_type": "code",
      "execution_count": null,
      "metadata": {
        "tags": [
          "solution"
        ],
        "id": "_NWKDQYFEX7S"
      },
      "outputs": [],
      "source": [
        "# reuse previous DataFrame\n",
        "op_article_sums = op_article.groupby([\"AID\", \"NAME\"]).sum()\n",
        "op_article_sums.sort_values(by=\"UNIT\", ascending=False).iloc[:3, 2]"
      ]
    },
    {
      "cell_type": "markdown",
      "metadata": {
        "id": "j-NQ0lPKEX7S"
      },
      "source": [
        "Our customers have a sweet tooth as they prefer kiwis, strawberries, and water melons."
      ]
    },
    {
      "cell_type": "markdown",
      "metadata": {
        "id": "0uBp9KqgEX7S"
      },
      "source": [
        "<div class=\"alert alert-info\" role=\"alert\">\n",
        "\n",
        "### Exercise: What Articles Have the Highest Revenue?\n",
        "\n",
        "</div>"
      ]
    },
    {
      "cell_type": "code",
      "execution_count": null,
      "metadata": {
        "tags": [
          "student"
        ],
        "id": "zpIhajhgEX7S"
      },
      "outputs": [],
      "source": [
        "# TODO type your solution here"
      ]
    },
    {
      "cell_type": "code",
      "execution_count": null,
      "metadata": {
        "tags": [
          "solution"
        ],
        "id": "3PVS_u9zEX7S"
      },
      "outputs": [],
      "source": [
        "# reuse previous DataFrame\n",
        "op_article_sums.sort_values(by=\"TOTAL_PRICE\", ascending=False).iloc[:3, -1]"
      ]
    },
    {
      "cell_type": "markdown",
      "metadata": {
        "id": "Kp6pfeJtEX7S"
      },
      "source": [
        "### 5.5. Concatenate Two or More `DataFrame`s"
      ]
    },
    {
      "cell_type": "markdown",
      "metadata": {
        "id": "dQFCV6DNEX7T"
      },
      "source": [
        "Concatenation of two or more `DataFrame`s can be achieved - yet again - in multiple ways. In the previous chapter, we already discussed one way of accomplishing concatenation of two `DataFrame`s by means of a cross join. Another way is the use of `concatenate` which is able to concatenate two or more `DataFrame`s column- or row-wise.\n",
        "\n",
        "Let's prepare a function `get_df_with_random_values` and define two `DataFrame`s using this function: `df1`, and `df2`."
      ]
    },
    {
      "cell_type": "code",
      "execution_count": null,
      "metadata": {
        "id": "ozXPOUJmEX7T"
      },
      "outputs": [],
      "source": [
        "def get_df_with_random_values(range_number=10):\n",
        "    return pd.DataFrame(\n",
        "        [\n",
        "            [random.choice(range(range_number)) for _ in range(range_number)]\n",
        "            for _ in range(range_number)\n",
        "        ]\n",
        "    )"
      ]
    },
    {
      "cell_type": "code",
      "execution_count": null,
      "metadata": {
        "id": "ro9XyVX7EX7T"
      },
      "outputs": [],
      "source": [
        "df1 = get_df_with_random_values()\n",
        "df1"
      ]
    },
    {
      "cell_type": "code",
      "execution_count": null,
      "metadata": {
        "id": "GVG2VKVBEX7T"
      },
      "outputs": [],
      "source": [
        "df2 = get_df_with_random_values()\n",
        "df2"
      ]
    },
    {
      "cell_type": "markdown",
      "metadata": {
        "id": "cy6iWOMAEX7T"
      },
      "source": [
        "Concatenate along columns:"
      ]
    },
    {
      "cell_type": "code",
      "execution_count": null,
      "metadata": {
        "id": "EqPWsnFkEX7T"
      },
      "outputs": [],
      "source": [
        "pd.concat([df1, df2], axis=1)"
      ]
    },
    {
      "cell_type": "markdown",
      "metadata": {
        "id": "2CjynF-DEX7T"
      },
      "source": [
        "Concatenate along rows:"
      ]
    },
    {
      "cell_type": "code",
      "execution_count": null,
      "metadata": {
        "id": "gwDAAMPgEX7T"
      },
      "outputs": [],
      "source": [
        "pd.concat([df1, df2], axis=0)"
      ]
    },
    {
      "cell_type": "markdown",
      "metadata": {
        "id": "tO2eN3rlEX7T"
      },
      "source": [
        "## 6. Data Cleaning Operations <a id='cleaning'></a>"
      ]
    },
    {
      "cell_type": "markdown",
      "metadata": {
        "id": "KHm_EWC0EX7T"
      },
      "source": [
        "Pandas has means of data cleaning with functions like:\n",
        "1. Finding missing values with `isna`.\n",
        "2. Filling missing values with `fillna` or interpolate values with `interpolate`.\n",
        "   - `fillna` supports forward and backward filling\n",
        "   - `interpolate` supports various filling methods such as linear, nearest, polynomial, as well as interpolation methods from the library [SciPy](https://docs.scipy.org/doc/scipy/tutorial/interpolate.html). \n",
        "3. Drop missing values with `dropna`.\n",
        "4. Return a boolean mask of duplicates with `duplicated`.\n",
        "5. Drop duplicate rows with `drop_duplicates`."
      ]
    },
    {
      "cell_type": "code",
      "execution_count": null,
      "metadata": {
        "id": "mJKeMUbiEX7U"
      },
      "outputs": [],
      "source": [
        "import numpy as np\n",
        "\n",
        "df_mess = pd.DataFrame(\n",
        "    [\n",
        "        (21, 3.0, 10),\n",
        "        (24, 2.0, 8),\n",
        "        (21, 4.0, 12),\n",
        "        (21, 2.0, 11),\n",
        "        (24, 3.0, 8),\n",
        "        (23, np.nan, 9),\n",
        "        (21, 2.0, 8),\n",
        "        (20, 1.0, 11),\n",
        "        (25, 1.0, 7),\n",
        "        (24, 2.0, 12),\n",
        "        (23, np.nan, 8),\n",
        "        (27, 3.0, 7),\n",
        "        (21, 4.0, 12),\n",
        "        (23, 1.0, 11),\n",
        "        (20, np.nan, 7),\n",
        "        (28, np.nan, 12),\n",
        "        (26, 1.0, 10),\n",
        "        (21, np.nan, 10),\n",
        "        (20, 2.0, 9),\n",
        "        (27, 4.0, 7),\n",
        "    ],\n",
        "    columns=list(\"ABC\"),\n",
        ")\n",
        "df_mess"
      ]
    },
    {
      "cell_type": "code",
      "execution_count": null,
      "metadata": {
        "id": "WjOQxZuFEX7U"
      },
      "outputs": [],
      "source": [
        "# Count how many NaN (Not a Number) values this DataFrame has\n",
        "df_mess.isna().sum()"
      ]
    },
    {
      "cell_type": "code",
      "execution_count": null,
      "metadata": {
        "id": "VydxbqujEX7U"
      },
      "outputs": [],
      "source": [
        "# filling\n",
        "df_mess[\"B\"].interpolate(method=\"linear\", inplace=True)\n",
        "df_mess"
      ]
    },
    {
      "cell_type": "markdown",
      "metadata": {
        "id": "CAJCaIEtEX7U"
      },
      "source": [
        "Let's see if there are any duplicate rows and if, which values they have. Remember, the function `duplicated` returns a boolean mask that can be used to select any rows that contains duplicates. "
      ]
    },
    {
      "cell_type": "code",
      "execution_count": null,
      "metadata": {
        "id": "7aS0Wzp7EX7U"
      },
      "outputs": [],
      "source": [
        "df_mess[df_mess.duplicated()]"
      ]
    },
    {
      "cell_type": "markdown",
      "metadata": {
        "id": "0Y7_6k0MEX7U"
      },
      "source": [
        "The function `drop_duplicates` can retain either the first or the last row of duplicates. Which to retain depends on the context at hand.  In this example, it does not matter which row to keep.\n",
        "\n",
        "In the case, however, this example would be a time series of, let's say, temperature and some other observed signals indexed by time (imagine this index is a time step), then these *duplicates* are none.\n",
        "\n",
        "For now, in this example let's drop duplicates:"
      ]
    },
    {
      "cell_type": "code",
      "execution_count": null,
      "metadata": {
        "id": "JsrgLTvGEX7U"
      },
      "outputs": [],
      "source": [
        "df_mess.drop_duplicates(inplace=True)\n",
        "# verify duplicates have been dropped\n",
        "df_mess[df_mess.duplicated()]"
      ]
    },
    {
      "cell_type": "markdown",
      "metadata": {
        "id": "0joUfWdZEX7U"
      },
      "source": [
        "## 7. Read and Write Data <a id='read_write'></a>"
      ]
    },
    {
      "cell_type": "markdown",
      "metadata": {
        "id": "lkx8WD2AEX7U"
      },
      "source": [
        "Up until now we pushed reading and writing data and instead created a `DataFrame` from scratch. That is, however, not feasible.\n",
        "\n",
        "Pandas offers methods to read and write a `DataFrame` from and to various data formats. Among them are, naturally, column separated files (csv), JSON files, dictionary, string, but also SQL, pickle files, latex, and markdown."
      ]
    },
    {
      "cell_type": "markdown",
      "metadata": {
        "id": "wErMgcwVEX7U"
      },
      "source": [
        "<div class=\"alert alert-info\" role=\"alert\">\n",
        "\n",
        "### Exercise: Write the `DataFrame`s of article, customer, order, and order positions to CSV files.\n",
        "\n",
        "</div>"
      ]
    },
    {
      "cell_type": "code",
      "execution_count": null,
      "metadata": {
        "tags": [
          "student"
        ],
        "id": "bFnm_eX5EX7V"
      },
      "outputs": [],
      "source": [
        "# TODO type your solution here"
      ]
    },
    {
      "cell_type": "code",
      "execution_count": null,
      "metadata": {
        "tags": [
          "solution"
        ],
        "id": "vqlxNdbpEX7V"
      },
      "outputs": [],
      "source": [
        "articles.to_csv(\"articles.csv\", index=False)\n",
        "customers.to_csv(\"customers.csv\", index=False)\n",
        "orders.to_csv(\"orders.csv\", index=False)\n",
        "order_positions.to_csv(\"order_positions.csv\", index=False)"
      ]
    },
    {
      "cell_type": "markdown",
      "metadata": {
        "id": "sqfj2i9yEX7V"
      },
      "source": [
        "## 8. Database Access <a id='database_access'></a>"
      ]
    },
    {
      "cell_type": "markdown",
      "metadata": {
        "id": "bs1sVzhiEX7V"
      },
      "source": [
        "With pandas and its `DataFrame` function `to_sql` it is easy to extract data from database tables or write to a table. For this, `to_sql` requires a database engine. More specifically, a database engine from `sqlalchemy`. Once established and connected to a database, tables can be created, written to, or appended. Likewise, with `from_sql` extracts data from a table and returns it as a `DataFrame`.\n",
        "\n",
        "`sqlalchemy` is an Object Relational Mapper (ORM) that maps (Python) objects, more particularly `DataFrame`s, to tables. For a quick start in ORM in `sqlalchemy` refer to its [documentation](https://docs.sqlalchemy.org/en/14/orm/quickstart.html).\n",
        "\n",
        "Python supports SQLite databases out of the box without any additional packages. Check out Python's [documentation](https://docs.python.org/3/library/sqlite3.html) on how to use SQLite.\n",
        "\n",
        "Back to `sqlalchemy`:\n",
        "In order to use `sqlalchemy` with pandas, we first need to import this library and then create a database engine:"
      ]
    },
    {
      "cell_type": "code",
      "execution_count": null,
      "metadata": {
        "id": "ueszsXuBEX7V"
      },
      "outputs": [],
      "source": [
        "from sqlalchemy import create_engine\n",
        "\n",
        "engine = create_engine(\"sqlite:///orders.db\", echo=False)"
      ]
    },
    {
      "cell_type": "code",
      "execution_count": null,
      "metadata": {
        "id": "kKtoQYWrEX7V"
      },
      "outputs": [],
      "source": [
        "articles.to_sql(name=\"article\", con=engine, index=False)"
      ]
    },
    {
      "cell_type": "markdown",
      "metadata": {
        "id": "bv7Au4uDEX7V"
      },
      "source": [
        "Using Python's SQLite interface is not much different:"
      ]
    },
    {
      "cell_type": "code",
      "execution_count": null,
      "metadata": {
        "id": "wFMgETPsEX7V"
      },
      "outputs": [],
      "source": [
        "import sqlite3\n",
        "\n",
        "sqlite_engine = sqlite3.connect(\":memory:\")"
      ]
    },
    {
      "cell_type": "markdown",
      "metadata": {
        "id": "y5g4rpMZEX7V"
      },
      "source": [
        "With Python's internal SQLite support it is possible to create a in-memory database. You can, however, still persist your database by specifying a file name."
      ]
    },
    {
      "cell_type": "markdown",
      "metadata": {
        "id": "4kSaBP6PEX7W"
      },
      "source": [
        "We can now read this table with `read_sql`. With the parameter `sql`, we can query any table, join tables as we go, or just specify one table name as a short hand for `SELECT * FROM table_name;`."
      ]
    },
    {
      "cell_type": "code",
      "execution_count": null,
      "metadata": {
        "id": "7sUuccB1EX7W"
      },
      "outputs": [],
      "source": [
        "# read article from database\n",
        "articles_db = pd.read_sql(sql=\"article\", con=engine)\n",
        "articles_db"
      ]
    },
    {
      "cell_type": "code",
      "execution_count": null,
      "metadata": {
        "id": "enEH5R8lEX7W"
      },
      "outputs": [],
      "source": [
        "vegetables = pd.read_sql(\n",
        "    sql=\"SELECT * FROM article WHERE TYPE='Vegetable';\", con=engine\n",
        ")\n",
        "vegetables"
      ]
    },
    {
      "cell_type": "markdown",
      "metadata": {
        "id": "jmIGZHEpEX7W"
      },
      "source": [
        "<div class=\"alert alert-info\" role=\"alert\">\n",
        "\n",
        "### Exercise: Write all other `DataFrame`s to the database and access them.\n",
        "\n",
        "</div>"
      ]
    },
    {
      "cell_type": "code",
      "execution_count": null,
      "metadata": {
        "tags": [
          "student"
        ],
        "id": "gaHsxF45EX7W"
      },
      "outputs": [],
      "source": [
        "# TODO type your solution here"
      ]
    },
    {
      "cell_type": "code",
      "execution_count": null,
      "metadata": {
        "tags": [
          "solution"
        ],
        "id": "O0ALMQTnEX7W"
      },
      "outputs": [],
      "source": [
        "customers.to_sql(name=\"customer\", con=engine, index=False)\n",
        "orders.to_sql(name=\"order\", con=engine, index=False)\n",
        "order_positions.to_sql(name=\"order_position\", con=engine, index=False)"
      ]
    },
    {
      "cell_type": "code",
      "execution_count": null,
      "metadata": {
        "tags": [
          "solution"
        ],
        "id": "HavskG31EX7W"
      },
      "outputs": [],
      "source": [
        "customers_db = pd.read_sql(sql=\"customer\", con=engine)\n",
        "customers_db"
      ]
    },
    {
      "cell_type": "markdown",
      "metadata": {
        "id": "6maMqfZnEX7W"
      },
      "source": [
        "<div class=\"alert alert-info\" role=\"alert\">\n",
        "\n",
        "### Exercise: Write a SQL query that returns the top three articles sold unit-wise and print out the returning DataFrame.\n",
        "\n",
        "</div>"
      ]
    },
    {
      "cell_type": "code",
      "execution_count": null,
      "metadata": {
        "tags": [
          "student"
        ],
        "id": "ejO7BTyWEX7X"
      },
      "outputs": [],
      "source": [
        "# TODO type your solution here"
      ]
    },
    {
      "cell_type": "code",
      "execution_count": null,
      "metadata": {
        "tags": [
          "solution"
        ],
        "id": "zcHax3SSEX7X"
      },
      "outputs": [],
      "source": [
        "most_sold_articles = pd.read_sql(\n",
        "    sql=\"\"\"SELECT AID, NAME, sum(UNIT) as UNIT\n",
        "FROM order_position \n",
        "JOIN article using(AID)\n",
        "GROUP BY AID, NAME\n",
        "ORDER BY UNIT DESC\n",
        "LIMIT 3;\"\"\",\n",
        "    con=engine,\n",
        ")\n",
        "most_sold_articles"
      ]
    },
    {
      "cell_type": "markdown",
      "metadata": {
        "id": "sPmSOv9BEX7X"
      },
      "source": [
        "<div class=\"alert alert-info\" role=\"alert\">\n",
        "\n",
        "### Exercise: Likewise, write a SQL query that returns the top three customers revenue-wise and print out the returning DataFrame.\n",
        "\n",
        "</div>"
      ]
    },
    {
      "cell_type": "code",
      "execution_count": null,
      "metadata": {
        "tags": [
          "student"
        ],
        "id": "3KhzXuGjEX7X"
      },
      "outputs": [],
      "source": [
        "# TODO type your solution here"
      ]
    },
    {
      "cell_type": "markdown",
      "metadata": {
        "tags": [
          "solution"
        ],
        "id": "nvJQwN30EX7X"
      },
      "source": [
        "In case you named your table `order`, keep in mind that this word is a reserved keyword and thus, must be quoted. Alternatively, you can name this table differently like `orders` for instance."
      ]
    },
    {
      "cell_type": "code",
      "execution_count": null,
      "metadata": {
        "tags": [
          "solution"
        ],
        "id": "jgjWghNREX7Y"
      },
      "outputs": [],
      "source": [
        "best_customers = pd.read_sql(\n",
        "    sql=\"\"\"SELECT CID, customer.NAME, sum(UNIT * PRICE) as REVENUE\n",
        "FROM order_position\n",
        "JOIN 'order' using(OID)\n",
        "JOIN article using(AID)\n",
        "JOIN customer using(CID)\n",
        "GROUP BY CID, customer.NAME\n",
        "ORDER BY REVENUE DESC\n",
        "LIMIT 3;\"\"\",\n",
        "    con=engine,\n",
        ")\n",
        "best_customers"
      ]
    },
    {
      "cell_type": "markdown",
      "metadata": {
        "id": "YqHg0MCsEX7Y"
      },
      "source": [
        "## What's More?\n",
        "Check out the extensive [user guide](https://pandas.pydata.org/docs/user_guide/index.html#user-guide) for more functionality."
      ]
    }
  ],
  "metadata": {
    "celltoolbar": "Tags",
    "interpreter": {
      "hash": "520e995520d0f28b9f1e7cacfd9ba1493aa60b57e5f0cc1543205df7dd9220a2"
    },
    "kernelspec": {
      "display_name": "Python 3 (ipykernel)",
      "language": "python",
      "name": "python3"
    },
    "language_info": {
      "codemirror_mode": {
        "name": "ipython",
        "version": 3
      },
      "file_extension": ".py",
      "mimetype": "text/x-python",
      "name": "python",
      "nbconvert_exporter": "python",
      "pygments_lexer": "ipython3",
      "version": "3.9.6"
    },
    "colab": {
      "name": "1-b-Pandas.ipynb",
      "provenance": []
    }
  },
  "nbformat": 4,
  "nbformat_minor": 0
}